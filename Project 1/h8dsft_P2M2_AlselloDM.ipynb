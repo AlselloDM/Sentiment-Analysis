{
  "cells": [
    {
      "cell_type": "markdown",
      "metadata": {
        "id": "4hlzB3g9QWs8"
      },
      "source": [
        "# Milestone 2 Phase 2"
      ]
    },
    {
      "cell_type": "markdown",
      "metadata": {
        "id": "uwoz-oZaQWs9"
      },
      "source": [
        ">- Nama      : Alsello Diveni Manuputty\n",
        ">- Batch     : HCK 6 Pondok Indah\n",
        ">- Phase     : 2\n",
        "------\n",
        "**Objective**\n",
        ">Pada notebook ini akan dilakukan pengerjaan Milestone 2 fase 2 dimana akan dibuat model *Neural Language Processing* untuk memprediksi `sentimen` dari twitter. Pada kasus ini, analis ditugaskan oleh salah satu kantor berita untuk membuatkan sebuah model untuk memprediksi sentimen dari data yang berisi tweet. Karena resiko salah klasifikasi cukup fatal, maka perlu dilakukan *modelling* dengan berusaha untuk meningkatkan *`accuracy`* model. Dengan model ini, diharapkan kantor berita bisa meringankan kerja perusahaan dalam proses analisa sentimen dan bisa mengarahkan energi yang tersisa ke pekerjaan lain yang memang butuh seorang manusia untuk melakukannya.\n",
        "\n",
        "**Link Deployment**\n",
        ">Hasil dari notebook ini akan di deploy ke [link](https://huggingface.co/spaces/AlselloDM/Milestone_2_Phase_2) ini.\n",
        "\n",
        "**Problem Statement**\n",
        ">Baru-baru ini, mulai viral pemberitaan mengenai salah satu mantan pilot militer Amerika Serikat David Grusch yang menyatakan bahwa alien itu ada dan pemerintah AS menutup-nutupi kejadian yang pernah dialaminya. Kejadian ini viral karena memang ada pernyataan publik yang dihadiri juga oleh orang-orang yang bersangkutan dari pemerintahan AS dan juga diliput media AS. Pada pernyataan publik tersebut juga dihadiri oleh 2 orang lainnya yang juga memiliki pengalaman yang sama dengan David. Media pemberitaan Indonesia mencari seorang data scientist yang bisa melakukan analisa sentimen publik melalui tweet yang ada di twitter sebagai bahan tambahan dalam melakukan pemberitaan soal ini."
      ]
    },
    {
      "cell_type": "markdown",
      "metadata": {
        "id": "X5C09PVkR2nX"
      },
      "source": [
        "# Import Necessities"
      ]
    },
    {
      "cell_type": "markdown",
      "metadata": {
        "id": "p0nd8T_lQWs9"
      },
      "source": [
        "Sebelum dilakukan pembuatan notebook, akan di import dahulu segala kebutuhannya seperti library, ataupun metrik-metrik yang akan digunakan."
      ]
    },
    {
      "cell_type": "code",
      "execution_count": 1,
      "metadata": {
        "colab": {
          "base_uri": "https://localhost:8080/"
        },
        "id": "GISFvxH4R2nY",
        "outputId": "7b5df83a-9a04-44ea-9f78-42615cabcdb0"
      },
      "outputs": [
        {
          "output_type": "stream",
          "name": "stdout",
          "text": [
            "Requirement already satisfied: nltk in /usr/local/lib/python3.10/dist-packages (3.8.1)\n",
            "Requirement already satisfied: click in /usr/local/lib/python3.10/dist-packages (from nltk) (8.1.6)\n",
            "Requirement already satisfied: joblib in /usr/local/lib/python3.10/dist-packages (from nltk) (1.3.1)\n",
            "Requirement already satisfied: regex>=2021.8.3 in /usr/local/lib/python3.10/dist-packages (from nltk) (2022.10.31)\n",
            "Requirement already satisfied: tqdm in /usr/local/lib/python3.10/dist-packages (from nltk) (4.65.0)\n",
            "Requirement already satisfied: gensim in /usr/local/lib/python3.10/dist-packages (4.3.1)\n",
            "Requirement already satisfied: numpy>=1.18.5 in /usr/local/lib/python3.10/dist-packages (from gensim) (1.22.4)\n",
            "Requirement already satisfied: scipy>=1.7.0 in /usr/local/lib/python3.10/dist-packages (from gensim) (1.10.1)\n",
            "Requirement already satisfied: smart-open>=1.8.1 in /usr/local/lib/python3.10/dist-packages (from gensim) (6.3.0)\n"
          ]
        }
      ],
      "source": [
        "!pip install nltk\n",
        "!pip install gensim"
      ]
    },
    {
      "cell_type": "code",
      "execution_count": 2,
      "metadata": {
        "colab": {
          "base_uri": "https://localhost:8080/"
        },
        "id": "MAIdLbXlR2nZ",
        "outputId": "fbc6ca00-0826-4e58-c709-f98e191bf77f"
      },
      "outputs": [
        {
          "output_type": "stream",
          "name": "stderr",
          "text": [
            "[nltk_data] Downloading package punkt to /root/nltk_data...\n",
            "[nltk_data]   Unzipping tokenizers/punkt.zip.\n",
            "[nltk_data] Downloading package stopwords to /root/nltk_data...\n",
            "[nltk_data]   Unzipping corpora/stopwords.zip.\n",
            "[nltk_data] Downloading package wordnet to /root/nltk_data...\n"
          ]
        }
      ],
      "source": [
        "import pandas as pd\n",
        "import numpy as np\n",
        "import re\n",
        "import string\n",
        "\n",
        "import matplotlib.pyplot as plt\n",
        "import seaborn as sns\n",
        "from matplotlib.pyplot import figure\n",
        "from sklearn.preprocessing import OneHotEncoder\n",
        "from sklearn.metrics import classification_report, confusion_matrix\n",
        "\n",
        "import nltk\n",
        "nltk.download('punkt')\n",
        "from nltk.tokenize import sent_tokenize, word_tokenize\n",
        "from nltk.probability import FreqDist\n",
        "nltk.download('stopwords')\n",
        "from nltk.corpus import stopwords\n",
        "from nltk.stem import PorterStemmer\n",
        "nltk.download('wordnet')\n",
        "from nltk.stem.wordnet import WordNetLemmatizer\n",
        "\n",
        "import tensorflow as tf\n",
        "from tensorflow.keras.preprocessing.text import Tokenizer\n",
        "from tensorflow.keras.preprocessing.sequence import pad_sequences\n",
        "from tensorflow.keras import Sequential\n",
        "from tensorflow.keras.layers import TextVectorization,Bidirectional, GlobalMaxPool1D, Dense, LSTM, Conv1D, Embedding\n",
        "from tensorflow.keras.callbacks import ReduceLROnPlateau,EarlyStopping\n",
        "import gensim\n",
        "from gensim.models import Word2Vec\n",
        "\n",
        "sns.set_style(\"whitegrid\")\n",
        "import warnings\n",
        "warnings.filterwarnings('ignore')"
      ]
    },
    {
      "cell_type": "code",
      "execution_count": 3,
      "metadata": {
        "id": "jJMF8UglR2nZ"
      },
      "outputs": [],
      "source": [
        "# function warna\n",
        "def random_colours(number_of_colors):\n",
        "    colors = []\n",
        "    for i in range(number_of_colors):\n",
        "        colors.append(\"#\"+''.join([random.choice('#E86DA4') for j in range(6)]))\n",
        "    return colors"
      ]
    },
    {
      "cell_type": "markdown",
      "metadata": {
        "id": "cLI9QZxER2na"
      },
      "source": [
        "# Data Loading"
      ]
    },
    {
      "cell_type": "markdown",
      "metadata": {
        "id": "ex2xQt6OQWs_"
      },
      "source": [
        "Untuk pengerjaan notebook ini, digunakan dataset [ini](https://www.kaggle.com/datasets/jp797498e/twitter-entity-sentiment-analysis) untuk proses training model."
      ]
    },
    {
      "cell_type": "code",
      "execution_count": 4,
      "metadata": {
        "colab": {
          "base_uri": "https://localhost:8080/",
          "height": 206
        },
        "id": "8aOWKee5R2na",
        "outputId": "079c842e-0d02-4c2d-afe1-68a0c20d7104"
      },
      "outputs": [
        {
          "output_type": "execute_result",
          "data": {
            "text/plain": [
              "      0            1         2  \\\n",
              "0  2401  Borderlands  Positive   \n",
              "1  2401  Borderlands  Positive   \n",
              "2  2401  Borderlands  Positive   \n",
              "3  2401  Borderlands  Positive   \n",
              "4  2401  Borderlands  Positive   \n",
              "\n",
              "                                                   3  \n",
              "0  im getting on borderlands and i will murder yo...  \n",
              "1  I am coming to the borders and I will kill you...  \n",
              "2  im getting on borderlands and i will kill you ...  \n",
              "3  im coming on borderlands and i will murder you...  \n",
              "4  im getting on borderlands 2 and i will murder ...  "
            ],
            "text/html": [
              "\n",
              "\n",
              "  <div id=\"df-e7fdd331-f4bb-401b-9b0a-84167648ba8b\">\n",
              "    <div class=\"colab-df-container\">\n",
              "      <div>\n",
              "<style scoped>\n",
              "    .dataframe tbody tr th:only-of-type {\n",
              "        vertical-align: middle;\n",
              "    }\n",
              "\n",
              "    .dataframe tbody tr th {\n",
              "        vertical-align: top;\n",
              "    }\n",
              "\n",
              "    .dataframe thead th {\n",
              "        text-align: right;\n",
              "    }\n",
              "</style>\n",
              "<table border=\"1\" class=\"dataframe\">\n",
              "  <thead>\n",
              "    <tr style=\"text-align: right;\">\n",
              "      <th></th>\n",
              "      <th>0</th>\n",
              "      <th>1</th>\n",
              "      <th>2</th>\n",
              "      <th>3</th>\n",
              "    </tr>\n",
              "  </thead>\n",
              "  <tbody>\n",
              "    <tr>\n",
              "      <th>0</th>\n",
              "      <td>2401</td>\n",
              "      <td>Borderlands</td>\n",
              "      <td>Positive</td>\n",
              "      <td>im getting on borderlands and i will murder yo...</td>\n",
              "    </tr>\n",
              "    <tr>\n",
              "      <th>1</th>\n",
              "      <td>2401</td>\n",
              "      <td>Borderlands</td>\n",
              "      <td>Positive</td>\n",
              "      <td>I am coming to the borders and I will kill you...</td>\n",
              "    </tr>\n",
              "    <tr>\n",
              "      <th>2</th>\n",
              "      <td>2401</td>\n",
              "      <td>Borderlands</td>\n",
              "      <td>Positive</td>\n",
              "      <td>im getting on borderlands and i will kill you ...</td>\n",
              "    </tr>\n",
              "    <tr>\n",
              "      <th>3</th>\n",
              "      <td>2401</td>\n",
              "      <td>Borderlands</td>\n",
              "      <td>Positive</td>\n",
              "      <td>im coming on borderlands and i will murder you...</td>\n",
              "    </tr>\n",
              "    <tr>\n",
              "      <th>4</th>\n",
              "      <td>2401</td>\n",
              "      <td>Borderlands</td>\n",
              "      <td>Positive</td>\n",
              "      <td>im getting on borderlands 2 and i will murder ...</td>\n",
              "    </tr>\n",
              "  </tbody>\n",
              "</table>\n",
              "</div>\n",
              "      <button class=\"colab-df-convert\" onclick=\"convertToInteractive('df-e7fdd331-f4bb-401b-9b0a-84167648ba8b')\"\n",
              "              title=\"Convert this dataframe to an interactive table.\"\n",
              "              style=\"display:none;\">\n",
              "\n",
              "  <svg xmlns=\"http://www.w3.org/2000/svg\" height=\"24px\"viewBox=\"0 0 24 24\"\n",
              "       width=\"24px\">\n",
              "    <path d=\"M0 0h24v24H0V0z\" fill=\"none\"/>\n",
              "    <path d=\"M18.56 5.44l.94 2.06.94-2.06 2.06-.94-2.06-.94-.94-2.06-.94 2.06-2.06.94zm-11 1L8.5 8.5l.94-2.06 2.06-.94-2.06-.94L8.5 2.5l-.94 2.06-2.06.94zm10 10l.94 2.06.94-2.06 2.06-.94-2.06-.94-.94-2.06-.94 2.06-2.06.94z\"/><path d=\"M17.41 7.96l-1.37-1.37c-.4-.4-.92-.59-1.43-.59-.52 0-1.04.2-1.43.59L10.3 9.45l-7.72 7.72c-.78.78-.78 2.05 0 2.83L4 21.41c.39.39.9.59 1.41.59.51 0 1.02-.2 1.41-.59l7.78-7.78 2.81-2.81c.8-.78.8-2.07 0-2.86zM5.41 20L4 18.59l7.72-7.72 1.47 1.35L5.41 20z\"/>\n",
              "  </svg>\n",
              "      </button>\n",
              "\n",
              "\n",
              "\n",
              "    <div id=\"df-1dc0e47c-037c-4eb8-b2f5-e6a9e3dc7c3e\">\n",
              "      <button class=\"colab-df-quickchart\" onclick=\"quickchart('df-1dc0e47c-037c-4eb8-b2f5-e6a9e3dc7c3e')\"\n",
              "              title=\"Suggest charts.\"\n",
              "              style=\"display:none;\">\n",
              "\n",
              "<svg xmlns=\"http://www.w3.org/2000/svg\" height=\"24px\"viewBox=\"0 0 24 24\"\n",
              "     width=\"24px\">\n",
              "    <g>\n",
              "        <path d=\"M19 3H5c-1.1 0-2 .9-2 2v14c0 1.1.9 2 2 2h14c1.1 0 2-.9 2-2V5c0-1.1-.9-2-2-2zM9 17H7v-7h2v7zm4 0h-2V7h2v10zm4 0h-2v-4h2v4z\"/>\n",
              "    </g>\n",
              "</svg>\n",
              "      </button>\n",
              "    </div>\n",
              "\n",
              "<style>\n",
              "  .colab-df-quickchart {\n",
              "    background-color: #E8F0FE;\n",
              "    border: none;\n",
              "    border-radius: 50%;\n",
              "    cursor: pointer;\n",
              "    display: none;\n",
              "    fill: #1967D2;\n",
              "    height: 32px;\n",
              "    padding: 0 0 0 0;\n",
              "    width: 32px;\n",
              "  }\n",
              "\n",
              "  .colab-df-quickchart:hover {\n",
              "    background-color: #E2EBFA;\n",
              "    box-shadow: 0px 1px 2px rgba(60, 64, 67, 0.3), 0px 1px 3px 1px rgba(60, 64, 67, 0.15);\n",
              "    fill: #174EA6;\n",
              "  }\n",
              "\n",
              "  [theme=dark] .colab-df-quickchart {\n",
              "    background-color: #3B4455;\n",
              "    fill: #D2E3FC;\n",
              "  }\n",
              "\n",
              "  [theme=dark] .colab-df-quickchart:hover {\n",
              "    background-color: #434B5C;\n",
              "    box-shadow: 0px 1px 3px 1px rgba(0, 0, 0, 0.15);\n",
              "    filter: drop-shadow(0px 1px 2px rgba(0, 0, 0, 0.3));\n",
              "    fill: #FFFFFF;\n",
              "  }\n",
              "</style>\n",
              "\n",
              "    <script>\n",
              "      async function quickchart(key) {\n",
              "        const containerElement = document.querySelector('#' + key);\n",
              "        const charts = await google.colab.kernel.invokeFunction(\n",
              "            'suggestCharts', [key], {});\n",
              "      }\n",
              "    </script>\n",
              "\n",
              "      <script>\n",
              "\n",
              "function displayQuickchartButton(domScope) {\n",
              "  let quickchartButtonEl =\n",
              "    domScope.querySelector('#df-1dc0e47c-037c-4eb8-b2f5-e6a9e3dc7c3e button.colab-df-quickchart');\n",
              "  quickchartButtonEl.style.display =\n",
              "    google.colab.kernel.accessAllowed ? 'block' : 'none';\n",
              "}\n",
              "\n",
              "        displayQuickchartButton(document);\n",
              "      </script>\n",
              "      <style>\n",
              "    .colab-df-container {\n",
              "      display:flex;\n",
              "      flex-wrap:wrap;\n",
              "      gap: 12px;\n",
              "    }\n",
              "\n",
              "    .colab-df-convert {\n",
              "      background-color: #E8F0FE;\n",
              "      border: none;\n",
              "      border-radius: 50%;\n",
              "      cursor: pointer;\n",
              "      display: none;\n",
              "      fill: #1967D2;\n",
              "      height: 32px;\n",
              "      padding: 0 0 0 0;\n",
              "      width: 32px;\n",
              "    }\n",
              "\n",
              "    .colab-df-convert:hover {\n",
              "      background-color: #E2EBFA;\n",
              "      box-shadow: 0px 1px 2px rgba(60, 64, 67, 0.3), 0px 1px 3px 1px rgba(60, 64, 67, 0.15);\n",
              "      fill: #174EA6;\n",
              "    }\n",
              "\n",
              "    [theme=dark] .colab-df-convert {\n",
              "      background-color: #3B4455;\n",
              "      fill: #D2E3FC;\n",
              "    }\n",
              "\n",
              "    [theme=dark] .colab-df-convert:hover {\n",
              "      background-color: #434B5C;\n",
              "      box-shadow: 0px 1px 3px 1px rgba(0, 0, 0, 0.15);\n",
              "      filter: drop-shadow(0px 1px 2px rgba(0, 0, 0, 0.3));\n",
              "      fill: #FFFFFF;\n",
              "    }\n",
              "  </style>\n",
              "\n",
              "      <script>\n",
              "        const buttonEl =\n",
              "          document.querySelector('#df-e7fdd331-f4bb-401b-9b0a-84167648ba8b button.colab-df-convert');\n",
              "        buttonEl.style.display =\n",
              "          google.colab.kernel.accessAllowed ? 'block' : 'none';\n",
              "\n",
              "        async function convertToInteractive(key) {\n",
              "          const element = document.querySelector('#df-e7fdd331-f4bb-401b-9b0a-84167648ba8b');\n",
              "          const dataTable =\n",
              "            await google.colab.kernel.invokeFunction('convertToInteractive',\n",
              "                                                     [key], {});\n",
              "          if (!dataTable) return;\n",
              "\n",
              "          const docLinkHtml = 'Like what you see? Visit the ' +\n",
              "            '<a target=\"_blank\" href=https://colab.research.google.com/notebooks/data_table.ipynb>data table notebook</a>'\n",
              "            + ' to learn more about interactive tables.';\n",
              "          element.innerHTML = '';\n",
              "          dataTable['output_type'] = 'display_data';\n",
              "          await google.colab.output.renderOutput(dataTable, element);\n",
              "          const docLink = document.createElement('div');\n",
              "          docLink.innerHTML = docLinkHtml;\n",
              "          element.appendChild(docLink);\n",
              "        }\n",
              "      </script>\n",
              "    </div>\n",
              "  </div>\n"
            ]
          },
          "metadata": {},
          "execution_count": 4
        }
      ],
      "source": [
        "# data loading\n",
        "mentah = pd.read_csv('/content/twitter_training.csv',header = None)\n",
        "mentah.head()"
      ]
    },
    {
      "cell_type": "markdown",
      "metadata": {
        "id": "-_tmlpfAQWs_"
      },
      "source": [
        "Selanjutnya akan diberi nama kolom untuk memudahkan proses selanjutnya."
      ]
    },
    {
      "cell_type": "code",
      "execution_count": 5,
      "metadata": {
        "colab": {
          "base_uri": "https://localhost:8080/",
          "height": 206
        },
        "id": "3GXwNNT1R2na",
        "outputId": "e163688f-7c2c-4c71-e367-b9e0730b9434"
      },
      "outputs": [
        {
          "output_type": "execute_result",
          "data": {
            "text/plain": [
              "     id         type sentiment  \\\n",
              "0  2401  Borderlands  Positive   \n",
              "1  2401  Borderlands  Positive   \n",
              "2  2401  Borderlands  Positive   \n",
              "3  2401  Borderlands  Positive   \n",
              "4  2401  Borderlands  Positive   \n",
              "\n",
              "                                               tweet  \n",
              "0  im getting on borderlands and i will murder yo...  \n",
              "1  I am coming to the borders and I will kill you...  \n",
              "2  im getting on borderlands and i will kill you ...  \n",
              "3  im coming on borderlands and i will murder you...  \n",
              "4  im getting on borderlands 2 and i will murder ...  "
            ],
            "text/html": [
              "\n",
              "\n",
              "  <div id=\"df-b03feb50-5edc-4389-ae23-d188ad094522\">\n",
              "    <div class=\"colab-df-container\">\n",
              "      <div>\n",
              "<style scoped>\n",
              "    .dataframe tbody tr th:only-of-type {\n",
              "        vertical-align: middle;\n",
              "    }\n",
              "\n",
              "    .dataframe tbody tr th {\n",
              "        vertical-align: top;\n",
              "    }\n",
              "\n",
              "    .dataframe thead th {\n",
              "        text-align: right;\n",
              "    }\n",
              "</style>\n",
              "<table border=\"1\" class=\"dataframe\">\n",
              "  <thead>\n",
              "    <tr style=\"text-align: right;\">\n",
              "      <th></th>\n",
              "      <th>id</th>\n",
              "      <th>type</th>\n",
              "      <th>sentiment</th>\n",
              "      <th>tweet</th>\n",
              "    </tr>\n",
              "  </thead>\n",
              "  <tbody>\n",
              "    <tr>\n",
              "      <th>0</th>\n",
              "      <td>2401</td>\n",
              "      <td>Borderlands</td>\n",
              "      <td>Positive</td>\n",
              "      <td>im getting on borderlands and i will murder yo...</td>\n",
              "    </tr>\n",
              "    <tr>\n",
              "      <th>1</th>\n",
              "      <td>2401</td>\n",
              "      <td>Borderlands</td>\n",
              "      <td>Positive</td>\n",
              "      <td>I am coming to the borders and I will kill you...</td>\n",
              "    </tr>\n",
              "    <tr>\n",
              "      <th>2</th>\n",
              "      <td>2401</td>\n",
              "      <td>Borderlands</td>\n",
              "      <td>Positive</td>\n",
              "      <td>im getting on borderlands and i will kill you ...</td>\n",
              "    </tr>\n",
              "    <tr>\n",
              "      <th>3</th>\n",
              "      <td>2401</td>\n",
              "      <td>Borderlands</td>\n",
              "      <td>Positive</td>\n",
              "      <td>im coming on borderlands and i will murder you...</td>\n",
              "    </tr>\n",
              "    <tr>\n",
              "      <th>4</th>\n",
              "      <td>2401</td>\n",
              "      <td>Borderlands</td>\n",
              "      <td>Positive</td>\n",
              "      <td>im getting on borderlands 2 and i will murder ...</td>\n",
              "    </tr>\n",
              "  </tbody>\n",
              "</table>\n",
              "</div>\n",
              "      <button class=\"colab-df-convert\" onclick=\"convertToInteractive('df-b03feb50-5edc-4389-ae23-d188ad094522')\"\n",
              "              title=\"Convert this dataframe to an interactive table.\"\n",
              "              style=\"display:none;\">\n",
              "\n",
              "  <svg xmlns=\"http://www.w3.org/2000/svg\" height=\"24px\"viewBox=\"0 0 24 24\"\n",
              "       width=\"24px\">\n",
              "    <path d=\"M0 0h24v24H0V0z\" fill=\"none\"/>\n",
              "    <path d=\"M18.56 5.44l.94 2.06.94-2.06 2.06-.94-2.06-.94-.94-2.06-.94 2.06-2.06.94zm-11 1L8.5 8.5l.94-2.06 2.06-.94-2.06-.94L8.5 2.5l-.94 2.06-2.06.94zm10 10l.94 2.06.94-2.06 2.06-.94-2.06-.94-.94-2.06-.94 2.06-2.06.94z\"/><path d=\"M17.41 7.96l-1.37-1.37c-.4-.4-.92-.59-1.43-.59-.52 0-1.04.2-1.43.59L10.3 9.45l-7.72 7.72c-.78.78-.78 2.05 0 2.83L4 21.41c.39.39.9.59 1.41.59.51 0 1.02-.2 1.41-.59l7.78-7.78 2.81-2.81c.8-.78.8-2.07 0-2.86zM5.41 20L4 18.59l7.72-7.72 1.47 1.35L5.41 20z\"/>\n",
              "  </svg>\n",
              "      </button>\n",
              "\n",
              "\n",
              "\n",
              "    <div id=\"df-e5c68486-7cf1-4ce6-8ba7-c5eecf98c9b1\">\n",
              "      <button class=\"colab-df-quickchart\" onclick=\"quickchart('df-e5c68486-7cf1-4ce6-8ba7-c5eecf98c9b1')\"\n",
              "              title=\"Suggest charts.\"\n",
              "              style=\"display:none;\">\n",
              "\n",
              "<svg xmlns=\"http://www.w3.org/2000/svg\" height=\"24px\"viewBox=\"0 0 24 24\"\n",
              "     width=\"24px\">\n",
              "    <g>\n",
              "        <path d=\"M19 3H5c-1.1 0-2 .9-2 2v14c0 1.1.9 2 2 2h14c1.1 0 2-.9 2-2V5c0-1.1-.9-2-2-2zM9 17H7v-7h2v7zm4 0h-2V7h2v10zm4 0h-2v-4h2v4z\"/>\n",
              "    </g>\n",
              "</svg>\n",
              "      </button>\n",
              "    </div>\n",
              "\n",
              "<style>\n",
              "  .colab-df-quickchart {\n",
              "    background-color: #E8F0FE;\n",
              "    border: none;\n",
              "    border-radius: 50%;\n",
              "    cursor: pointer;\n",
              "    display: none;\n",
              "    fill: #1967D2;\n",
              "    height: 32px;\n",
              "    padding: 0 0 0 0;\n",
              "    width: 32px;\n",
              "  }\n",
              "\n",
              "  .colab-df-quickchart:hover {\n",
              "    background-color: #E2EBFA;\n",
              "    box-shadow: 0px 1px 2px rgba(60, 64, 67, 0.3), 0px 1px 3px 1px rgba(60, 64, 67, 0.15);\n",
              "    fill: #174EA6;\n",
              "  }\n",
              "\n",
              "  [theme=dark] .colab-df-quickchart {\n",
              "    background-color: #3B4455;\n",
              "    fill: #D2E3FC;\n",
              "  }\n",
              "\n",
              "  [theme=dark] .colab-df-quickchart:hover {\n",
              "    background-color: #434B5C;\n",
              "    box-shadow: 0px 1px 3px 1px rgba(0, 0, 0, 0.15);\n",
              "    filter: drop-shadow(0px 1px 2px rgba(0, 0, 0, 0.3));\n",
              "    fill: #FFFFFF;\n",
              "  }\n",
              "</style>\n",
              "\n",
              "    <script>\n",
              "      async function quickchart(key) {\n",
              "        const containerElement = document.querySelector('#' + key);\n",
              "        const charts = await google.colab.kernel.invokeFunction(\n",
              "            'suggestCharts', [key], {});\n",
              "      }\n",
              "    </script>\n",
              "\n",
              "      <script>\n",
              "\n",
              "function displayQuickchartButton(domScope) {\n",
              "  let quickchartButtonEl =\n",
              "    domScope.querySelector('#df-e5c68486-7cf1-4ce6-8ba7-c5eecf98c9b1 button.colab-df-quickchart');\n",
              "  quickchartButtonEl.style.display =\n",
              "    google.colab.kernel.accessAllowed ? 'block' : 'none';\n",
              "}\n",
              "\n",
              "        displayQuickchartButton(document);\n",
              "      </script>\n",
              "      <style>\n",
              "    .colab-df-container {\n",
              "      display:flex;\n",
              "      flex-wrap:wrap;\n",
              "      gap: 12px;\n",
              "    }\n",
              "\n",
              "    .colab-df-convert {\n",
              "      background-color: #E8F0FE;\n",
              "      border: none;\n",
              "      border-radius: 50%;\n",
              "      cursor: pointer;\n",
              "      display: none;\n",
              "      fill: #1967D2;\n",
              "      height: 32px;\n",
              "      padding: 0 0 0 0;\n",
              "      width: 32px;\n",
              "    }\n",
              "\n",
              "    .colab-df-convert:hover {\n",
              "      background-color: #E2EBFA;\n",
              "      box-shadow: 0px 1px 2px rgba(60, 64, 67, 0.3), 0px 1px 3px 1px rgba(60, 64, 67, 0.15);\n",
              "      fill: #174EA6;\n",
              "    }\n",
              "\n",
              "    [theme=dark] .colab-df-convert {\n",
              "      background-color: #3B4455;\n",
              "      fill: #D2E3FC;\n",
              "    }\n",
              "\n",
              "    [theme=dark] .colab-df-convert:hover {\n",
              "      background-color: #434B5C;\n",
              "      box-shadow: 0px 1px 3px 1px rgba(0, 0, 0, 0.15);\n",
              "      filter: drop-shadow(0px 1px 2px rgba(0, 0, 0, 0.3));\n",
              "      fill: #FFFFFF;\n",
              "    }\n",
              "  </style>\n",
              "\n",
              "      <script>\n",
              "        const buttonEl =\n",
              "          document.querySelector('#df-b03feb50-5edc-4389-ae23-d188ad094522 button.colab-df-convert');\n",
              "        buttonEl.style.display =\n",
              "          google.colab.kernel.accessAllowed ? 'block' : 'none';\n",
              "\n",
              "        async function convertToInteractive(key) {\n",
              "          const element = document.querySelector('#df-b03feb50-5edc-4389-ae23-d188ad094522');\n",
              "          const dataTable =\n",
              "            await google.colab.kernel.invokeFunction('convertToInteractive',\n",
              "                                                     [key], {});\n",
              "          if (!dataTable) return;\n",
              "\n",
              "          const docLinkHtml = 'Like what you see? Visit the ' +\n",
              "            '<a target=\"_blank\" href=https://colab.research.google.com/notebooks/data_table.ipynb>data table notebook</a>'\n",
              "            + ' to learn more about interactive tables.';\n",
              "          element.innerHTML = '';\n",
              "          dataTable['output_type'] = 'display_data';\n",
              "          await google.colab.output.renderOutput(dataTable, element);\n",
              "          const docLink = document.createElement('div');\n",
              "          docLink.innerHTML = docLinkHtml;\n",
              "          element.appendChild(docLink);\n",
              "        }\n",
              "      </script>\n",
              "    </div>\n",
              "  </div>\n"
            ]
          },
          "metadata": {},
          "execution_count": 5
        }
      ],
      "source": [
        "# mengganti nama kolom\n",
        "new_columns=[\"id\",\"type\",\"sentiment\",\"tweet\"]\n",
        "mentah.columns = new_columns\n",
        "mentah.head()"
      ]
    },
    {
      "cell_type": "markdown",
      "metadata": {
        "id": "pmRt282BQWs_"
      },
      "source": [
        "### Data Overview\n",
        "Supaya lebih jelas, akan dilakukan serangkaian proses data overview."
      ]
    },
    {
      "cell_type": "code",
      "execution_count": 6,
      "metadata": {
        "colab": {
          "base_uri": "https://localhost:8080/"
        },
        "id": "wY5DuJJnR2na",
        "outputId": "035623dd-604f-4fe1-f605-6d605140ecc0"
      },
      "outputs": [
        {
          "output_type": "stream",
          "name": "stdout",
          "text": [
            "<class 'pandas.core.frame.DataFrame'>\n",
            "RangeIndex: 74682 entries, 0 to 74681\n",
            "Data columns (total 4 columns):\n",
            " #   Column     Non-Null Count  Dtype \n",
            "---  ------     --------------  ----- \n",
            " 0   id         74682 non-null  int64 \n",
            " 1   type       74682 non-null  object\n",
            " 2   sentiment  74682 non-null  object\n",
            " 3   tweet      73996 non-null  object\n",
            "dtypes: int64(1), object(3)\n",
            "memory usage: 2.3+ MB\n"
          ]
        }
      ],
      "source": [
        "mentah.info()"
      ]
    },
    {
      "cell_type": "code",
      "execution_count": 7,
      "metadata": {
        "colab": {
          "base_uri": "https://localhost:8080/"
        },
        "id": "L30_64R6R2nb",
        "outputId": "674eb7e6-7cf0-4393-eb9b-990ab70ed7ee"
      },
      "outputs": [
        {
          "output_type": "execute_result",
          "data": {
            "text/plain": [
              "(74682, 4)"
            ]
          },
          "metadata": {},
          "execution_count": 7
        }
      ],
      "source": [
        "mentah.shape"
      ]
    },
    {
      "cell_type": "code",
      "execution_count": 8,
      "metadata": {
        "colab": {
          "base_uri": "https://localhost:8080/"
        },
        "id": "yYeAXs3HR2nb",
        "outputId": "226d1804-3c6d-4259-d2fa-484992e0d4f7"
      },
      "outputs": [
        {
          "output_type": "execute_result",
          "data": {
            "text/plain": [
              "id             0\n",
              "type           0\n",
              "sentiment      0\n",
              "tweet        686\n",
              "dtype: int64"
            ]
          },
          "metadata": {},
          "execution_count": 8
        }
      ],
      "source": [
        "mentah.isnull().sum()"
      ]
    },
    {
      "cell_type": "markdown",
      "metadata": {
        "id": "_-9tYzDNQWtA"
      },
      "source": [
        "Dari list kolom, terlihat bahwa ada 2 kolom yang tidak terlalu penting dalam analisis. Oleh karena itu akan dibuang saja."
      ]
    },
    {
      "cell_type": "code",
      "execution_count": 9,
      "metadata": {
        "id": "PZC_X_AjR2nb"
      },
      "outputs": [],
      "source": [
        "mentah.drop(columns= ['id','type'], inplace=True)"
      ]
    },
    {
      "cell_type": "code",
      "execution_count": 10,
      "metadata": {
        "colab": {
          "base_uri": "https://localhost:8080/",
          "height": 423
        },
        "id": "4jbvdFJJR2nb",
        "outputId": "81c80881-d7f5-4643-8703-f9f4fa91fe25"
      },
      "outputs": [
        {
          "output_type": "execute_result",
          "data": {
            "text/plain": [
              "      sentiment                                              tweet\n",
              "0      Positive  im getting on borderlands and i will murder yo...\n",
              "1      Positive  I am coming to the borders and I will kill you...\n",
              "2      Positive  im getting on borderlands and i will kill you ...\n",
              "3      Positive  im coming on borderlands and i will murder you...\n",
              "4      Positive  im getting on borderlands 2 and i will murder ...\n",
              "...         ...                                                ...\n",
              "74677  Positive  Just realized that the Windows partition of my...\n",
              "74678  Positive  Just realized that my Mac window partition is ...\n",
              "74679  Positive  Just realized the windows partition of my Mac ...\n",
              "74680  Positive  Just realized between the windows partition of...\n",
              "74681  Positive  Just like the windows partition of my Mac is l...\n",
              "\n",
              "[74682 rows x 2 columns]"
            ],
            "text/html": [
              "\n",
              "\n",
              "  <div id=\"df-fcd04e9b-7e1f-4756-84f5-d2ef0e3fa59a\">\n",
              "    <div class=\"colab-df-container\">\n",
              "      <div>\n",
              "<style scoped>\n",
              "    .dataframe tbody tr th:only-of-type {\n",
              "        vertical-align: middle;\n",
              "    }\n",
              "\n",
              "    .dataframe tbody tr th {\n",
              "        vertical-align: top;\n",
              "    }\n",
              "\n",
              "    .dataframe thead th {\n",
              "        text-align: right;\n",
              "    }\n",
              "</style>\n",
              "<table border=\"1\" class=\"dataframe\">\n",
              "  <thead>\n",
              "    <tr style=\"text-align: right;\">\n",
              "      <th></th>\n",
              "      <th>sentiment</th>\n",
              "      <th>tweet</th>\n",
              "    </tr>\n",
              "  </thead>\n",
              "  <tbody>\n",
              "    <tr>\n",
              "      <th>0</th>\n",
              "      <td>Positive</td>\n",
              "      <td>im getting on borderlands and i will murder yo...</td>\n",
              "    </tr>\n",
              "    <tr>\n",
              "      <th>1</th>\n",
              "      <td>Positive</td>\n",
              "      <td>I am coming to the borders and I will kill you...</td>\n",
              "    </tr>\n",
              "    <tr>\n",
              "      <th>2</th>\n",
              "      <td>Positive</td>\n",
              "      <td>im getting on borderlands and i will kill you ...</td>\n",
              "    </tr>\n",
              "    <tr>\n",
              "      <th>3</th>\n",
              "      <td>Positive</td>\n",
              "      <td>im coming on borderlands and i will murder you...</td>\n",
              "    </tr>\n",
              "    <tr>\n",
              "      <th>4</th>\n",
              "      <td>Positive</td>\n",
              "      <td>im getting on borderlands 2 and i will murder ...</td>\n",
              "    </tr>\n",
              "    <tr>\n",
              "      <th>...</th>\n",
              "      <td>...</td>\n",
              "      <td>...</td>\n",
              "    </tr>\n",
              "    <tr>\n",
              "      <th>74677</th>\n",
              "      <td>Positive</td>\n",
              "      <td>Just realized that the Windows partition of my...</td>\n",
              "    </tr>\n",
              "    <tr>\n",
              "      <th>74678</th>\n",
              "      <td>Positive</td>\n",
              "      <td>Just realized that my Mac window partition is ...</td>\n",
              "    </tr>\n",
              "    <tr>\n",
              "      <th>74679</th>\n",
              "      <td>Positive</td>\n",
              "      <td>Just realized the windows partition of my Mac ...</td>\n",
              "    </tr>\n",
              "    <tr>\n",
              "      <th>74680</th>\n",
              "      <td>Positive</td>\n",
              "      <td>Just realized between the windows partition of...</td>\n",
              "    </tr>\n",
              "    <tr>\n",
              "      <th>74681</th>\n",
              "      <td>Positive</td>\n",
              "      <td>Just like the windows partition of my Mac is l...</td>\n",
              "    </tr>\n",
              "  </tbody>\n",
              "</table>\n",
              "<p>74682 rows × 2 columns</p>\n",
              "</div>\n",
              "      <button class=\"colab-df-convert\" onclick=\"convertToInteractive('df-fcd04e9b-7e1f-4756-84f5-d2ef0e3fa59a')\"\n",
              "              title=\"Convert this dataframe to an interactive table.\"\n",
              "              style=\"display:none;\">\n",
              "\n",
              "  <svg xmlns=\"http://www.w3.org/2000/svg\" height=\"24px\"viewBox=\"0 0 24 24\"\n",
              "       width=\"24px\">\n",
              "    <path d=\"M0 0h24v24H0V0z\" fill=\"none\"/>\n",
              "    <path d=\"M18.56 5.44l.94 2.06.94-2.06 2.06-.94-2.06-.94-.94-2.06-.94 2.06-2.06.94zm-11 1L8.5 8.5l.94-2.06 2.06-.94-2.06-.94L8.5 2.5l-.94 2.06-2.06.94zm10 10l.94 2.06.94-2.06 2.06-.94-2.06-.94-.94-2.06-.94 2.06-2.06.94z\"/><path d=\"M17.41 7.96l-1.37-1.37c-.4-.4-.92-.59-1.43-.59-.52 0-1.04.2-1.43.59L10.3 9.45l-7.72 7.72c-.78.78-.78 2.05 0 2.83L4 21.41c.39.39.9.59 1.41.59.51 0 1.02-.2 1.41-.59l7.78-7.78 2.81-2.81c.8-.78.8-2.07 0-2.86zM5.41 20L4 18.59l7.72-7.72 1.47 1.35L5.41 20z\"/>\n",
              "  </svg>\n",
              "      </button>\n",
              "\n",
              "\n",
              "\n",
              "    <div id=\"df-77642baf-a0b3-42c1-b806-2650ef9ca99f\">\n",
              "      <button class=\"colab-df-quickchart\" onclick=\"quickchart('df-77642baf-a0b3-42c1-b806-2650ef9ca99f')\"\n",
              "              title=\"Suggest charts.\"\n",
              "              style=\"display:none;\">\n",
              "\n",
              "<svg xmlns=\"http://www.w3.org/2000/svg\" height=\"24px\"viewBox=\"0 0 24 24\"\n",
              "     width=\"24px\">\n",
              "    <g>\n",
              "        <path d=\"M19 3H5c-1.1 0-2 .9-2 2v14c0 1.1.9 2 2 2h14c1.1 0 2-.9 2-2V5c0-1.1-.9-2-2-2zM9 17H7v-7h2v7zm4 0h-2V7h2v10zm4 0h-2v-4h2v4z\"/>\n",
              "    </g>\n",
              "</svg>\n",
              "      </button>\n",
              "    </div>\n",
              "\n",
              "<style>\n",
              "  .colab-df-quickchart {\n",
              "    background-color: #E8F0FE;\n",
              "    border: none;\n",
              "    border-radius: 50%;\n",
              "    cursor: pointer;\n",
              "    display: none;\n",
              "    fill: #1967D2;\n",
              "    height: 32px;\n",
              "    padding: 0 0 0 0;\n",
              "    width: 32px;\n",
              "  }\n",
              "\n",
              "  .colab-df-quickchart:hover {\n",
              "    background-color: #E2EBFA;\n",
              "    box-shadow: 0px 1px 2px rgba(60, 64, 67, 0.3), 0px 1px 3px 1px rgba(60, 64, 67, 0.15);\n",
              "    fill: #174EA6;\n",
              "  }\n",
              "\n",
              "  [theme=dark] .colab-df-quickchart {\n",
              "    background-color: #3B4455;\n",
              "    fill: #D2E3FC;\n",
              "  }\n",
              "\n",
              "  [theme=dark] .colab-df-quickchart:hover {\n",
              "    background-color: #434B5C;\n",
              "    box-shadow: 0px 1px 3px 1px rgba(0, 0, 0, 0.15);\n",
              "    filter: drop-shadow(0px 1px 2px rgba(0, 0, 0, 0.3));\n",
              "    fill: #FFFFFF;\n",
              "  }\n",
              "</style>\n",
              "\n",
              "    <script>\n",
              "      async function quickchart(key) {\n",
              "        const containerElement = document.querySelector('#' + key);\n",
              "        const charts = await google.colab.kernel.invokeFunction(\n",
              "            'suggestCharts', [key], {});\n",
              "      }\n",
              "    </script>\n",
              "\n",
              "      <script>\n",
              "\n",
              "function displayQuickchartButton(domScope) {\n",
              "  let quickchartButtonEl =\n",
              "    domScope.querySelector('#df-77642baf-a0b3-42c1-b806-2650ef9ca99f button.colab-df-quickchart');\n",
              "  quickchartButtonEl.style.display =\n",
              "    google.colab.kernel.accessAllowed ? 'block' : 'none';\n",
              "}\n",
              "\n",
              "        displayQuickchartButton(document);\n",
              "      </script>\n",
              "      <style>\n",
              "    .colab-df-container {\n",
              "      display:flex;\n",
              "      flex-wrap:wrap;\n",
              "      gap: 12px;\n",
              "    }\n",
              "\n",
              "    .colab-df-convert {\n",
              "      background-color: #E8F0FE;\n",
              "      border: none;\n",
              "      border-radius: 50%;\n",
              "      cursor: pointer;\n",
              "      display: none;\n",
              "      fill: #1967D2;\n",
              "      height: 32px;\n",
              "      padding: 0 0 0 0;\n",
              "      width: 32px;\n",
              "    }\n",
              "\n",
              "    .colab-df-convert:hover {\n",
              "      background-color: #E2EBFA;\n",
              "      box-shadow: 0px 1px 2px rgba(60, 64, 67, 0.3), 0px 1px 3px 1px rgba(60, 64, 67, 0.15);\n",
              "      fill: #174EA6;\n",
              "    }\n",
              "\n",
              "    [theme=dark] .colab-df-convert {\n",
              "      background-color: #3B4455;\n",
              "      fill: #D2E3FC;\n",
              "    }\n",
              "\n",
              "    [theme=dark] .colab-df-convert:hover {\n",
              "      background-color: #434B5C;\n",
              "      box-shadow: 0px 1px 3px 1px rgba(0, 0, 0, 0.15);\n",
              "      filter: drop-shadow(0px 1px 2px rgba(0, 0, 0, 0.3));\n",
              "      fill: #FFFFFF;\n",
              "    }\n",
              "  </style>\n",
              "\n",
              "      <script>\n",
              "        const buttonEl =\n",
              "          document.querySelector('#df-fcd04e9b-7e1f-4756-84f5-d2ef0e3fa59a button.colab-df-convert');\n",
              "        buttonEl.style.display =\n",
              "          google.colab.kernel.accessAllowed ? 'block' : 'none';\n",
              "\n",
              "        async function convertToInteractive(key) {\n",
              "          const element = document.querySelector('#df-fcd04e9b-7e1f-4756-84f5-d2ef0e3fa59a');\n",
              "          const dataTable =\n",
              "            await google.colab.kernel.invokeFunction('convertToInteractive',\n",
              "                                                     [key], {});\n",
              "          if (!dataTable) return;\n",
              "\n",
              "          const docLinkHtml = 'Like what you see? Visit the ' +\n",
              "            '<a target=\"_blank\" href=https://colab.research.google.com/notebooks/data_table.ipynb>data table notebook</a>'\n",
              "            + ' to learn more about interactive tables.';\n",
              "          element.innerHTML = '';\n",
              "          dataTable['output_type'] = 'display_data';\n",
              "          await google.colab.output.renderOutput(dataTable, element);\n",
              "          const docLink = document.createElement('div');\n",
              "          docLink.innerHTML = docLinkHtml;\n",
              "          element.appendChild(docLink);\n",
              "        }\n",
              "      </script>\n",
              "    </div>\n",
              "  </div>\n"
            ]
          },
          "metadata": {},
          "execution_count": 10
        }
      ],
      "source": [
        "mentah"
      ]
    },
    {
      "cell_type": "markdown",
      "metadata": {
        "id": "AN9qYHLkQWtA"
      },
      "source": [
        "Selanjutnya perlu loading data inference yang diambil dengan metode scrapping. Untuk code yang digunakan didapatkan dari tutorial [ini](https://youtu.be/OK6b5vvjRzY). Dari tutorial ini dibagikan [link google colab](https://colab.research.google.com/drive/1H9ns2Zp9ubEErj5mXcTqIhx9v84m16pk?usp=sharing) ini dan selanjutnya data akan langsung saja di load disini. Nantinya data ini akan digunakan sebagai data inference karena untuk melatih model perlu ada label khusus di datasetnya. Nanti hasilnya akan di evaluasi juga di bagian data inference."
      ]
    },
    {
      "cell_type": "code",
      "execution_count": 11,
      "metadata": {
        "colab": {
          "base_uri": "https://localhost:8080/",
          "height": 423
        },
        "id": "pH5JoVdbQWtA",
        "outputId": "79c32357-0d46-40ea-e98a-f45e5c142857"
      },
      "outputs": [
        {
          "output_type": "execute_result",
          "data": {
            "text/plain": [
              "                                             full_text\n",
              "0    Will someone please get David Grusch in a SCIF...\n",
              "1    David Grusch told Liberation Times:  “Congress...\n",
              "2    David Grusch responds to Rep. Mike Turner’s co...\n",
              "3    David Grusch told Liberation Times:  “Congress...\n",
              "4    The late Nat Kobitz... a key figure in the Dav...\n",
              "..                                                 ...\n",
              "725  6pm on @NewsNation: David Grusch - a veteran o...\n",
              "726  UFO Whistleblower David Grusch says the US Gov...\n",
              "727  Ross Coulthart on UFO whistleblower David Grus...\n",
              "728  Ross Coulthart will be interviewing recently r...\n",
              "729  David Charles Grusch… remember that name. #ufo...\n",
              "\n",
              "[730 rows x 1 columns]"
            ],
            "text/html": [
              "\n",
              "\n",
              "  <div id=\"df-e810009c-4b5a-4429-b6d8-b46609a11920\">\n",
              "    <div class=\"colab-df-container\">\n",
              "      <div>\n",
              "<style scoped>\n",
              "    .dataframe tbody tr th:only-of-type {\n",
              "        vertical-align: middle;\n",
              "    }\n",
              "\n",
              "    .dataframe tbody tr th {\n",
              "        vertical-align: top;\n",
              "    }\n",
              "\n",
              "    .dataframe thead th {\n",
              "        text-align: right;\n",
              "    }\n",
              "</style>\n",
              "<table border=\"1\" class=\"dataframe\">\n",
              "  <thead>\n",
              "    <tr style=\"text-align: right;\">\n",
              "      <th></th>\n",
              "      <th>full_text</th>\n",
              "    </tr>\n",
              "  </thead>\n",
              "  <tbody>\n",
              "    <tr>\n",
              "      <th>0</th>\n",
              "      <td>Will someone please get David Grusch in a SCIF...</td>\n",
              "    </tr>\n",
              "    <tr>\n",
              "      <th>1</th>\n",
              "      <td>David Grusch told Liberation Times:  “Congress...</td>\n",
              "    </tr>\n",
              "    <tr>\n",
              "      <th>2</th>\n",
              "      <td>David Grusch responds to Rep. Mike Turner’s co...</td>\n",
              "    </tr>\n",
              "    <tr>\n",
              "      <th>3</th>\n",
              "      <td>David Grusch told Liberation Times:  “Congress...</td>\n",
              "    </tr>\n",
              "    <tr>\n",
              "      <th>4</th>\n",
              "      <td>The late Nat Kobitz... a key figure in the Dav...</td>\n",
              "    </tr>\n",
              "    <tr>\n",
              "      <th>...</th>\n",
              "      <td>...</td>\n",
              "    </tr>\n",
              "    <tr>\n",
              "      <th>725</th>\n",
              "      <td>6pm on @NewsNation: David Grusch - a veteran o...</td>\n",
              "    </tr>\n",
              "    <tr>\n",
              "      <th>726</th>\n",
              "      <td>UFO Whistleblower David Grusch says the US Gov...</td>\n",
              "    </tr>\n",
              "    <tr>\n",
              "      <th>727</th>\n",
              "      <td>Ross Coulthart on UFO whistleblower David Grus...</td>\n",
              "    </tr>\n",
              "    <tr>\n",
              "      <th>728</th>\n",
              "      <td>Ross Coulthart will be interviewing recently r...</td>\n",
              "    </tr>\n",
              "    <tr>\n",
              "      <th>729</th>\n",
              "      <td>David Charles Grusch… remember that name. #ufo...</td>\n",
              "    </tr>\n",
              "  </tbody>\n",
              "</table>\n",
              "<p>730 rows × 1 columns</p>\n",
              "</div>\n",
              "      <button class=\"colab-df-convert\" onclick=\"convertToInteractive('df-e810009c-4b5a-4429-b6d8-b46609a11920')\"\n",
              "              title=\"Convert this dataframe to an interactive table.\"\n",
              "              style=\"display:none;\">\n",
              "\n",
              "  <svg xmlns=\"http://www.w3.org/2000/svg\" height=\"24px\"viewBox=\"0 0 24 24\"\n",
              "       width=\"24px\">\n",
              "    <path d=\"M0 0h24v24H0V0z\" fill=\"none\"/>\n",
              "    <path d=\"M18.56 5.44l.94 2.06.94-2.06 2.06-.94-2.06-.94-.94-2.06-.94 2.06-2.06.94zm-11 1L8.5 8.5l.94-2.06 2.06-.94-2.06-.94L8.5 2.5l-.94 2.06-2.06.94zm10 10l.94 2.06.94-2.06 2.06-.94-2.06-.94-.94-2.06-.94 2.06-2.06.94z\"/><path d=\"M17.41 7.96l-1.37-1.37c-.4-.4-.92-.59-1.43-.59-.52 0-1.04.2-1.43.59L10.3 9.45l-7.72 7.72c-.78.78-.78 2.05 0 2.83L4 21.41c.39.39.9.59 1.41.59.51 0 1.02-.2 1.41-.59l7.78-7.78 2.81-2.81c.8-.78.8-2.07 0-2.86zM5.41 20L4 18.59l7.72-7.72 1.47 1.35L5.41 20z\"/>\n",
              "  </svg>\n",
              "      </button>\n",
              "\n",
              "\n",
              "\n",
              "    <div id=\"df-cc3a3773-f6e7-4ef8-9eec-3dab237cb9d2\">\n",
              "      <button class=\"colab-df-quickchart\" onclick=\"quickchart('df-cc3a3773-f6e7-4ef8-9eec-3dab237cb9d2')\"\n",
              "              title=\"Suggest charts.\"\n",
              "              style=\"display:none;\">\n",
              "\n",
              "<svg xmlns=\"http://www.w3.org/2000/svg\" height=\"24px\"viewBox=\"0 0 24 24\"\n",
              "     width=\"24px\">\n",
              "    <g>\n",
              "        <path d=\"M19 3H5c-1.1 0-2 .9-2 2v14c0 1.1.9 2 2 2h14c1.1 0 2-.9 2-2V5c0-1.1-.9-2-2-2zM9 17H7v-7h2v7zm4 0h-2V7h2v10zm4 0h-2v-4h2v4z\"/>\n",
              "    </g>\n",
              "</svg>\n",
              "      </button>\n",
              "    </div>\n",
              "\n",
              "<style>\n",
              "  .colab-df-quickchart {\n",
              "    background-color: #E8F0FE;\n",
              "    border: none;\n",
              "    border-radius: 50%;\n",
              "    cursor: pointer;\n",
              "    display: none;\n",
              "    fill: #1967D2;\n",
              "    height: 32px;\n",
              "    padding: 0 0 0 0;\n",
              "    width: 32px;\n",
              "  }\n",
              "\n",
              "  .colab-df-quickchart:hover {\n",
              "    background-color: #E2EBFA;\n",
              "    box-shadow: 0px 1px 2px rgba(60, 64, 67, 0.3), 0px 1px 3px 1px rgba(60, 64, 67, 0.15);\n",
              "    fill: #174EA6;\n",
              "  }\n",
              "\n",
              "  [theme=dark] .colab-df-quickchart {\n",
              "    background-color: #3B4455;\n",
              "    fill: #D2E3FC;\n",
              "  }\n",
              "\n",
              "  [theme=dark] .colab-df-quickchart:hover {\n",
              "    background-color: #434B5C;\n",
              "    box-shadow: 0px 1px 3px 1px rgba(0, 0, 0, 0.15);\n",
              "    filter: drop-shadow(0px 1px 2px rgba(0, 0, 0, 0.3));\n",
              "    fill: #FFFFFF;\n",
              "  }\n",
              "</style>\n",
              "\n",
              "    <script>\n",
              "      async function quickchart(key) {\n",
              "        const containerElement = document.querySelector('#' + key);\n",
              "        const charts = await google.colab.kernel.invokeFunction(\n",
              "            'suggestCharts', [key], {});\n",
              "      }\n",
              "    </script>\n",
              "\n",
              "      <script>\n",
              "\n",
              "function displayQuickchartButton(domScope) {\n",
              "  let quickchartButtonEl =\n",
              "    domScope.querySelector('#df-cc3a3773-f6e7-4ef8-9eec-3dab237cb9d2 button.colab-df-quickchart');\n",
              "  quickchartButtonEl.style.display =\n",
              "    google.colab.kernel.accessAllowed ? 'block' : 'none';\n",
              "}\n",
              "\n",
              "        displayQuickchartButton(document);\n",
              "      </script>\n",
              "      <style>\n",
              "    .colab-df-container {\n",
              "      display:flex;\n",
              "      flex-wrap:wrap;\n",
              "      gap: 12px;\n",
              "    }\n",
              "\n",
              "    .colab-df-convert {\n",
              "      background-color: #E8F0FE;\n",
              "      border: none;\n",
              "      border-radius: 50%;\n",
              "      cursor: pointer;\n",
              "      display: none;\n",
              "      fill: #1967D2;\n",
              "      height: 32px;\n",
              "      padding: 0 0 0 0;\n",
              "      width: 32px;\n",
              "    }\n",
              "\n",
              "    .colab-df-convert:hover {\n",
              "      background-color: #E2EBFA;\n",
              "      box-shadow: 0px 1px 2px rgba(60, 64, 67, 0.3), 0px 1px 3px 1px rgba(60, 64, 67, 0.15);\n",
              "      fill: #174EA6;\n",
              "    }\n",
              "\n",
              "    [theme=dark] .colab-df-convert {\n",
              "      background-color: #3B4455;\n",
              "      fill: #D2E3FC;\n",
              "    }\n",
              "\n",
              "    [theme=dark] .colab-df-convert:hover {\n",
              "      background-color: #434B5C;\n",
              "      box-shadow: 0px 1px 3px 1px rgba(0, 0, 0, 0.15);\n",
              "      filter: drop-shadow(0px 1px 2px rgba(0, 0, 0, 0.3));\n",
              "      fill: #FFFFFF;\n",
              "    }\n",
              "  </style>\n",
              "\n",
              "      <script>\n",
              "        const buttonEl =\n",
              "          document.querySelector('#df-e810009c-4b5a-4429-b6d8-b46609a11920 button.colab-df-convert');\n",
              "        buttonEl.style.display =\n",
              "          google.colab.kernel.accessAllowed ? 'block' : 'none';\n",
              "\n",
              "        async function convertToInteractive(key) {\n",
              "          const element = document.querySelector('#df-e810009c-4b5a-4429-b6d8-b46609a11920');\n",
              "          const dataTable =\n",
              "            await google.colab.kernel.invokeFunction('convertToInteractive',\n",
              "                                                     [key], {});\n",
              "          if (!dataTable) return;\n",
              "\n",
              "          const docLinkHtml = 'Like what you see? Visit the ' +\n",
              "            '<a target=\"_blank\" href=https://colab.research.google.com/notebooks/data_table.ipynb>data table notebook</a>'\n",
              "            + ' to learn more about interactive tables.';\n",
              "          element.innerHTML = '';\n",
              "          dataTable['output_type'] = 'display_data';\n",
              "          await google.colab.output.renderOutput(dataTable, element);\n",
              "          const docLink = document.createElement('div');\n",
              "          docLink.innerHTML = docLinkHtml;\n",
              "          element.appendChild(docLink);\n",
              "        }\n",
              "      </script>\n",
              "    </div>\n",
              "  </div>\n"
            ]
          },
          "metadata": {},
          "execution_count": 11
        }
      ],
      "source": [
        "inf = pd.read_csv('/content/alien_ann.csv', delimiter = ';').drop(['created_at', 'id_str', 'quote_count', 'reply_count', 'retweet_count', 'favorite_count', 'lang', 'user_id_str', 'conversation_id_str', 'username', 'tweet_url'], axis=1)\n",
        "inf"
      ]
    },
    {
      "cell_type": "markdown",
      "metadata": {
        "id": "mkiOEZXiQWtB"
      },
      "source": [
        "Setelah selesai data loading akan dilanjutkan proses data cleaning."
      ]
    },
    {
      "cell_type": "markdown",
      "metadata": {
        "id": "NBwh6kJyR2nb"
      },
      "source": [
        "# Data Cleaning"
      ]
    },
    {
      "cell_type": "markdown",
      "metadata": {
        "id": "PVUtE6JbQWtB"
      },
      "source": [
        "Proses selanjutnya adalah data cleaning. Proses ini dibutuhkan dalam segala macam analisis data sampai ke pembuatan model. Karena data yang \"kotor\", hanya akan menurunkan ketajaman analisis."
      ]
    },
    {
      "cell_type": "code",
      "execution_count": 12,
      "metadata": {
        "id": "I22QG2nXR2nb"
      },
      "outputs": [],
      "source": [
        "# drop missing value\n",
        "mentah.dropna(inplace=True)"
      ]
    },
    {
      "cell_type": "code",
      "execution_count": 13,
      "metadata": {
        "colab": {
          "base_uri": "https://localhost:8080/"
        },
        "id": "iz_rtdfuR2nc",
        "outputId": "70d1d8ec-17a7-4bcb-ae34-a35230bcfa45"
      },
      "outputs": [
        {
          "output_type": "execute_result",
          "data": {
            "text/plain": [
              "sentiment    0\n",
              "tweet        0\n",
              "dtype: int64"
            ]
          },
          "metadata": {},
          "execution_count": 13
        }
      ],
      "source": [
        "# cek missing value\n",
        "mentah.isna().sum()"
      ]
    },
    {
      "cell_type": "markdown",
      "metadata": {
        "id": "phaiQZM9QWtB"
      },
      "source": [
        "Karena ini adalah proses analisa sentimen, tweet yang berlabel irrelevant akan dibuang saja karena hanya akan memberatkan model dan tidak berpengaruh juga terhadap analisis."
      ]
    },
    {
      "cell_type": "code",
      "execution_count": 14,
      "metadata": {
        "colab": {
          "base_uri": "https://localhost:8080/"
        },
        "id": "Rj73FgfXR2nc",
        "outputId": "a65def17-9fe6-4be5-f7b9-3f7b9bc51f3d"
      },
      "outputs": [
        {
          "output_type": "execute_result",
          "data": {
            "text/plain": [
              "61121"
            ]
          },
          "metadata": {},
          "execution_count": 14
        }
      ],
      "source": [
        "# drop label irrelevant\n",
        "mentah = mentah[mentah.sentiment != \"Irrelevant\"]\n",
        "len(mentah)"
      ]
    },
    {
      "cell_type": "markdown",
      "metadata": {
        "id": "QLel5JTBQWtB"
      },
      "source": [
        "Setelah drop data, alangkah baiknya untuk dilakukan reset index agar data kembali utuh tanpa ada index yang ter-skip."
      ]
    },
    {
      "cell_type": "code",
      "execution_count": 15,
      "metadata": {
        "id": "K5aa2l-PR2nc"
      },
      "outputs": [],
      "source": [
        "# reset index\n",
        "mentah.reset_index(drop=True, inplace=True)"
      ]
    },
    {
      "cell_type": "markdown",
      "metadata": {
        "id": "mlyrDb7cR2nc"
      },
      "source": [
        "# Exploratory Data Analysis"
      ]
    },
    {
      "cell_type": "markdown",
      "metadata": {
        "id": "-dFmrzaAQWtB"
      },
      "source": [
        "Proses selanjutnya setelah data cleaning adalah eksplorasi data. Pada bagian ini akan ditemukan fakta-fakta baru mengenai data yang kemungkinan akan mendapat insight baru yang mungkin akan membantu pada saat evaluasi model."
      ]
    },
    {
      "cell_type": "markdown",
      "metadata": {
        "id": "WDdVgTmHQWtC"
      },
      "source": [
        "Sebelum dilakukan eda, akan dilakukan copy data dahulu supaya data mentah tidak terganggu jika nanti diperlukan."
      ]
    },
    {
      "cell_type": "code",
      "execution_count": 16,
      "metadata": {
        "id": "pekDaDRTR2nc"
      },
      "outputs": [],
      "source": [
        "# copy data\n",
        "df_eda = mentah.copy()"
      ]
    },
    {
      "cell_type": "code",
      "execution_count": 17,
      "metadata": {
        "colab": {
          "base_uri": "https://localhost:8080/"
        },
        "id": "1YSRUBovR2nc",
        "outputId": "8de411c4-8a71-43c0-a185-a75f4426d740"
      },
      "outputs": [
        {
          "output_type": "execute_result",
          "data": {
            "text/plain": [
              "Negative    22358\n",
              "Positive    20655\n",
              "Neutral     18108\n",
              "Name: sentiment, dtype: int64"
            ]
          },
          "metadata": {},
          "execution_count": 17
        }
      ],
      "source": [
        "# jumlah sentimen target\n",
        "df_eda[\"sentiment\"].value_counts()"
      ]
    },
    {
      "cell_type": "code",
      "execution_count": 18,
      "metadata": {
        "colab": {
          "base_uri": "https://localhost:8080/",
          "height": 428
        },
        "id": "aOUdRBoCQWtC",
        "outputId": "fb3a3578-3a11-440d-bf60-d93d30f0a724"
      },
      "outputs": [
        {
          "output_type": "display_data",
          "data": {
            "text/plain": [
              "<Figure size 640x480 with 1 Axes>"
            ],
            "image/png": "[encoded data removed]"
          },
          "metadata": {}
        }
      ],
      "source": [
        "sentiment_counts = df_eda['sentiment'].value_counts()\n",
        "labels = sentiment_counts.index.tolist()\n",
        "\n",
        "# pie chart target\n",
        "plt.pie(sentiment_counts, labels=labels, autopct='%.0f%%')\n",
        "plt.title('Sentiment Distribution')\n",
        "plt.show()"
      ]
    },
    {
      "cell_type": "markdown",
      "metadata": {
        "id": "59d5ZGKBQWtC"
      },
      "source": [
        "Terlihat untuk target sendiri datanya tidak terlalu imbalance. Terlihat juga bahwa sentimen negatif memiliki jumlah terbanyak pada data train. Disusul dengan sentimen positif dan yang terakhir sentimen netral."
      ]
    },
    {
      "cell_type": "markdown",
      "metadata": {
        "id": "C-WBx77aQWtC"
      },
      "source": [
        "Sampai sini, sepertinya tidak ada lagi yang bisa di eksplorasi. Untuk eksplorasi data selanjutnya, mungkin akan dilakukan setelah data di preprocessing."
      ]
    },
    {
      "cell_type": "markdown",
      "metadata": {
        "id": "JV6OUJL4R2nc"
      },
      "source": [
        "# Data Preprocessing"
      ]
    },
    {
      "cell_type": "markdown",
      "metadata": {
        "id": "xztP7rJsQWtC"
      },
      "source": [
        "Sama seperti bagian eda, sebelum dilakukan preprocessing akan dibuatkan copy datanya dahulu untuk jaga-jaga jika data eda masih dibutuhkan."
      ]
    },
    {
      "cell_type": "code",
      "execution_count": 19,
      "metadata": {
        "id": "WZe0T1ioR2nd"
      },
      "outputs": [],
      "source": [
        "#copy data\n",
        "df_pp = df_eda.copy()"
      ]
    },
    {
      "cell_type": "markdown",
      "metadata": {
        "id": "BxOMZbCgR2nd"
      },
      "source": [
        "### Sample Preprocessing"
      ]
    },
    {
      "cell_type": "code",
      "execution_count": 20,
      "metadata": {
        "colab": {
          "base_uri": "https://localhost:8080/"
        },
        "id": "hr5cBAq1R2nd",
        "outputId": "7379ab4d-c164-4c55-efaa-e0d795f45b4c"
      },
      "outputs": [
        {
          "output_type": "stream",
          "name": "stdout",
          "text": [
            "@ Blizzard _ Ent The fact that I'm suspended in Overwatch because I have a shaky WiFi connection is ridiculous. If I run into leave game, suspend me. If I have a bad connection and get back into the game, do you suspend me anyway?! Boococky. You're better than that. Please change it.\n"
          ]
        }
      ],
      "source": [
        "sample_text = df_pp.loc[6584]['tweet']\n",
        "\n",
        "print(sample_text)"
      ]
    },
    {
      "cell_type": "markdown",
      "metadata": {
        "id": "psdqOJo2R2nd"
      },
      "source": [
        "Sebelum dilakukan preprocessing kepada data train, akan dilakukan trialnya dulu ke sample_text supaya lebih jelas prosesnya."
      ]
    },
    {
      "cell_type": "code",
      "execution_count": 21,
      "metadata": {
        "id": "4lDYWEXqR2nd"
      },
      "outputs": [],
      "source": [
        "# Case Folding\n",
        "sample_text = sample_text.lower()\n",
        "sample_text = re.sub(r'\\d+', '', sample_text)\n",
        "sample_text = sample_text.translate(str.maketrans(\"\",\"\", string.punctuation))\n",
        "sample_text = sample_text.strip()"
      ]
    },
    {
      "cell_type": "code",
      "execution_count": 22,
      "metadata": {
        "colab": {
          "base_uri": "https://localhost:8080/"
        },
        "id": "2KDwlM2zR2nd",
        "outputId": "5a742196-1704-460a-9e3d-7ac62e158b4c"
      },
      "outputs": [
        {
          "output_type": "stream",
          "name": "stdout",
          "text": [
            "['blizzard  ent the fact that im suspended in overwatch because i have a shaky wifi connection is ridiculous if i run into leave game suspend me if i have a bad connection and get back into the game do you suspend me anyway boococky youre better than that please change it']\n"
          ]
        }
      ],
      "source": [
        "# Sentence Tokenization\n",
        "sent_token = sent_tokenize(sample_text)\n",
        "print(sent_token)"
      ]
    },
    {
      "cell_type": "markdown",
      "metadata": {
        "id": "fhykVIZgQWtD"
      },
      "source": [
        "Proses tokenisasi melakukan tokenisasi berdasarkan satu kalimat."
      ]
    },
    {
      "cell_type": "code",
      "execution_count": 23,
      "metadata": {
        "colab": {
          "base_uri": "https://localhost:8080/"
        },
        "id": "fDCFItEkR2nd",
        "outputId": "0e17e5a3-762d-46d7-c18a-0810656f53e1"
      },
      "outputs": [
        {
          "output_type": "stream",
          "name": "stdout",
          "text": [
            "['blizzard', 'ent', 'the', 'fact', 'that', 'im', 'suspended', 'in', 'overwatch', 'because', 'i', 'have', 'a', 'shaky', 'wifi', 'connection', 'is', 'ridiculous', 'if', 'i', 'run', 'into', 'leave', 'game', 'suspend', 'me', 'if', 'i', 'have', 'a', 'bad', 'connection', 'and', 'get', 'back', 'into', 'the', 'game', 'do', 'you', 'suspend', 'me', 'anyway', 'boococky', 'youre', 'better', 'than', 'that', 'please', 'change', 'it']\n"
          ]
        }
      ],
      "source": [
        "# Word Tokenization\n",
        "word_token = word_tokenize(sample_text)\n",
        "print(word_token)"
      ]
    },
    {
      "cell_type": "markdown",
      "metadata": {
        "id": "ROaMRzDFR2nd"
      },
      "source": [
        "Seperti yang terlihat, sent_tokenize melakukan tokenisasi untuk satu kalimat. Kalu word_tokenize melakukan tokenisasi tiap kata."
      ]
    },
    {
      "cell_type": "markdown",
      "metadata": {
        "id": "rPE2w9CVQWtD"
      },
      "source": [
        "Selanjutnya akan dilakukan visualisasi token kata."
      ]
    },
    {
      "cell_type": "code",
      "execution_count": 24,
      "metadata": {
        "id": "wOv-Ej21R2nd"
      },
      "outputs": [],
      "source": [
        "fdist = FreqDist(word_token)"
      ]
    },
    {
      "cell_type": "code",
      "execution_count": 25,
      "metadata": {
        "colab": {
          "base_uri": "https://localhost:8080/"
        },
        "id": "gOfe-fLAR2nd",
        "outputId": "f5b1b7a2-09d7-440c-b326-f17ad19c856a"
      },
      "outputs": [
        {
          "output_type": "execute_result",
          "data": {
            "text/plain": [
              "[('i', 3), ('the', 2)]"
            ]
          },
          "metadata": {},
          "execution_count": 25
        }
      ],
      "source": [
        "fdist.most_common(2)"
      ]
    },
    {
      "cell_type": "code",
      "execution_count": 26,
      "metadata": {
        "colab": {
          "base_uri": "https://localhost:8080/",
          "height": 512
        },
        "id": "B1rJ3Z5QR2nd",
        "outputId": "9e7cc104-f3cd-4fc7-95ec-51a0902227b1"
      },
      "outputs": [
        {
          "output_type": "display_data",
          "data": {
            "text/plain": [
              "<Figure size 640x480 with 1 Axes>"
            ],
            "image/png": "[encoded data removed]"
          },
          "metadata": {}
        }
      ],
      "source": [
        "fdist.plot(30, cumulative=False)\n",
        "plt.show()"
      ]
    },
    {
      "cell_type": "markdown",
      "metadata": {
        "id": "MICSEfshR2ne"
      },
      "source": [
        "Ternyata kata yang jumlah kemunculan nya tinggi tergolong dalam kata stopword. Selanjutnya akan dihandling dan akan dilihat kembali visualisasi jumlah kata di kalimat dan diamati perubahannya"
      ]
    },
    {
      "cell_type": "code",
      "execution_count": 27,
      "metadata": {
        "colab": {
          "base_uri": "https://localhost:8080/"
        },
        "id": "UwjW329rR2ne",
        "outputId": "91077b04-e672-47e6-c9d5-a6f19947da45"
      },
      "outputs": [
        {
          "output_type": "stream",
          "name": "stdout",
          "text": [
            "{'himself', 'doing', 'as', 'that', 'mustn', 'whom', 'to', 'd', 'while', 'there', 'own', 'of', 'if', \"you're\", 'because', \"doesn't\", 'they', 'any', \"shan't\", 'off', 'nor', 'was', \"hadn't\", 'won', 'have', 'him', 'below', 'has', 'how', 'why', \"didn't\", 'were', 'mightn', \"needn't\", 'been', 'between', 'some', 'only', 'hadn', 'too', 'above', 'those', 'up', 'few', 'for', 'on', 'not', \"you'll\", 'haven', 'what', \"aren't\", 'and', 'by', 'before', 'will', 'myself', 'into', 'm', 'them', 'such', \"you'd\", 'under', 'couldn', 'yourselves', 'is', 'no', 'ma', 'against', \"shouldn't\", 'his', 'our', 'now', 'just', \"couldn't\", 'theirs', 'until', 'should', 'the', \"won't\", 'more', 'had', \"should've\", 'she', 're', 'so', 'yours', 'wouldn', 'didn', 'me', 'a', \"haven't\", 'did', \"don't\", 'but', 'this', \"wasn't\", 've', 'about', 'which', 'ain', 'during', 'then', 'll', 'shouldn', 'at', 'after', \"isn't\", \"it's\", 'my', 'don', \"mightn't\", 'very', 'doesn', 'it', \"that'll\", 'from', 'through', 'most', 'ours', 'other', 'am', 'down', 'again', 'themselves', 'here', 'where', 'with', 'being', 'further', 'same', 'their', \"wouldn't\", 'do', 'who', 'over', 'shan', 'herself', 'than', 'her', 'having', \"hasn't\", 'or', 'out', \"you've\", 't', \"mustn't\", 'wasn', 'can', 'be', 'itself', 'yourself', 'each', 'i', 'are', 'your', 'in', 'hers', 's', 'you', \"weren't\", 'both', 'once', 'ourselves', 'these', 'an', 'all', 'he', 'we', 'o', 'does', 'y', 'when', 'needn', 'weren', \"she's\", 'aren', 'hasn', 'its', 'isn'}\n"
          ]
        }
      ],
      "source": [
        "# stopwords\n",
        "stop_words = set(stopwords.words(\"english\"))\n",
        "print(stop_words)"
      ]
    },
    {
      "cell_type": "code",
      "execution_count": 28,
      "metadata": {
        "colab": {
          "base_uri": "https://localhost:8080/"
        },
        "id": "G_Y_kk73R2ne",
        "outputId": "b9e21641-0fad-40e4-bbc3-bff1ca402333"
      },
      "outputs": [
        {
          "output_type": "stream",
          "name": "stdout",
          "text": [
            "Tokenized Sentence: ['blizzard', 'ent', 'the', 'fact', 'that', 'im', 'suspended', 'in', 'overwatch', 'because', 'i', 'have', 'a', 'shaky', 'wifi', 'connection', 'is', 'ridiculous', 'if', 'i', 'run', 'into', 'leave', 'game', 'suspend', 'me', 'if', 'i', 'have', 'a', 'bad', 'connection', 'and', 'get', 'back', 'into', 'the', 'game', 'do', 'you', 'suspend', 'me', 'anyway', 'boococky', 'youre', 'better', 'than', 'that', 'please', 'change', 'it']\n",
            "Filterd Sentence: ['blizzard', 'ent', 'fact', 'im', 'suspended', 'overwatch', 'shaky', 'wifi', 'connection', 'ridiculous', 'run', 'leave', 'game', 'suspend', 'bad', 'connection', 'get', 'back', 'game', 'suspend', 'anyway', 'boococky', 'youre', 'better', 'please', 'change']\n"
          ]
        }
      ],
      "source": [
        "sent_filtered = []\n",
        "\n",
        "for w in word_token:\n",
        "    if w not in stop_words:\n",
        "        sent_filtered.append(w)\n",
        "\n",
        "print(\"Tokenized Sentence:\", word_token)\n",
        "print(\"Filterd Sentence:\", sent_filtered)"
      ]
    },
    {
      "cell_type": "code",
      "execution_count": 29,
      "metadata": {
        "colab": {
          "base_uri": "https://localhost:8080/",
          "height": 512
        },
        "id": "HpmNl_KCR2ne",
        "outputId": "05f88a24-2a54-46da-b506-d690af1a5bf4"
      },
      "outputs": [
        {
          "output_type": "display_data",
          "data": {
            "text/plain": [
              "<Figure size 640x480 with 1 Axes>"
            ],
            "image/png": "[encoded data removed]"
          },
          "metadata": {}
        }
      ],
      "source": [
        "fdist = FreqDist(sent_filtered)\n",
        "\n",
        "fdist.plot(30, cumulative=False)\n",
        "plt.show()"
      ]
    },
    {
      "cell_type": "markdown",
      "metadata": {
        "id": "7PAqnCFkR2ne"
      },
      "source": [
        "Setelah dihandling stopwords nya terlihat bahwa jumlah kata tertinggi sudah bukan stopwords lagi artinya sudah berhasil handlingnya dan akan diimplementasikan nanti ke data train."
      ]
    },
    {
      "cell_type": "markdown",
      "metadata": {
        "id": "MhyUzxM9R2nj"
      },
      "source": [
        "Yang selanjutnya dilakukan adalah teknik untuk mereduksi kata menjadi kata dasar. Ada 2 teknik yang akan dilakukan yaitu stemming, dan lemmatization+stemming. Akan dibandingkan hasilnya dan dipilih yang terbaik."
      ]
    },
    {
      "cell_type": "code",
      "execution_count": 30,
      "metadata": {
        "colab": {
          "base_uri": "https://localhost:8080/"
        },
        "id": "BdJKlJOdR2nj",
        "outputId": "22c5c973-1d91-454e-bdef-09a1fe64c337"
      },
      "outputs": [
        {
          "output_type": "stream",
          "name": "stdout",
          "text": [
            "Filtered Sentence: ['blizzard', 'ent', 'fact', 'im', 'suspended', 'overwatch', 'shaky', 'wifi', 'connection', 'ridiculous', 'run', 'leave', 'game', 'suspend', 'bad', 'connection', 'get', 'back', 'game', 'suspend', 'anyway', 'boococky', 'youre', 'better', 'please', 'change']\n",
            "Stemmed Sentence: ['blizzard', 'ent', 'fact', 'im', 'suspend', 'overwatch', 'shaki', 'wifi', 'connect', 'ridicul', 'run', 'leav', 'game', 'suspend', 'bad', 'connect', 'get', 'back', 'game', 'suspend', 'anyway', 'boococki', 'your', 'better', 'pleas', 'chang']\n"
          ]
        }
      ],
      "source": [
        "# Stemming\n",
        "ps = PorterStemmer()\n",
        "\n",
        "stemmed_words = []\n",
        "for w in sent_filtered:\n",
        "    stemmed_words.append(ps.stem(w))\n",
        "\n",
        "print(\"Filtered Sentence:\", sent_filtered)\n",
        "print(\"Stemmed Sentence:\", stemmed_words)"
      ]
    },
    {
      "cell_type": "markdown",
      "metadata": {
        "id": "nHetfCj6R2nj"
      },
      "source": [
        "Dari hasil stemming terlihat handling nya belum maksimal, maka akan dilakukan proses yang lain yaitu lemmatization"
      ]
    },
    {
      "cell_type": "code",
      "execution_count": 31,
      "metadata": {
        "colab": {
          "base_uri": "https://localhost:8080/"
        },
        "id": "laYY8_BxR2nj",
        "outputId": "f8f53715-2ce6-4e2c-aad2-f7a2995f6aff"
      },
      "outputs": [
        {
          "output_type": "stream",
          "name": "stdout",
          "text": [
            "Lemmatized Word: lie\n",
            "Stemmed Word: lie\n"
          ]
        }
      ],
      "source": [
        "# Stemming dan Lemmatization\n",
        "lem = WordNetLemmatizer()\n",
        "stem = PorterStemmer()\n",
        "\n",
        "print(\"Lemmatized Word:\",lem.lemmatize('lying', \"v\"))\n",
        "print(\"Stemmed Word:\",stem.stem('lying'))"
      ]
    },
    {
      "cell_type": "code",
      "execution_count": 32,
      "metadata": {
        "colab": {
          "base_uri": "https://localhost:8080/"
        },
        "id": "BOObpBJhR2nj",
        "outputId": "f6d0e8ed-0adc-4a13-8d48-92141ac739a5"
      },
      "outputs": [
        {
          "output_type": "stream",
          "name": "stdout",
          "text": [
            "Filtered Sentence: ['blizzard', 'ent', 'fact', 'im', 'suspended', 'overwatch', 'shaky', 'wifi', 'connection', 'ridiculous', 'run', 'leave', 'game', 'suspend', 'bad', 'connection', 'get', 'back', 'game', 'suspend', 'anyway', 'boococky', 'youre', 'better', 'please', 'change']\n",
            "Lemmatized Sentence: ['blizzard', 'ent', 'fact', 'im', 'suspended', 'overwatch', 'shaky', 'wifi', 'connection', 'ridiculous', 'run', 'leave', 'game', 'suspend', 'bad', 'connection', 'get', 'back', 'game', 'suspend', 'anyway', 'boococky', 'youre', 'better', 'please', 'change']\n"
          ]
        }
      ],
      "source": [
        "lemmatized_words = []\n",
        "\n",
        "for w in sent_filtered:\n",
        "    lemmatized_words.append(lem.lemmatize(w))\n",
        "\n",
        "print(\"Filtered Sentence:\", sent_filtered)\n",
        "print(\"Lemmatized Sentence:\", lemmatized_words)"
      ]
    },
    {
      "cell_type": "markdown",
      "metadata": {
        "id": "oQjl7RXlR2nk"
      },
      "source": [
        "Ternyata hasil nya lebih masuk akal. Oleh karena itu, akan dipilih proses yang kedua untuk diimplementasikan ke data train."
      ]
    },
    {
      "cell_type": "code",
      "execution_count": 33,
      "metadata": {
        "id": "k-7WhBkiR2nk"
      },
      "outputs": [],
      "source": [
        "df_pp.reset_index(inplace=True)"
      ]
    },
    {
      "cell_type": "markdown",
      "metadata": {
        "id": "jo9_uJAPR2nk"
      },
      "source": [
        "### Training Data Preprocessing"
      ]
    },
    {
      "cell_type": "markdown",
      "metadata": {
        "id": "-NwhXB-RQWtF"
      },
      "source": [
        "Pada bagian training data preprocessing, seperti yang disampaikan di EDA, sebelumnya akan dilakukan beberapa analisa data setelah data sudah di preprocess. Untuk melihat saja jumlah masing-masing analisa."
      ]
    },
    {
      "cell_type": "code",
      "execution_count": 34,
      "metadata": {
        "colab": {
          "base_uri": "https://localhost:8080/",
          "height": 206
        },
        "id": "IxD_rIsmR2nk",
        "outputId": "c4f6834f-56c9-4088-f5e3-ff2abf025573"
      },
      "outputs": [
        {
          "output_type": "execute_result",
          "data": {
            "text/plain": [
              "                                               tweet  stopwords\n",
              "0  im getting on borderlands and i will murder yo...          6\n",
              "1  I am coming to the borders and I will kill you...          6\n",
              "2  im getting on borderlands and i will kill you ...          5\n",
              "3  im coming on borderlands and i will murder you...          5\n",
              "4  im getting on borderlands 2 and i will murder ...          6"
            ],
            "text/html": [
              "\n",
              "\n",
              "  <div id=\"df-6d8aabf4-4c3f-4852-a541-61ef09757ebc\">\n",
              "    <div class=\"colab-df-container\">\n",
              "      <div>\n",
              "<style scoped>\n",
              "    .dataframe tbody tr th:only-of-type {\n",
              "        vertical-align: middle;\n",
              "    }\n",
              "\n",
              "    .dataframe tbody tr th {\n",
              "        vertical-align: top;\n",
              "    }\n",
              "\n",
              "    .dataframe thead th {\n",
              "        text-align: right;\n",
              "    }\n",
              "</style>\n",
              "<table border=\"1\" class=\"dataframe\">\n",
              "  <thead>\n",
              "    <tr style=\"text-align: right;\">\n",
              "      <th></th>\n",
              "      <th>tweet</th>\n",
              "      <th>stopwords</th>\n",
              "    </tr>\n",
              "  </thead>\n",
              "  <tbody>\n",
              "    <tr>\n",
              "      <th>0</th>\n",
              "      <td>im getting on borderlands and i will murder yo...</td>\n",
              "      <td>6</td>\n",
              "    </tr>\n",
              "    <tr>\n",
              "      <th>1</th>\n",
              "      <td>I am coming to the borders and I will kill you...</td>\n",
              "      <td>6</td>\n",
              "    </tr>\n",
              "    <tr>\n",
              "      <th>2</th>\n",
              "      <td>im getting on borderlands and i will kill you ...</td>\n",
              "      <td>5</td>\n",
              "    </tr>\n",
              "    <tr>\n",
              "      <th>3</th>\n",
              "      <td>im coming on borderlands and i will murder you...</td>\n",
              "      <td>5</td>\n",
              "    </tr>\n",
              "    <tr>\n",
              "      <th>4</th>\n",
              "      <td>im getting on borderlands 2 and i will murder ...</td>\n",
              "      <td>6</td>\n",
              "    </tr>\n",
              "  </tbody>\n",
              "</table>\n",
              "</div>\n",
              "      <button class=\"colab-df-convert\" onclick=\"convertToInteractive('df-6d8aabf4-4c3f-4852-a541-61ef09757ebc')\"\n",
              "              title=\"Convert this dataframe to an interactive table.\"\n",
              "              style=\"display:none;\">\n",
              "\n",
              "  <svg xmlns=\"http://www.w3.org/2000/svg\" height=\"24px\"viewBox=\"0 0 24 24\"\n",
              "       width=\"24px\">\n",
              "    <path d=\"M0 0h24v24H0V0z\" fill=\"none\"/>\n",
              "    <path d=\"M18.56 5.44l.94 2.06.94-2.06 2.06-.94-2.06-.94-.94-2.06-.94 2.06-2.06.94zm-11 1L8.5 8.5l.94-2.06 2.06-.94-2.06-.94L8.5 2.5l-.94 2.06-2.06.94zm10 10l.94 2.06.94-2.06 2.06-.94-2.06-.94-.94-2.06-.94 2.06-2.06.94z\"/><path d=\"M17.41 7.96l-1.37-1.37c-.4-.4-.92-.59-1.43-.59-.52 0-1.04.2-1.43.59L10.3 9.45l-7.72 7.72c-.78.78-.78 2.05 0 2.83L4 21.41c.39.39.9.59 1.41.59.51 0 1.02-.2 1.41-.59l7.78-7.78 2.81-2.81c.8-.78.8-2.07 0-2.86zM5.41 20L4 18.59l7.72-7.72 1.47 1.35L5.41 20z\"/>\n",
              "  </svg>\n",
              "      </button>\n",
              "\n",
              "\n",
              "\n",
              "    <div id=\"df-d279e490-7220-4325-9ed9-2723c04580b4\">\n",
              "      <button class=\"colab-df-quickchart\" onclick=\"quickchart('df-d279e490-7220-4325-9ed9-2723c04580b4')\"\n",
              "              title=\"Suggest charts.\"\n",
              "              style=\"display:none;\">\n",
              "\n",
              "<svg xmlns=\"http://www.w3.org/2000/svg\" height=\"24px\"viewBox=\"0 0 24 24\"\n",
              "     width=\"24px\">\n",
              "    <g>\n",
              "        <path d=\"M19 3H5c-1.1 0-2 .9-2 2v14c0 1.1.9 2 2 2h14c1.1 0 2-.9 2-2V5c0-1.1-.9-2-2-2zM9 17H7v-7h2v7zm4 0h-2V7h2v10zm4 0h-2v-4h2v4z\"/>\n",
              "    </g>\n",
              "</svg>\n",
              "      </button>\n",
              "    </div>\n",
              "\n",
              "<style>\n",
              "  .colab-df-quickchart {\n",
              "    background-color: #E8F0FE;\n",
              "    border: none;\n",
              "    border-radius: 50%;\n",
              "    cursor: pointer;\n",
              "    display: none;\n",
              "    fill: #1967D2;\n",
              "    height: 32px;\n",
              "    padding: 0 0 0 0;\n",
              "    width: 32px;\n",
              "  }\n",
              "\n",
              "  .colab-df-quickchart:hover {\n",
              "    background-color: #E2EBFA;\n",
              "    box-shadow: 0px 1px 2px rgba(60, 64, 67, 0.3), 0px 1px 3px 1px rgba(60, 64, 67, 0.15);\n",
              "    fill: #174EA6;\n",
              "  }\n",
              "\n",
              "  [theme=dark] .colab-df-quickchart {\n",
              "    background-color: #3B4455;\n",
              "    fill: #D2E3FC;\n",
              "  }\n",
              "\n",
              "  [theme=dark] .colab-df-quickchart:hover {\n",
              "    background-color: #434B5C;\n",
              "    box-shadow: 0px 1px 3px 1px rgba(0, 0, 0, 0.15);\n",
              "    filter: drop-shadow(0px 1px 2px rgba(0, 0, 0, 0.3));\n",
              "    fill: #FFFFFF;\n",
              "  }\n",
              "</style>\n",
              "\n",
              "    <script>\n",
              "      async function quickchart(key) {\n",
              "        const containerElement = document.querySelector('#' + key);\n",
              "        const charts = await google.colab.kernel.invokeFunction(\n",
              "            'suggestCharts', [key], {});\n",
              "      }\n",
              "    </script>\n",
              "\n",
              "      <script>\n",
              "\n",
              "function displayQuickchartButton(domScope) {\n",
              "  let quickchartButtonEl =\n",
              "    domScope.querySelector('#df-d279e490-7220-4325-9ed9-2723c04580b4 button.colab-df-quickchart');\n",
              "  quickchartButtonEl.style.display =\n",
              "    google.colab.kernel.accessAllowed ? 'block' : 'none';\n",
              "}\n",
              "\n",
              "        displayQuickchartButton(document);\n",
              "      </script>\n",
              "      <style>\n",
              "    .colab-df-container {\n",
              "      display:flex;\n",
              "      flex-wrap:wrap;\n",
              "      gap: 12px;\n",
              "    }\n",
              "\n",
              "    .colab-df-convert {\n",
              "      background-color: #E8F0FE;\n",
              "      border: none;\n",
              "      border-radius: 50%;\n",
              "      cursor: pointer;\n",
              "      display: none;\n",
              "      fill: #1967D2;\n",
              "      height: 32px;\n",
              "      padding: 0 0 0 0;\n",
              "      width: 32px;\n",
              "    }\n",
              "\n",
              "    .colab-df-convert:hover {\n",
              "      background-color: #E2EBFA;\n",
              "      box-shadow: 0px 1px 2px rgba(60, 64, 67, 0.3), 0px 1px 3px 1px rgba(60, 64, 67, 0.15);\n",
              "      fill: #174EA6;\n",
              "    }\n",
              "\n",
              "    [theme=dark] .colab-df-convert {\n",
              "      background-color: #3B4455;\n",
              "      fill: #D2E3FC;\n",
              "    }\n",
              "\n",
              "    [theme=dark] .colab-df-convert:hover {\n",
              "      background-color: #434B5C;\n",
              "      box-shadow: 0px 1px 3px 1px rgba(0, 0, 0, 0.15);\n",
              "      filter: drop-shadow(0px 1px 2px rgba(0, 0, 0, 0.3));\n",
              "      fill: #FFFFFF;\n",
              "    }\n",
              "  </style>\n",
              "\n",
              "      <script>\n",
              "        const buttonEl =\n",
              "          document.querySelector('#df-6d8aabf4-4c3f-4852-a541-61ef09757ebc button.colab-df-convert');\n",
              "        buttonEl.style.display =\n",
              "          google.colab.kernel.accessAllowed ? 'block' : 'none';\n",
              "\n",
              "        async function convertToInteractive(key) {\n",
              "          const element = document.querySelector('#df-6d8aabf4-4c3f-4852-a541-61ef09757ebc');\n",
              "          const dataTable =\n",
              "            await google.colab.kernel.invokeFunction('convertToInteractive',\n",
              "                                                     [key], {});\n",
              "          if (!dataTable) return;\n",
              "\n",
              "          const docLinkHtml = 'Like what you see? Visit the ' +\n",
              "            '<a target=\"_blank\" href=https://colab.research.google.com/notebooks/data_table.ipynb>data table notebook</a>'\n",
              "            + ' to learn more about interactive tables.';\n",
              "          element.innerHTML = '';\n",
              "          dataTable['output_type'] = 'display_data';\n",
              "          await google.colab.output.renderOutput(dataTable, element);\n",
              "          const docLink = document.createElement('div');\n",
              "          docLink.innerHTML = docLinkHtml;\n",
              "          element.appendChild(docLink);\n",
              "        }\n",
              "      </script>\n",
              "    </div>\n",
              "  </div>\n"
            ]
          },
          "metadata": {},
          "execution_count": 34
        }
      ],
      "source": [
        "# Stopwords\n",
        "df_pp['stopwords'] = df_pp['tweet'].apply(lambda x: len([x for x in x.split() if x in stop_words]))\n",
        "df_pp[['tweet','stopwords']].head()"
      ]
    },
    {
      "cell_type": "markdown",
      "metadata": {
        "id": "4gssuMY1QWtF"
      },
      "source": [
        "Diatas adalah jumlah stopword pada tiap tweet"
      ]
    },
    {
      "cell_type": "code",
      "execution_count": 35,
      "metadata": {
        "colab": {
          "base_uri": "https://localhost:8080/",
          "height": 206
        },
        "id": "eDLNLowPR2nk",
        "outputId": "73966d1d-8f1f-4306-df32-a0aa206423b0"
      },
      "outputs": [
        {
          "output_type": "execute_result",
          "data": {
            "text/plain": [
              "                                               tweet  punctuation\n",
              "0  im getting on borderlands and i will murder yo...            1\n",
              "1  I am coming to the borders and I will kill you...            1\n",
              "2  im getting on borderlands and i will kill you ...            1\n",
              "3  im coming on borderlands and i will murder you...            1\n",
              "4  im getting on borderlands 2 and i will murder ...            1"
            ],
            "text/html": [
              "\n",
              "\n",
              "  <div id=\"df-9601069b-b633-492a-b024-cccd9c756918\">\n",
              "    <div class=\"colab-df-container\">\n",
              "      <div>\n",
              "<style scoped>\n",
              "    .dataframe tbody tr th:only-of-type {\n",
              "        vertical-align: middle;\n",
              "    }\n",
              "\n",
              "    .dataframe tbody tr th {\n",
              "        vertical-align: top;\n",
              "    }\n",
              "\n",
              "    .dataframe thead th {\n",
              "        text-align: right;\n",
              "    }\n",
              "</style>\n",
              "<table border=\"1\" class=\"dataframe\">\n",
              "  <thead>\n",
              "    <tr style=\"text-align: right;\">\n",
              "      <th></th>\n",
              "      <th>tweet</th>\n",
              "      <th>punctuation</th>\n",
              "    </tr>\n",
              "  </thead>\n",
              "  <tbody>\n",
              "    <tr>\n",
              "      <th>0</th>\n",
              "      <td>im getting on borderlands and i will murder yo...</td>\n",
              "      <td>1</td>\n",
              "    </tr>\n",
              "    <tr>\n",
              "      <th>1</th>\n",
              "      <td>I am coming to the borders and I will kill you...</td>\n",
              "      <td>1</td>\n",
              "    </tr>\n",
              "    <tr>\n",
              "      <th>2</th>\n",
              "      <td>im getting on borderlands and i will kill you ...</td>\n",
              "      <td>1</td>\n",
              "    </tr>\n",
              "    <tr>\n",
              "      <th>3</th>\n",
              "      <td>im coming on borderlands and i will murder you...</td>\n",
              "      <td>1</td>\n",
              "    </tr>\n",
              "    <tr>\n",
              "      <th>4</th>\n",
              "      <td>im getting on borderlands 2 and i will murder ...</td>\n",
              "      <td>1</td>\n",
              "    </tr>\n",
              "  </tbody>\n",
              "</table>\n",
              "</div>\n",
              "      <button class=\"colab-df-convert\" onclick=\"convertToInteractive('df-9601069b-b633-492a-b024-cccd9c756918')\"\n",
              "              title=\"Convert this dataframe to an interactive table.\"\n",
              "              style=\"display:none;\">\n",
              "\n",
              "  <svg xmlns=\"http://www.w3.org/2000/svg\" height=\"24px\"viewBox=\"0 0 24 24\"\n",
              "       width=\"24px\">\n",
              "    <path d=\"M0 0h24v24H0V0z\" fill=\"none\"/>\n",
              "    <path d=\"M18.56 5.44l.94 2.06.94-2.06 2.06-.94-2.06-.94-.94-2.06-.94 2.06-2.06.94zm-11 1L8.5 8.5l.94-2.06 2.06-.94-2.06-.94L8.5 2.5l-.94 2.06-2.06.94zm10 10l.94 2.06.94-2.06 2.06-.94-2.06-.94-.94-2.06-.94 2.06-2.06.94z\"/><path d=\"M17.41 7.96l-1.37-1.37c-.4-.4-.92-.59-1.43-.59-.52 0-1.04.2-1.43.59L10.3 9.45l-7.72 7.72c-.78.78-.78 2.05 0 2.83L4 21.41c.39.39.9.59 1.41.59.51 0 1.02-.2 1.41-.59l7.78-7.78 2.81-2.81c.8-.78.8-2.07 0-2.86zM5.41 20L4 18.59l7.72-7.72 1.47 1.35L5.41 20z\"/>\n",
              "  </svg>\n",
              "      </button>\n",
              "\n",
              "\n",
              "\n",
              "    <div id=\"df-579bb000-8d83-426e-a216-1c76bbc8aaa6\">\n",
              "      <button class=\"colab-df-quickchart\" onclick=\"quickchart('df-579bb000-8d83-426e-a216-1c76bbc8aaa6')\"\n",
              "              title=\"Suggest charts.\"\n",
              "              style=\"display:none;\">\n",
              "\n",
              "<svg xmlns=\"http://www.w3.org/2000/svg\" height=\"24px\"viewBox=\"0 0 24 24\"\n",
              "     width=\"24px\">\n",
              "    <g>\n",
              "        <path d=\"M19 3H5c-1.1 0-2 .9-2 2v14c0 1.1.9 2 2 2h14c1.1 0 2-.9 2-2V5c0-1.1-.9-2-2-2zM9 17H7v-7h2v7zm4 0h-2V7h2v10zm4 0h-2v-4h2v4z\"/>\n",
              "    </g>\n",
              "</svg>\n",
              "      </button>\n",
              "    </div>\n",
              "\n",
              "<style>\n",
              "  .colab-df-quickchart {\n",
              "    background-color: #E8F0FE;\n",
              "    border: none;\n",
              "    border-radius: 50%;\n",
              "    cursor: pointer;\n",
              "    display: none;\n",
              "    fill: #1967D2;\n",
              "    height: 32px;\n",
              "    padding: 0 0 0 0;\n",
              "    width: 32px;\n",
              "  }\n",
              "\n",
              "  .colab-df-quickchart:hover {\n",
              "    background-color: #E2EBFA;\n",
              "    box-shadow: 0px 1px 2px rgba(60, 64, 67, 0.3), 0px 1px 3px 1px rgba(60, 64, 67, 0.15);\n",
              "    fill: #174EA6;\n",
              "  }\n",
              "\n",
              "  [theme=dark] .colab-df-quickchart {\n",
              "    background-color: #3B4455;\n",
              "    fill: #D2E3FC;\n",
              "  }\n",
              "\n",
              "  [theme=dark] .colab-df-quickchart:hover {\n",
              "    background-color: #434B5C;\n",
              "    box-shadow: 0px 1px 3px 1px rgba(0, 0, 0, 0.15);\n",
              "    filter: drop-shadow(0px 1px 2px rgba(0, 0, 0, 0.3));\n",
              "    fill: #FFFFFF;\n",
              "  }\n",
              "</style>\n",
              "\n",
              "    <script>\n",
              "      async function quickchart(key) {\n",
              "        const containerElement = document.querySelector('#' + key);\n",
              "        const charts = await google.colab.kernel.invokeFunction(\n",
              "            'suggestCharts', [key], {});\n",
              "      }\n",
              "    </script>\n",
              "\n",
              "      <script>\n",
              "\n",
              "function displayQuickchartButton(domScope) {\n",
              "  let quickchartButtonEl =\n",
              "    domScope.querySelector('#df-579bb000-8d83-426e-a216-1c76bbc8aaa6 button.colab-df-quickchart');\n",
              "  quickchartButtonEl.style.display =\n",
              "    google.colab.kernel.accessAllowed ? 'block' : 'none';\n",
              "}\n",
              "\n",
              "        displayQuickchartButton(document);\n",
              "      </script>\n",
              "      <style>\n",
              "    .colab-df-container {\n",
              "      display:flex;\n",
              "      flex-wrap:wrap;\n",
              "      gap: 12px;\n",
              "    }\n",
              "\n",
              "    .colab-df-convert {\n",
              "      background-color: #E8F0FE;\n",
              "      border: none;\n",
              "      border-radius: 50%;\n",
              "      cursor: pointer;\n",
              "      display: none;\n",
              "      fill: #1967D2;\n",
              "      height: 32px;\n",
              "      padding: 0 0 0 0;\n",
              "      width: 32px;\n",
              "    }\n",
              "\n",
              "    .colab-df-convert:hover {\n",
              "      background-color: #E2EBFA;\n",
              "      box-shadow: 0px 1px 2px rgba(60, 64, 67, 0.3), 0px 1px 3px 1px rgba(60, 64, 67, 0.15);\n",
              "      fill: #174EA6;\n",
              "    }\n",
              "\n",
              "    [theme=dark] .colab-df-convert {\n",
              "      background-color: #3B4455;\n",
              "      fill: #D2E3FC;\n",
              "    }\n",
              "\n",
              "    [theme=dark] .colab-df-convert:hover {\n",
              "      background-color: #434B5C;\n",
              "      box-shadow: 0px 1px 3px 1px rgba(0, 0, 0, 0.15);\n",
              "      filter: drop-shadow(0px 1px 2px rgba(0, 0, 0, 0.3));\n",
              "      fill: #FFFFFF;\n",
              "    }\n",
              "  </style>\n",
              "\n",
              "      <script>\n",
              "        const buttonEl =\n",
              "          document.querySelector('#df-9601069b-b633-492a-b024-cccd9c756918 button.colab-df-convert');\n",
              "        buttonEl.style.display =\n",
              "          google.colab.kernel.accessAllowed ? 'block' : 'none';\n",
              "\n",
              "        async function convertToInteractive(key) {\n",
              "          const element = document.querySelector('#df-9601069b-b633-492a-b024-cccd9c756918');\n",
              "          const dataTable =\n",
              "            await google.colab.kernel.invokeFunction('convertToInteractive',\n",
              "                                                     [key], {});\n",
              "          if (!dataTable) return;\n",
              "\n",
              "          const docLinkHtml = 'Like what you see? Visit the ' +\n",
              "            '<a target=\"_blank\" href=https://colab.research.google.com/notebooks/data_table.ipynb>data table notebook</a>'\n",
              "            + ' to learn more about interactive tables.';\n",
              "          element.innerHTML = '';\n",
              "          dataTable['output_type'] = 'display_data';\n",
              "          await google.colab.output.renderOutput(dataTable, element);\n",
              "          const docLink = document.createElement('div');\n",
              "          docLink.innerHTML = docLinkHtml;\n",
              "          element.appendChild(docLink);\n",
              "        }\n",
              "      </script>\n",
              "    </div>\n",
              "  </div>\n"
            ]
          },
          "metadata": {},
          "execution_count": 35
        }
      ],
      "source": [
        "# Punctuation\n",
        "def count_punct(text):\n",
        "    count = sum([1 for char in text if char in string.punctuation])\n",
        "    return count\n",
        "\n",
        "df_pp['punctuation'] = df_pp['tweet'].apply(lambda x: count_punct(x))\n",
        "df_pp[['tweet','punctuation']].head()"
      ]
    },
    {
      "cell_type": "markdown",
      "metadata": {
        "id": "IwWcNUNXQWtG"
      },
      "source": [
        "Diatas adalah jumlah tanda baca pada setiap tweet"
      ]
    },
    {
      "cell_type": "code",
      "execution_count": 36,
      "metadata": {
        "colab": {
          "base_uri": "https://localhost:8080/",
          "height": 676
        },
        "id": "dGx1KWSLR2nk",
        "outputId": "136f09fb-ef49-44be-eb9b-6bd2520074c8"
      },
      "outputs": [
        {
          "output_type": "execute_result",
          "data": {
            "text/plain": [
              "                                                   tweet  hashtags\n",
              "26511  i don't remember anything about idv but from w...         0\n",
              "41768  Red Dead Redemption 2 is the greatest video ga...         0\n",
              "46405  @ Rainbow6Game thank you for blessing the enem...         0\n",
              "14703                                Nice looking router         0\n",
              "23092    A peacemaker is love... store.playstation.com /         0\n",
              "21115      Good to have played all that Assasin's Creed!         0\n",
              "53123  Johnson & Johnson to stop selling talc-based b...         0\n",
              "7874   Getting there fast with The Iron Man. Obviousl...         0\n",
              "3813                               I would are grateful.         0\n",
              "4977   I have played this interesting quiz on your Am...         0\n",
              "10333  @NBA2K @Beluba @Ronnie2K THIS TF IS MY PLAYSHO...         0\n",
              "59471  @nvidia @NVIDIAGeForce @NVIDIASHIELD @NVIDIAGa...         0\n",
              "42171                       I got the horses in the back         0\n",
              "45093                                         TKers West         0\n",
              "40055  Talk is cheap and on board this app, I wait wh...         0\n",
              "49998  I won the American Dream trophy in Grand Theft...         0\n",
              "10692  actually lost one game of @NBA2K cause of my s...         0\n",
              "56901  Hey @Ubisoft @UbisoftLatam @GhostRecon ,some p...         0\n",
              "50695  @ EAMaddenNFL ever made all the maddenas make ...         0\n",
              "27578  Fortnite is bullying me, aren’t they?. I. NEED...         0"
            ],
            "text/html": [
              "\n",
              "\n",
              "  <div id=\"df-baa10e56-a5b0-4c75-834b-7e7eafe9d488\">\n",
              "    <div class=\"colab-df-container\">\n",
              "      <div>\n",
              "<style scoped>\n",
              "    .dataframe tbody tr th:only-of-type {\n",
              "        vertical-align: middle;\n",
              "    }\n",
              "\n",
              "    .dataframe tbody tr th {\n",
              "        vertical-align: top;\n",
              "    }\n",
              "\n",
              "    .dataframe thead th {\n",
              "        text-align: right;\n",
              "    }\n",
              "</style>\n",
              "<table border=\"1\" class=\"dataframe\">\n",
              "  <thead>\n",
              "    <tr style=\"text-align: right;\">\n",
              "      <th></th>\n",
              "      <th>tweet</th>\n",
              "      <th>hashtags</th>\n",
              "    </tr>\n",
              "  </thead>\n",
              "  <tbody>\n",
              "    <tr>\n",
              "      <th>26511</th>\n",
              "      <td>i don't remember anything about idv but from w...</td>\n",
              "      <td>0</td>\n",
              "    </tr>\n",
              "    <tr>\n",
              "      <th>41768</th>\n",
              "      <td>Red Dead Redemption 2 is the greatest video ga...</td>\n",
              "      <td>0</td>\n",
              "    </tr>\n",
              "    <tr>\n",
              "      <th>46405</th>\n",
              "      <td>@ Rainbow6Game thank you for blessing the enem...</td>\n",
              "      <td>0</td>\n",
              "    </tr>\n",
              "    <tr>\n",
              "      <th>14703</th>\n",
              "      <td>Nice looking router</td>\n",
              "      <td>0</td>\n",
              "    </tr>\n",
              "    <tr>\n",
              "      <th>23092</th>\n",
              "      <td>A peacemaker is love... store.playstation.com /</td>\n",
              "      <td>0</td>\n",
              "    </tr>\n",
              "    <tr>\n",
              "      <th>21115</th>\n",
              "      <td>Good to have played all that Assasin's Creed!</td>\n",
              "      <td>0</td>\n",
              "    </tr>\n",
              "    <tr>\n",
              "      <th>53123</th>\n",
              "      <td>Johnson &amp; Johnson to stop selling talc-based b...</td>\n",
              "      <td>0</td>\n",
              "    </tr>\n",
              "    <tr>\n",
              "      <th>7874</th>\n",
              "      <td>Getting there fast with The Iron Man. Obviousl...</td>\n",
              "      <td>0</td>\n",
              "    </tr>\n",
              "    <tr>\n",
              "      <th>3813</th>\n",
              "      <td>I would are grateful.</td>\n",
              "      <td>0</td>\n",
              "    </tr>\n",
              "    <tr>\n",
              "      <th>4977</th>\n",
              "      <td>I have played this interesting quiz on your Am...</td>\n",
              "      <td>0</td>\n",
              "    </tr>\n",
              "    <tr>\n",
              "      <th>10333</th>\n",
              "      <td>@NBA2K @Beluba @Ronnie2K THIS TF IS MY PLAYSHO...</td>\n",
              "      <td>0</td>\n",
              "    </tr>\n",
              "    <tr>\n",
              "      <th>59471</th>\n",
              "      <td>@nvidia @NVIDIAGeForce @NVIDIASHIELD @NVIDIAGa...</td>\n",
              "      <td>0</td>\n",
              "    </tr>\n",
              "    <tr>\n",
              "      <th>42171</th>\n",
              "      <td>I got the horses in the back</td>\n",
              "      <td>0</td>\n",
              "    </tr>\n",
              "    <tr>\n",
              "      <th>45093</th>\n",
              "      <td>TKers West</td>\n",
              "      <td>0</td>\n",
              "    </tr>\n",
              "    <tr>\n",
              "      <th>40055</th>\n",
              "      <td>Talk is cheap and on board this app, I wait wh...</td>\n",
              "      <td>0</td>\n",
              "    </tr>\n",
              "    <tr>\n",
              "      <th>49998</th>\n",
              "      <td>I won the American Dream trophy in Grand Theft...</td>\n",
              "      <td>0</td>\n",
              "    </tr>\n",
              "    <tr>\n",
              "      <th>10692</th>\n",
              "      <td>actually lost one game of @NBA2K cause of my s...</td>\n",
              "      <td>0</td>\n",
              "    </tr>\n",
              "    <tr>\n",
              "      <th>56901</th>\n",
              "      <td>Hey @Ubisoft @UbisoftLatam @GhostRecon ,some p...</td>\n",
              "      <td>0</td>\n",
              "    </tr>\n",
              "    <tr>\n",
              "      <th>50695</th>\n",
              "      <td>@ EAMaddenNFL ever made all the maddenas make ...</td>\n",
              "      <td>0</td>\n",
              "    </tr>\n",
              "    <tr>\n",
              "      <th>27578</th>\n",
              "      <td>Fortnite is bullying me, aren’t they?. I. NEED...</td>\n",
              "      <td>0</td>\n",
              "    </tr>\n",
              "  </tbody>\n",
              "</table>\n",
              "</div>\n",
              "      <button class=\"colab-df-convert\" onclick=\"convertToInteractive('df-baa10e56-a5b0-4c75-834b-7e7eafe9d488')\"\n",
              "              title=\"Convert this dataframe to an interactive table.\"\n",
              "              style=\"display:none;\">\n",
              "\n",
              "  <svg xmlns=\"http://www.w3.org/2000/svg\" height=\"24px\"viewBox=\"0 0 24 24\"\n",
              "       width=\"24px\">\n",
              "    <path d=\"M0 0h24v24H0V0z\" fill=\"none\"/>\n",
              "    <path d=\"M18.56 5.44l.94 2.06.94-2.06 2.06-.94-2.06-.94-.94-2.06-.94 2.06-2.06.94zm-11 1L8.5 8.5l.94-2.06 2.06-.94-2.06-.94L8.5 2.5l-.94 2.06-2.06.94zm10 10l.94 2.06.94-2.06 2.06-.94-2.06-.94-.94-2.06-.94 2.06-2.06.94z\"/><path d=\"M17.41 7.96l-1.37-1.37c-.4-.4-.92-.59-1.43-.59-.52 0-1.04.2-1.43.59L10.3 9.45l-7.72 7.72c-.78.78-.78 2.05 0 2.83L4 21.41c.39.39.9.59 1.41.59.51 0 1.02-.2 1.41-.59l7.78-7.78 2.81-2.81c.8-.78.8-2.07 0-2.86zM5.41 20L4 18.59l7.72-7.72 1.47 1.35L5.41 20z\"/>\n",
              "  </svg>\n",
              "      </button>\n",
              "\n",
              "\n",
              "\n",
              "    <div id=\"df-3cb3cbf2-9787-41e2-a1e9-9246a17be238\">\n",
              "      <button class=\"colab-df-quickchart\" onclick=\"quickchart('df-3cb3cbf2-9787-41e2-a1e9-9246a17be238')\"\n",
              "              title=\"Suggest charts.\"\n",
              "              style=\"display:none;\">\n",
              "\n",
              "<svg xmlns=\"http://www.w3.org/2000/svg\" height=\"24px\"viewBox=\"0 0 24 24\"\n",
              "     width=\"24px\">\n",
              "    <g>\n",
              "        <path d=\"M19 3H5c-1.1 0-2 .9-2 2v14c0 1.1.9 2 2 2h14c1.1 0 2-.9 2-2V5c0-1.1-.9-2-2-2zM9 17H7v-7h2v7zm4 0h-2V7h2v10zm4 0h-2v-4h2v4z\"/>\n",
              "    </g>\n",
              "</svg>\n",
              "      </button>\n",
              "    </div>\n",
              "\n",
              "<style>\n",
              "  .colab-df-quickchart {\n",
              "    background-color: #E8F0FE;\n",
              "    border: none;\n",
              "    border-radius: 50%;\n",
              "    cursor: pointer;\n",
              "    display: none;\n",
              "    fill: #1967D2;\n",
              "    height: 32px;\n",
              "    padding: 0 0 0 0;\n",
              "    width: 32px;\n",
              "  }\n",
              "\n",
              "  .colab-df-quickchart:hover {\n",
              "    background-color: #E2EBFA;\n",
              "    box-shadow: 0px 1px 2px rgba(60, 64, 67, 0.3), 0px 1px 3px 1px rgba(60, 64, 67, 0.15);\n",
              "    fill: #174EA6;\n",
              "  }\n",
              "\n",
              "  [theme=dark] .colab-df-quickchart {\n",
              "    background-color: #3B4455;\n",
              "    fill: #D2E3FC;\n",
              "  }\n",
              "\n",
              "  [theme=dark] .colab-df-quickchart:hover {\n",
              "    background-color: #434B5C;\n",
              "    box-shadow: 0px 1px 3px 1px rgba(0, 0, 0, 0.15);\n",
              "    filter: drop-shadow(0px 1px 2px rgba(0, 0, 0, 0.3));\n",
              "    fill: #FFFFFF;\n",
              "  }\n",
              "</style>\n",
              "\n",
              "    <script>\n",
              "      async function quickchart(key) {\n",
              "        const containerElement = document.querySelector('#' + key);\n",
              "        const charts = await google.colab.kernel.invokeFunction(\n",
              "            'suggestCharts', [key], {});\n",
              "      }\n",
              "    </script>\n",
              "\n",
              "      <script>\n",
              "\n",
              "function displayQuickchartButton(domScope) {\n",
              "  let quickchartButtonEl =\n",
              "    domScope.querySelector('#df-3cb3cbf2-9787-41e2-a1e9-9246a17be238 button.colab-df-quickchart');\n",
              "  quickchartButtonEl.style.display =\n",
              "    google.colab.kernel.accessAllowed ? 'block' : 'none';\n",
              "}\n",
              "\n",
              "        displayQuickchartButton(document);\n",
              "      </script>\n",
              "      <style>\n",
              "    .colab-df-container {\n",
              "      display:flex;\n",
              "      flex-wrap:wrap;\n",
              "      gap: 12px;\n",
              "    }\n",
              "\n",
              "    .colab-df-convert {\n",
              "      background-color: #E8F0FE;\n",
              "      border: none;\n",
              "      border-radius: 50%;\n",
              "      cursor: pointer;\n",
              "      display: none;\n",
              "      fill: #1967D2;\n",
              "      height: 32px;\n",
              "      padding: 0 0 0 0;\n",
              "      width: 32px;\n",
              "    }\n",
              "\n",
              "    .colab-df-convert:hover {\n",
              "      background-color: #E2EBFA;\n",
              "      box-shadow: 0px 1px 2px rgba(60, 64, 67, 0.3), 0px 1px 3px 1px rgba(60, 64, 67, 0.15);\n",
              "      fill: #174EA6;\n",
              "    }\n",
              "\n",
              "    [theme=dark] .colab-df-convert {\n",
              "      background-color: #3B4455;\n",
              "      fill: #D2E3FC;\n",
              "    }\n",
              "\n",
              "    [theme=dark] .colab-df-convert:hover {\n",
              "      background-color: #434B5C;\n",
              "      box-shadow: 0px 1px 3px 1px rgba(0, 0, 0, 0.15);\n",
              "      filter: drop-shadow(0px 1px 2px rgba(0, 0, 0, 0.3));\n",
              "      fill: #FFFFFF;\n",
              "    }\n",
              "  </style>\n",
              "\n",
              "      <script>\n",
              "        const buttonEl =\n",
              "          document.querySelector('#df-baa10e56-a5b0-4c75-834b-7e7eafe9d488 button.colab-df-convert');\n",
              "        buttonEl.style.display =\n",
              "          google.colab.kernel.accessAllowed ? 'block' : 'none';\n",
              "\n",
              "        async function convertToInteractive(key) {\n",
              "          const element = document.querySelector('#df-baa10e56-a5b0-4c75-834b-7e7eafe9d488');\n",
              "          const dataTable =\n",
              "            await google.colab.kernel.invokeFunction('convertToInteractive',\n",
              "                                                     [key], {});\n",
              "          if (!dataTable) return;\n",
              "\n",
              "          const docLinkHtml = 'Like what you see? Visit the ' +\n",
              "            '<a target=\"_blank\" href=https://colab.research.google.com/notebooks/data_table.ipynb>data table notebook</a>'\n",
              "            + ' to learn more about interactive tables.';\n",
              "          element.innerHTML = '';\n",
              "          dataTable['output_type'] = 'display_data';\n",
              "          await google.colab.output.renderOutput(dataTable, element);\n",
              "          const docLink = document.createElement('div');\n",
              "          docLink.innerHTML = docLinkHtml;\n",
              "          element.appendChild(docLink);\n",
              "        }\n",
              "      </script>\n",
              "    </div>\n",
              "  </div>\n"
            ]
          },
          "metadata": {},
          "execution_count": 36
        }
      ],
      "source": [
        "# Hashtag\n",
        "df_pp['hashtags'] = df_pp['tweet'].apply(lambda x: len([x for x in x.split() if x.startswith('#')]))\n",
        "df_pp[['tweet','hashtags']].sample(20)"
      ]
    },
    {
      "cell_type": "markdown",
      "metadata": {
        "id": "0wreciZFQWtG"
      },
      "source": [
        "Diatas adalah jumlah tanda pagar pada setiap tweet"
      ]
    },
    {
      "cell_type": "code",
      "execution_count": 37,
      "metadata": {
        "colab": {
          "base_uri": "https://localhost:8080/",
          "height": 206
        },
        "id": "8mpN_NvGR2nk",
        "outputId": "be86daba-6c9e-4931-84e1-d10d804046b7"
      },
      "outputs": [
        {
          "output_type": "execute_result",
          "data": {
            "text/plain": [
              "                                                   tweet  numerics\n",
              "59994  Leaked description of Microsoft upcoming Compa...         0\n",
              "7563   got a strange new xbox series x from best buy....         0\n",
              "50372                    LMAOOOO this video got me cryin         0\n",
              "36596                Yes, I'm not going back to verizon.         0\n",
              "8208   Yes to this is right lower up my old alley. I ...         1"
            ],
            "text/html": [
              "\n",
              "\n",
              "  <div id=\"df-5d586b8f-a453-40d5-b979-faac81aaae90\">\n",
              "    <div class=\"colab-df-container\">\n",
              "      <div>\n",
              "<style scoped>\n",
              "    .dataframe tbody tr th:only-of-type {\n",
              "        vertical-align: middle;\n",
              "    }\n",
              "\n",
              "    .dataframe tbody tr th {\n",
              "        vertical-align: top;\n",
              "    }\n",
              "\n",
              "    .dataframe thead th {\n",
              "        text-align: right;\n",
              "    }\n",
              "</style>\n",
              "<table border=\"1\" class=\"dataframe\">\n",
              "  <thead>\n",
              "    <tr style=\"text-align: right;\">\n",
              "      <th></th>\n",
              "      <th>tweet</th>\n",
              "      <th>numerics</th>\n",
              "    </tr>\n",
              "  </thead>\n",
              "  <tbody>\n",
              "    <tr>\n",
              "      <th>59994</th>\n",
              "      <td>Leaked description of Microsoft upcoming Compa...</td>\n",
              "      <td>0</td>\n",
              "    </tr>\n",
              "    <tr>\n",
              "      <th>7563</th>\n",
              "      <td>got a strange new xbox series x from best buy....</td>\n",
              "      <td>0</td>\n",
              "    </tr>\n",
              "    <tr>\n",
              "      <th>50372</th>\n",
              "      <td>LMAOOOO this video got me cryin</td>\n",
              "      <td>0</td>\n",
              "    </tr>\n",
              "    <tr>\n",
              "      <th>36596</th>\n",
              "      <td>Yes, I'm not going back to verizon.</td>\n",
              "      <td>0</td>\n",
              "    </tr>\n",
              "    <tr>\n",
              "      <th>8208</th>\n",
              "      <td>Yes to this is right lower up my old alley. I ...</td>\n",
              "      <td>1</td>\n",
              "    </tr>\n",
              "  </tbody>\n",
              "</table>\n",
              "</div>\n",
              "      <button class=\"colab-df-convert\" onclick=\"convertToInteractive('df-5d586b8f-a453-40d5-b979-faac81aaae90')\"\n",
              "              title=\"Convert this dataframe to an interactive table.\"\n",
              "              style=\"display:none;\">\n",
              "\n",
              "  <svg xmlns=\"http://www.w3.org/2000/svg\" height=\"24px\"viewBox=\"0 0 24 24\"\n",
              "       width=\"24px\">\n",
              "    <path d=\"M0 0h24v24H0V0z\" fill=\"none\"/>\n",
              "    <path d=\"M18.56 5.44l.94 2.06.94-2.06 2.06-.94-2.06-.94-.94-2.06-.94 2.06-2.06.94zm-11 1L8.5 8.5l.94-2.06 2.06-.94-2.06-.94L8.5 2.5l-.94 2.06-2.06.94zm10 10l.94 2.06.94-2.06 2.06-.94-2.06-.94-.94-2.06-.94 2.06-2.06.94z\"/><path d=\"M17.41 7.96l-1.37-1.37c-.4-.4-.92-.59-1.43-.59-.52 0-1.04.2-1.43.59L10.3 9.45l-7.72 7.72c-.78.78-.78 2.05 0 2.83L4 21.41c.39.39.9.59 1.41.59.51 0 1.02-.2 1.41-.59l7.78-7.78 2.81-2.81c.8-.78.8-2.07 0-2.86zM5.41 20L4 18.59l7.72-7.72 1.47 1.35L5.41 20z\"/>\n",
              "  </svg>\n",
              "      </button>\n",
              "\n",
              "\n",
              "\n",
              "    <div id=\"df-cf1f7dfd-2246-454a-840c-f5975eb54073\">\n",
              "      <button class=\"colab-df-quickchart\" onclick=\"quickchart('df-cf1f7dfd-2246-454a-840c-f5975eb54073')\"\n",
              "              title=\"Suggest charts.\"\n",
              "              style=\"display:none;\">\n",
              "\n",
              "<svg xmlns=\"http://www.w3.org/2000/svg\" height=\"24px\"viewBox=\"0 0 24 24\"\n",
              "     width=\"24px\">\n",
              "    <g>\n",
              "        <path d=\"M19 3H5c-1.1 0-2 .9-2 2v14c0 1.1.9 2 2 2h14c1.1 0 2-.9 2-2V5c0-1.1-.9-2-2-2zM9 17H7v-7h2v7zm4 0h-2V7h2v10zm4 0h-2v-4h2v4z\"/>\n",
              "    </g>\n",
              "</svg>\n",
              "      </button>\n",
              "    </div>\n",
              "\n",
              "<style>\n",
              "  .colab-df-quickchart {\n",
              "    background-color: #E8F0FE;\n",
              "    border: none;\n",
              "    border-radius: 50%;\n",
              "    cursor: pointer;\n",
              "    display: none;\n",
              "    fill: #1967D2;\n",
              "    height: 32px;\n",
              "    padding: 0 0 0 0;\n",
              "    width: 32px;\n",
              "  }\n",
              "\n",
              "  .colab-df-quickchart:hover {\n",
              "    background-color: #E2EBFA;\n",
              "    box-shadow: 0px 1px 2px rgba(60, 64, 67, 0.3), 0px 1px 3px 1px rgba(60, 64, 67, 0.15);\n",
              "    fill: #174EA6;\n",
              "  }\n",
              "\n",
              "  [theme=dark] .colab-df-quickchart {\n",
              "    background-color: #3B4455;\n",
              "    fill: #D2E3FC;\n",
              "  }\n",
              "\n",
              "  [theme=dark] .colab-df-quickchart:hover {\n",
              "    background-color: #434B5C;\n",
              "    box-shadow: 0px 1px 3px 1px rgba(0, 0, 0, 0.15);\n",
              "    filter: drop-shadow(0px 1px 2px rgba(0, 0, 0, 0.3));\n",
              "    fill: #FFFFFF;\n",
              "  }\n",
              "</style>\n",
              "\n",
              "    <script>\n",
              "      async function quickchart(key) {\n",
              "        const containerElement = document.querySelector('#' + key);\n",
              "        const charts = await google.colab.kernel.invokeFunction(\n",
              "            'suggestCharts', [key], {});\n",
              "      }\n",
              "    </script>\n",
              "\n",
              "      <script>\n",
              "\n",
              "function displayQuickchartButton(domScope) {\n",
              "  let quickchartButtonEl =\n",
              "    domScope.querySelector('#df-cf1f7dfd-2246-454a-840c-f5975eb54073 button.colab-df-quickchart');\n",
              "  quickchartButtonEl.style.display =\n",
              "    google.colab.kernel.accessAllowed ? 'block' : 'none';\n",
              "}\n",
              "\n",
              "        displayQuickchartButton(document);\n",
              "      </script>\n",
              "      <style>\n",
              "    .colab-df-container {\n",
              "      display:flex;\n",
              "      flex-wrap:wrap;\n",
              "      gap: 12px;\n",
              "    }\n",
              "\n",
              "    .colab-df-convert {\n",
              "      background-color: #E8F0FE;\n",
              "      border: none;\n",
              "      border-radius: 50%;\n",
              "      cursor: pointer;\n",
              "      display: none;\n",
              "      fill: #1967D2;\n",
              "      height: 32px;\n",
              "      padding: 0 0 0 0;\n",
              "      width: 32px;\n",
              "    }\n",
              "\n",
              "    .colab-df-convert:hover {\n",
              "      background-color: #E2EBFA;\n",
              "      box-shadow: 0px 1px 2px rgba(60, 64, 67, 0.3), 0px 1px 3px 1px rgba(60, 64, 67, 0.15);\n",
              "      fill: #174EA6;\n",
              "    }\n",
              "\n",
              "    [theme=dark] .colab-df-convert {\n",
              "      background-color: #3B4455;\n",
              "      fill: #D2E3FC;\n",
              "    }\n",
              "\n",
              "    [theme=dark] .colab-df-convert:hover {\n",
              "      background-color: #434B5C;\n",
              "      box-shadow: 0px 1px 3px 1px rgba(0, 0, 0, 0.15);\n",
              "      filter: drop-shadow(0px 1px 2px rgba(0, 0, 0, 0.3));\n",
              "      fill: #FFFFFF;\n",
              "    }\n",
              "  </style>\n",
              "\n",
              "      <script>\n",
              "        const buttonEl =\n",
              "          document.querySelector('#df-5d586b8f-a453-40d5-b979-faac81aaae90 button.colab-df-convert');\n",
              "        buttonEl.style.display =\n",
              "          google.colab.kernel.accessAllowed ? 'block' : 'none';\n",
              "\n",
              "        async function convertToInteractive(key) {\n",
              "          const element = document.querySelector('#df-5d586b8f-a453-40d5-b979-faac81aaae90');\n",
              "          const dataTable =\n",
              "            await google.colab.kernel.invokeFunction('convertToInteractive',\n",
              "                                                     [key], {});\n",
              "          if (!dataTable) return;\n",
              "\n",
              "          const docLinkHtml = 'Like what you see? Visit the ' +\n",
              "            '<a target=\"_blank\" href=https://colab.research.google.com/notebooks/data_table.ipynb>data table notebook</a>'\n",
              "            + ' to learn more about interactive tables.';\n",
              "          element.innerHTML = '';\n",
              "          dataTable['output_type'] = 'display_data';\n",
              "          await google.colab.output.renderOutput(dataTable, element);\n",
              "          const docLink = document.createElement('div');\n",
              "          docLink.innerHTML = docLinkHtml;\n",
              "          element.appendChild(docLink);\n",
              "        }\n",
              "      </script>\n",
              "    </div>\n",
              "  </div>\n"
            ]
          },
          "metadata": {},
          "execution_count": 37
        }
      ],
      "source": [
        "# Numbers / Digits\n",
        "df_pp['numerics'] = df_pp['tweet'].apply(lambda x: len([x for x in x.split() if x.isdigit()]))\n",
        "df_pp[['tweet','numerics']].sample(5)"
      ]
    },
    {
      "cell_type": "markdown",
      "metadata": {
        "id": "ToMchWrHQWtG"
      },
      "source": [
        "Diatas adalah jumlah nomor pada setiap tweet"
      ]
    },
    {
      "cell_type": "code",
      "execution_count": 38,
      "metadata": {
        "colab": {
          "base_uri": "https://localhost:8080/",
          "height": 206
        },
        "id": "TcNO4rxSR2nk",
        "outputId": "c5b6cc29-4f45-4e62-a740-d29da499ab18"
      },
      "outputs": [
        {
          "output_type": "execute_result",
          "data": {
            "text/plain": [
              "                                     tweet  upper\n",
              "26612             Pile of Fan Art Sketches      0\n",
              "51693             Oops... I stepped on a .      1\n",
              "60320                           Incredible      0\n",
              "43302  Thank you for making a @ CallofDuty      0\n",
              "42171         I got the horses in the back      1"
            ],
            "text/html": [
              "\n",
              "\n",
              "  <div id=\"df-70082b43-9bd7-461c-ae8a-5b7eb92031af\">\n",
              "    <div class=\"colab-df-container\">\n",
              "      <div>\n",
              "<style scoped>\n",
              "    .dataframe tbody tr th:only-of-type {\n",
              "        vertical-align: middle;\n",
              "    }\n",
              "\n",
              "    .dataframe tbody tr th {\n",
              "        vertical-align: top;\n",
              "    }\n",
              "\n",
              "    .dataframe thead th {\n",
              "        text-align: right;\n",
              "    }\n",
              "</style>\n",
              "<table border=\"1\" class=\"dataframe\">\n",
              "  <thead>\n",
              "    <tr style=\"text-align: right;\">\n",
              "      <th></th>\n",
              "      <th>tweet</th>\n",
              "      <th>upper</th>\n",
              "    </tr>\n",
              "  </thead>\n",
              "  <tbody>\n",
              "    <tr>\n",
              "      <th>26612</th>\n",
              "      <td>Pile of Fan Art Sketches</td>\n",
              "      <td>0</td>\n",
              "    </tr>\n",
              "    <tr>\n",
              "      <th>51693</th>\n",
              "      <td>Oops... I stepped on a .</td>\n",
              "      <td>1</td>\n",
              "    </tr>\n",
              "    <tr>\n",
              "      <th>60320</th>\n",
              "      <td>Incredible</td>\n",
              "      <td>0</td>\n",
              "    </tr>\n",
              "    <tr>\n",
              "      <th>43302</th>\n",
              "      <td>Thank you for making a @ CallofDuty</td>\n",
              "      <td>0</td>\n",
              "    </tr>\n",
              "    <tr>\n",
              "      <th>42171</th>\n",
              "      <td>I got the horses in the back</td>\n",
              "      <td>1</td>\n",
              "    </tr>\n",
              "  </tbody>\n",
              "</table>\n",
              "</div>\n",
              "      <button class=\"colab-df-convert\" onclick=\"convertToInteractive('df-70082b43-9bd7-461c-ae8a-5b7eb92031af')\"\n",
              "              title=\"Convert this dataframe to an interactive table.\"\n",
              "              style=\"display:none;\">\n",
              "\n",
              "  <svg xmlns=\"http://www.w3.org/2000/svg\" height=\"24px\"viewBox=\"0 0 24 24\"\n",
              "       width=\"24px\">\n",
              "    <path d=\"M0 0h24v24H0V0z\" fill=\"none\"/>\n",
              "    <path d=\"M18.56 5.44l.94 2.06.94-2.06 2.06-.94-2.06-.94-.94-2.06-.94 2.06-2.06.94zm-11 1L8.5 8.5l.94-2.06 2.06-.94-2.06-.94L8.5 2.5l-.94 2.06-2.06.94zm10 10l.94 2.06.94-2.06 2.06-.94-2.06-.94-.94-2.06-.94 2.06-2.06.94z\"/><path d=\"M17.41 7.96l-1.37-1.37c-.4-.4-.92-.59-1.43-.59-.52 0-1.04.2-1.43.59L10.3 9.45l-7.72 7.72c-.78.78-.78 2.05 0 2.83L4 21.41c.39.39.9.59 1.41.59.51 0 1.02-.2 1.41-.59l7.78-7.78 2.81-2.81c.8-.78.8-2.07 0-2.86zM5.41 20L4 18.59l7.72-7.72 1.47 1.35L5.41 20z\"/>\n",
              "  </svg>\n",
              "      </button>\n",
              "\n",
              "\n",
              "\n",
              "    <div id=\"df-2cda3263-243a-43ae-a521-95a53b07c5af\">\n",
              "      <button class=\"colab-df-quickchart\" onclick=\"quickchart('df-2cda3263-243a-43ae-a521-95a53b07c5af')\"\n",
              "              title=\"Suggest charts.\"\n",
              "              style=\"display:none;\">\n",
              "\n",
              "<svg xmlns=\"http://www.w3.org/2000/svg\" height=\"24px\"viewBox=\"0 0 24 24\"\n",
              "     width=\"24px\">\n",
              "    <g>\n",
              "        <path d=\"M19 3H5c-1.1 0-2 .9-2 2v14c0 1.1.9 2 2 2h14c1.1 0 2-.9 2-2V5c0-1.1-.9-2-2-2zM9 17H7v-7h2v7zm4 0h-2V7h2v10zm4 0h-2v-4h2v4z\"/>\n",
              "    </g>\n",
              "</svg>\n",
              "      </button>\n",
              "    </div>\n",
              "\n",
              "<style>\n",
              "  .colab-df-quickchart {\n",
              "    background-color: #E8F0FE;\n",
              "    border: none;\n",
              "    border-radius: 50%;\n",
              "    cursor: pointer;\n",
              "    display: none;\n",
              "    fill: #1967D2;\n",
              "    height: 32px;\n",
              "    padding: 0 0 0 0;\n",
              "    width: 32px;\n",
              "  }\n",
              "\n",
              "  .colab-df-quickchart:hover {\n",
              "    background-color: #E2EBFA;\n",
              "    box-shadow: 0px 1px 2px rgba(60, 64, 67, 0.3), 0px 1px 3px 1px rgba(60, 64, 67, 0.15);\n",
              "    fill: #174EA6;\n",
              "  }\n",
              "\n",
              "  [theme=dark] .colab-df-quickchart {\n",
              "    background-color: #3B4455;\n",
              "    fill: #D2E3FC;\n",
              "  }\n",
              "\n",
              "  [theme=dark] .colab-df-quickchart:hover {\n",
              "    background-color: #434B5C;\n",
              "    box-shadow: 0px 1px 3px 1px rgba(0, 0, 0, 0.15);\n",
              "    filter: drop-shadow(0px 1px 2px rgba(0, 0, 0, 0.3));\n",
              "    fill: #FFFFFF;\n",
              "  }\n",
              "</style>\n",
              "\n",
              "    <script>\n",
              "      async function quickchart(key) {\n",
              "        const containerElement = document.querySelector('#' + key);\n",
              "        const charts = await google.colab.kernel.invokeFunction(\n",
              "            'suggestCharts', [key], {});\n",
              "      }\n",
              "    </script>\n",
              "\n",
              "      <script>\n",
              "\n",
              "function displayQuickchartButton(domScope) {\n",
              "  let quickchartButtonEl =\n",
              "    domScope.querySelector('#df-2cda3263-243a-43ae-a521-95a53b07c5af button.colab-df-quickchart');\n",
              "  quickchartButtonEl.style.display =\n",
              "    google.colab.kernel.accessAllowed ? 'block' : 'none';\n",
              "}\n",
              "\n",
              "        displayQuickchartButton(document);\n",
              "      </script>\n",
              "      <style>\n",
              "    .colab-df-container {\n",
              "      display:flex;\n",
              "      flex-wrap:wrap;\n",
              "      gap: 12px;\n",
              "    }\n",
              "\n",
              "    .colab-df-convert {\n",
              "      background-color: #E8F0FE;\n",
              "      border: none;\n",
              "      border-radius: 50%;\n",
              "      cursor: pointer;\n",
              "      display: none;\n",
              "      fill: #1967D2;\n",
              "      height: 32px;\n",
              "      padding: 0 0 0 0;\n",
              "      width: 32px;\n",
              "    }\n",
              "\n",
              "    .colab-df-convert:hover {\n",
              "      background-color: #E2EBFA;\n",
              "      box-shadow: 0px 1px 2px rgba(60, 64, 67, 0.3), 0px 1px 3px 1px rgba(60, 64, 67, 0.15);\n",
              "      fill: #174EA6;\n",
              "    }\n",
              "\n",
              "    [theme=dark] .colab-df-convert {\n",
              "      background-color: #3B4455;\n",
              "      fill: #D2E3FC;\n",
              "    }\n",
              "\n",
              "    [theme=dark] .colab-df-convert:hover {\n",
              "      background-color: #434B5C;\n",
              "      box-shadow: 0px 1px 3px 1px rgba(0, 0, 0, 0.15);\n",
              "      filter: drop-shadow(0px 1px 2px rgba(0, 0, 0, 0.3));\n",
              "      fill: #FFFFFF;\n",
              "    }\n",
              "  </style>\n",
              "\n",
              "      <script>\n",
              "        const buttonEl =\n",
              "          document.querySelector('#df-70082b43-9bd7-461c-ae8a-5b7eb92031af button.colab-df-convert');\n",
              "        buttonEl.style.display =\n",
              "          google.colab.kernel.accessAllowed ? 'block' : 'none';\n",
              "\n",
              "        async function convertToInteractive(key) {\n",
              "          const element = document.querySelector('#df-70082b43-9bd7-461c-ae8a-5b7eb92031af');\n",
              "          const dataTable =\n",
              "            await google.colab.kernel.invokeFunction('convertToInteractive',\n",
              "                                                     [key], {});\n",
              "          if (!dataTable) return;\n",
              "\n",
              "          const docLinkHtml = 'Like what you see? Visit the ' +\n",
              "            '<a target=\"_blank\" href=https://colab.research.google.com/notebooks/data_table.ipynb>data table notebook</a>'\n",
              "            + ' to learn more about interactive tables.';\n",
              "          element.innerHTML = '';\n",
              "          dataTable['output_type'] = 'display_data';\n",
              "          await google.colab.output.renderOutput(dataTable, element);\n",
              "          const docLink = document.createElement('div');\n",
              "          docLink.innerHTML = docLinkHtml;\n",
              "          element.appendChild(docLink);\n",
              "        }\n",
              "      </script>\n",
              "    </div>\n",
              "  </div>\n"
            ]
          },
          "metadata": {},
          "execution_count": 38
        }
      ],
      "source": [
        "# Uppercase\n",
        "df_pp['upper'] = df_pp['tweet'].apply(lambda x: len([x for x in x.split() if x.isupper()]))\n",
        "df_pp[['tweet','upper']].sample(5)"
      ]
    },
    {
      "cell_type": "markdown",
      "metadata": {
        "id": "mjD9UvPjQWtG"
      },
      "source": [
        "Diatas adalah jumlah kata yang diawali huruf kapital pada setiap tweet"
      ]
    },
    {
      "cell_type": "markdown",
      "metadata": {
        "id": "XlKimGJXQWtG"
      },
      "source": [
        "Karena sudah di cek satu per satu, akan dilakukan handling nya masing-masing"
      ]
    },
    {
      "cell_type": "code",
      "execution_count": 39,
      "metadata": {
        "colab": {
          "base_uri": "https://localhost:8080/"
        },
        "id": "JiL9zUQxR2nk",
        "outputId": "e2c88750-a0ca-4058-9c8f-42fdc31f54f9"
      },
      "outputs": [
        {
          "output_type": "execute_result",
          "data": {
            "text/plain": [
              "0    im getting on borderlands and i will murder yo...\n",
              "1    i am coming to the borders and i will kill you...\n",
              "2    im getting on borderlands and i will kill you ...\n",
              "3    im coming on borderlands and i will murder you...\n",
              "4    im getting on borderlands 2 and i will murder ...\n",
              "Name: tweet, dtype: object"
            ]
          },
          "metadata": {},
          "execution_count": 39
        }
      ],
      "source": [
        "# membuat semua teks lowercase\n",
        "df_pp['tweet'] = df_pp['tweet'].apply(lambda x: \" \".join(x.lower() for x in x.split()))\n",
        "df_pp['tweet'].head()"
      ]
    },
    {
      "cell_type": "code",
      "execution_count": 40,
      "metadata": {
        "colab": {
          "base_uri": "https://localhost:8080/"
        },
        "id": "UR099qY1R2nl",
        "outputId": "a6e2d770-75fd-4c41-e8e2-82c2f44de4d3"
      },
      "outputs": [
        {
          "output_type": "execute_result",
          "data": {
            "text/plain": [
              "40026    knows this is nepenthez whenever theres an iss...\n",
              "41906    shirleyscurry i highly recommend red dead rede...\n",
              "52517     easports  eamaddennfl  shutdownsafety  espn  ...\n",
              "38781    that home farm depot stage went on call of dut...\n",
              "2720     with finishing the black ops cold war campaign...\n",
              "Name: tweet, dtype: object"
            ]
          },
          "metadata": {},
          "execution_count": 40
        }
      ],
      "source": [
        "# menghilangkan Punctuation\n",
        "df_pp['tweet'] = df_pp['tweet'].apply(lambda x: re.sub(r'[!\"#$%&\\'()*+,-./:;<=>?@\\[\\\\\\]^_`{|}~]', '', x))\n",
        "df_pp['tweet'].sample(5)"
      ]
    },
    {
      "cell_type": "code",
      "execution_count": 41,
      "metadata": {
        "colab": {
          "base_uri": "https://localhost:8080/"
        },
        "id": "HMk0PZkeR2nl",
        "outputId": "7db9a89c-7113-4ce0-db30-225cb4b23bca"
      },
      "outputs": [
        {
          "output_type": "execute_result",
          "data": {
            "text/plain": [
              "38871    like promote free packs water outside supermar...\n",
              "11531                               stop love dota 2 casey\n",
              "45794    rainbow6game fix servers please getting kicked...\n",
              "40293                                              ea piss\n",
              "19292       great google review newark site well done team\n",
              "59372    pretty excited collaboration kovaak 20 experim...\n",
              "12962       even limited knowledge dota 2 absolutely loved\n",
              "46144                                          watch video\n",
              "20656    know man died today 10 years tried fix google ...\n",
              "29038                                                  unk\n",
              "Name: tweet, dtype: object"
            ]
          },
          "metadata": {},
          "execution_count": 41
        }
      ],
      "source": [
        "# menghilangkan Stopwords\n",
        "stop = stopwords.words('english')\n",
        "\n",
        "df_pp['tweet'] = df_pp['tweet'].apply(lambda x: \" \".join(x for x in x.split() if x not in stop))\n",
        "df_pp['tweet'].sample(10)"
      ]
    },
    {
      "cell_type": "markdown",
      "metadata": {
        "id": "Au3rmg0OR2nl"
      },
      "source": [
        "Selanjutnya akan digunakan function untuk merubah semua tweet sekaligus. Dibuatkan function juga untuk memudahkan preprocessing data inference. Di bagian ini juga digunakan dataset [ini](https://www.kaggle.com/datasets/ishivinal/contractions) sebagai dictionary kata-kata slang atau singkatan-singkatan."
      ]
    },
    {
      "cell_type": "code",
      "execution_count": 42,
      "metadata": {
        "id": "ARQsvS0iR2nl"
      },
      "outputs": [],
      "source": [
        "# membaca contractions.csv dan menyimpan sebagai dictionary\n",
        "contractions = pd.read_csv('/content/contractions.csv', index_col='Contraction')\n",
        "contractions.index = contractions.index.str.lower()\n",
        "contractions.Meaning = contractions.Meaning.str.lower()\n",
        "contractions_dict = contractions.to_dict()['Meaning']\n",
        "\n",
        "# define regex pattern\n",
        "urlPattern        = r\"((http://)[^ ]*|(https://)[^ ]*|(www\\.)[^ ]*)\"\n",
        "userPattern       = '@[^\\s]+'\n",
        "hashtagPattern    = '#[^\\s]+'\n",
        "alphaPattern      = \"[^a-z0-9<>]\"\n",
        "sequencePattern   = r\"(.)\\1\\1+\"\n",
        "seqReplacePattern = r\"\\1\\1\"\n",
        "\n",
        "# define regex emoji\n",
        "smileemoji        = r\"[8:=;]['`\\-]?[)d]+\"\n",
        "sademoji          = r\"[8:=;]['`\\-]?\\(+\"\n",
        "neutralemoji      = r\"[8:=;]['`\\-]?[\\/|l*]\"\n",
        "lolemoji          = r\"[8:=;]['`\\-]?p+\"\n",
        "\n",
        "def preprocess_apply(tweet):\n",
        "\n",
        "    tweet = tweet.lower()\n",
        "\n",
        "    # mengganti URL menjadi '<url>'\n",
        "    tweet = re.sub(urlPattern,'<url>',tweet)\n",
        "    # mengganti @USERNAME menjadi '<user>'.\n",
        "    tweet = re.sub(userPattern,'<user>', tweet)\n",
        "\n",
        "    # mengganti 3 huruf yang sama menjadi 2 huruf untuk meringankan model\n",
        "    tweet = re.sub(sequencePattern, seqReplacePattern, tweet)\n",
        "\n",
        "    # regex semua emoji\n",
        "    tweet = re.sub(r'<3', '<heart>', tweet)\n",
        "    tweet = re.sub(smileemoji, '<smile>', tweet)\n",
        "    tweet = re.sub(sademoji, '<sadface>', tweet)\n",
        "    tweet = re.sub(neutralemoji, '<neutralface>', tweet)\n",
        "    tweet = re.sub(lolemoji, '<lolface>', tweet)\n",
        "\n",
        "    for contraction, replacement in contractions_dict.items():\n",
        "        tweet = tweet.replace(contraction, replacement)\n",
        "\n",
        "    # membuang semua alphanumerik dan simbol\n",
        "    tweet = re.sub(alphaPattern, ' ', tweet)\n",
        "\n",
        "    # menambah space setelah handling url\n",
        "    tweet = re.sub(r'/', ' / ', tweet)\n",
        "    return tweet"
      ]
    },
    {
      "cell_type": "markdown",
      "metadata": {
        "id": "_a9_nkGCQWtH"
      },
      "source": [
        "Selanjutnya aplikasikan function preprocessing ke keseluruhan data."
      ]
    },
    {
      "cell_type": "code",
      "execution_count": 43,
      "metadata": {
        "colab": {
          "base_uri": "https://localhost:8080/"
        },
        "id": "cTlZ8q4IR2nl",
        "outputId": "912ff5fd-f9b6-4d0d-aca5-5cf2b2ede531"
      },
      "outputs": [
        {
          "output_type": "stream",
          "name": "stdout",
          "text": [
            "CPU times: user 4.67 s, sys: 38.3 ms, total: 4.71 s\n",
            "Wall time: 5.91 s\n"
          ]
        }
      ],
      "source": [
        "%%time\n",
        "df_pp['processed_tweet'] = df_pp.tweet.apply(preprocess_apply)"
      ]
    },
    {
      "cell_type": "code",
      "execution_count": 44,
      "metadata": {
        "colab": {
          "base_uri": "https://localhost:8080/",
          "height": 554
        },
        "id": "LFc6sWEqR2nl",
        "outputId": "e2706f60-3307-4ae4-f70d-c1bcda8f8417"
      },
      "outputs": [
        {
          "output_type": "execute_result",
          "data": {
            "text/plain": [
              "       index sentiment                                              tweet  \\\n",
              "0          0  Positive                      im getting borderlands murder   \n",
              "1          1  Positive                                coming borders kill   \n",
              "2          2  Positive                        im getting borderlands kill   \n",
              "3          3  Positive                       im coming borderlands murder   \n",
              "4          4  Positive                    im getting borderlands 2 murder   \n",
              "...      ...       ...                                                ...   \n",
              "61116  61116  Positive  realized windows partition mac like 6 years be...   \n",
              "61117  61117  Positive  realized mac window partition 6 years behind n...   \n",
              "61118  61118  Positive  realized windows partition mac 6 years behind ...   \n",
              "61119  61119  Positive  realized windows partition mac like 6 years be...   \n",
              "61120  61120  Positive  like windows partition mac like 6 years behind...   \n",
              "\n",
              "       stopwords  punctuation  hashtags  numerics  upper  \\\n",
              "0              6            1         0         0      0   \n",
              "1              6            1         0         0      2   \n",
              "2              5            1         0         0      0   \n",
              "3              5            1         0         0      0   \n",
              "4              6            1         0         1      0   \n",
              "...          ...          ...       ...       ...    ...   \n",
              "61116         11            0         0         1      2   \n",
              "61117          9            1         0         1      2   \n",
              "61118         11            0         0         1      1   \n",
              "61119         13            0         0         1      2   \n",
              "61120         10            0         0         1      1   \n",
              "\n",
              "                                         processed_tweet  \n",
              "0                          im getting borderlands murder  \n",
              "1                                    coming borders kill  \n",
              "2                            im getting borderlands kill  \n",
              "3                           im coming borderlands murder  \n",
              "4                        im getting borderlands 2 murder  \n",
              "...                                                  ...  \n",
              "61116  realized windows partition mac like 6 years be...  \n",
              "61117  realized mac window partition 6 years behind n...  \n",
              "61118  realized windows partition mac 6 years behind ...  \n",
              "61119  realized windows partition mac like 6 years be...  \n",
              "61120  like windows partition mac like 6 years behind...  \n",
              "\n",
              "[61121 rows x 9 columns]"
            ],
            "text/html": [
              "\n",
              "\n",
              "  <div id=\"df-e93c0b97-e496-4452-a2f3-01fd9c40ec8b\">\n",
              "    <div class=\"colab-df-container\">\n",
              "      <div>\n",
              "<style scoped>\n",
              "    .dataframe tbody tr th:only-of-type {\n",
              "        vertical-align: middle;\n",
              "    }\n",
              "\n",
              "    .dataframe tbody tr th {\n",
              "        vertical-align: top;\n",
              "    }\n",
              "\n",
              "    .dataframe thead th {\n",
              "        text-align: right;\n",
              "    }\n",
              "</style>\n",
              "<table border=\"1\" class=\"dataframe\">\n",
              "  <thead>\n",
              "    <tr style=\"text-align: right;\">\n",
              "      <th></th>\n",
              "      <th>index</th>\n",
              "      <th>sentiment</th>\n",
              "      <th>tweet</th>\n",
              "      <th>stopwords</th>\n",
              "      <th>punctuation</th>\n",
              "      <th>hashtags</th>\n",
              "      <th>numerics</th>\n",
              "      <th>upper</th>\n",
              "      <th>processed_tweet</th>\n",
              "    </tr>\n",
              "  </thead>\n",
              "  <tbody>\n",
              "    <tr>\n",
              "      <th>0</th>\n",
              "      <td>0</td>\n",
              "      <td>Positive</td>\n",
              "      <td>im getting borderlands murder</td>\n",
              "      <td>6</td>\n",
              "      <td>1</td>\n",
              "      <td>0</td>\n",
              "      <td>0</td>\n",
              "      <td>0</td>\n",
              "      <td>im getting borderlands murder</td>\n",
              "    </tr>\n",
              "    <tr>\n",
              "      <th>1</th>\n",
              "      <td>1</td>\n",
              "      <td>Positive</td>\n",
              "      <td>coming borders kill</td>\n",
              "      <td>6</td>\n",
              "      <td>1</td>\n",
              "      <td>0</td>\n",
              "      <td>0</td>\n",
              "      <td>2</td>\n",
              "      <td>coming borders kill</td>\n",
              "    </tr>\n",
              "    <tr>\n",
              "      <th>2</th>\n",
              "      <td>2</td>\n",
              "      <td>Positive</td>\n",
              "      <td>im getting borderlands kill</td>\n",
              "      <td>5</td>\n",
              "      <td>1</td>\n",
              "      <td>0</td>\n",
              "      <td>0</td>\n",
              "      <td>0</td>\n",
              "      <td>im getting borderlands kill</td>\n",
              "    </tr>\n",
              "    <tr>\n",
              "      <th>3</th>\n",
              "      <td>3</td>\n",
              "      <td>Positive</td>\n",
              "      <td>im coming borderlands murder</td>\n",
              "      <td>5</td>\n",
              "      <td>1</td>\n",
              "      <td>0</td>\n",
              "      <td>0</td>\n",
              "      <td>0</td>\n",
              "      <td>im coming borderlands murder</td>\n",
              "    </tr>\n",
              "    <tr>\n",
              "      <th>4</th>\n",
              "      <td>4</td>\n",
              "      <td>Positive</td>\n",
              "      <td>im getting borderlands 2 murder</td>\n",
              "      <td>6</td>\n",
              "      <td>1</td>\n",
              "      <td>0</td>\n",
              "      <td>1</td>\n",
              "      <td>0</td>\n",
              "      <td>im getting borderlands 2 murder</td>\n",
              "    </tr>\n",
              "    <tr>\n",
              "      <th>...</th>\n",
              "      <td>...</td>\n",
              "      <td>...</td>\n",
              "      <td>...</td>\n",
              "      <td>...</td>\n",
              "      <td>...</td>\n",
              "      <td>...</td>\n",
              "      <td>...</td>\n",
              "      <td>...</td>\n",
              "      <td>...</td>\n",
              "    </tr>\n",
              "    <tr>\n",
              "      <th>61116</th>\n",
              "      <td>61116</td>\n",
              "      <td>Positive</td>\n",
              "      <td>realized windows partition mac like 6 years be...</td>\n",
              "      <td>11</td>\n",
              "      <td>0</td>\n",
              "      <td>0</td>\n",
              "      <td>1</td>\n",
              "      <td>2</td>\n",
              "      <td>realized windows partition mac like 6 years be...</td>\n",
              "    </tr>\n",
              "    <tr>\n",
              "      <th>61117</th>\n",
              "      <td>61117</td>\n",
              "      <td>Positive</td>\n",
              "      <td>realized mac window partition 6 years behind n...</td>\n",
              "      <td>9</td>\n",
              "      <td>1</td>\n",
              "      <td>0</td>\n",
              "      <td>1</td>\n",
              "      <td>2</td>\n",
              "      <td>realized mac window partition 6 years behind n...</td>\n",
              "    </tr>\n",
              "    <tr>\n",
              "      <th>61118</th>\n",
              "      <td>61118</td>\n",
              "      <td>Positive</td>\n",
              "      <td>realized windows partition mac 6 years behind ...</td>\n",
              "      <td>11</td>\n",
              "      <td>0</td>\n",
              "      <td>0</td>\n",
              "      <td>1</td>\n",
              "      <td>1</td>\n",
              "      <td>realized windows partition mac 6 years behind ...</td>\n",
              "    </tr>\n",
              "    <tr>\n",
              "      <th>61119</th>\n",
              "      <td>61119</td>\n",
              "      <td>Positive</td>\n",
              "      <td>realized windows partition mac like 6 years be...</td>\n",
              "      <td>13</td>\n",
              "      <td>0</td>\n",
              "      <td>0</td>\n",
              "      <td>1</td>\n",
              "      <td>2</td>\n",
              "      <td>realized windows partition mac like 6 years be...</td>\n",
              "    </tr>\n",
              "    <tr>\n",
              "      <th>61120</th>\n",
              "      <td>61120</td>\n",
              "      <td>Positive</td>\n",
              "      <td>like windows partition mac like 6 years behind...</td>\n",
              "      <td>10</td>\n",
              "      <td>0</td>\n",
              "      <td>0</td>\n",
              "      <td>1</td>\n",
              "      <td>1</td>\n",
              "      <td>like windows partition mac like 6 years behind...</td>\n",
              "    </tr>\n",
              "  </tbody>\n",
              "</table>\n",
              "<p>61121 rows × 9 columns</p>\n",
              "</div>\n",
              "      <button class=\"colab-df-convert\" onclick=\"convertToInteractive('df-e93c0b97-e496-4452-a2f3-01fd9c40ec8b')\"\n",
              "              title=\"Convert this dataframe to an interactive table.\"\n",
              "              style=\"display:none;\">\n",
              "\n",
              "  <svg xmlns=\"http://www.w3.org/2000/svg\" height=\"24px\"viewBox=\"0 0 24 24\"\n",
              "       width=\"24px\">\n",
              "    <path d=\"M0 0h24v24H0V0z\" fill=\"none\"/>\n",
              "    <path d=\"M18.56 5.44l.94 2.06.94-2.06 2.06-.94-2.06-.94-.94-2.06-.94 2.06-2.06.94zm-11 1L8.5 8.5l.94-2.06 2.06-.94-2.06-.94L8.5 2.5l-.94 2.06-2.06.94zm10 10l.94 2.06.94-2.06 2.06-.94-2.06-.94-.94-2.06-.94 2.06-2.06.94z\"/><path d=\"M17.41 7.96l-1.37-1.37c-.4-.4-.92-.59-1.43-.59-.52 0-1.04.2-1.43.59L10.3 9.45l-7.72 7.72c-.78.78-.78 2.05 0 2.83L4 21.41c.39.39.9.59 1.41.59.51 0 1.02-.2 1.41-.59l7.78-7.78 2.81-2.81c.8-.78.8-2.07 0-2.86zM5.41 20L4 18.59l7.72-7.72 1.47 1.35L5.41 20z\"/>\n",
              "  </svg>\n",
              "      </button>\n",
              "\n",
              "\n",
              "\n",
              "    <div id=\"df-d33235c1-4a10-4c2e-a622-6a75049a3bf3\">\n",
              "      <button class=\"colab-df-quickchart\" onclick=\"quickchart('df-d33235c1-4a10-4c2e-a622-6a75049a3bf3')\"\n",
              "              title=\"Suggest charts.\"\n",
              "              style=\"display:none;\">\n",
              "\n",
              "<svg xmlns=\"http://www.w3.org/2000/svg\" height=\"24px\"viewBox=\"0 0 24 24\"\n",
              "     width=\"24px\">\n",
              "    <g>\n",
              "        <path d=\"M19 3H5c-1.1 0-2 .9-2 2v14c0 1.1.9 2 2 2h14c1.1 0 2-.9 2-2V5c0-1.1-.9-2-2-2zM9 17H7v-7h2v7zm4 0h-2V7h2v10zm4 0h-2v-4h2v4z\"/>\n",
              "    </g>\n",
              "</svg>\n",
              "      </button>\n",
              "    </div>\n",
              "\n",
              "<style>\n",
              "  .colab-df-quickchart {\n",
              "    background-color: #E8F0FE;\n",
              "    border: none;\n",
              "    border-radius: 50%;\n",
              "    cursor: pointer;\n",
              "    display: none;\n",
              "    fill: #1967D2;\n",
              "    height: 32px;\n",
              "    padding: 0 0 0 0;\n",
              "    width: 32px;\n",
              "  }\n",
              "\n",
              "  .colab-df-quickchart:hover {\n",
              "    background-color: #E2EBFA;\n",
              "    box-shadow: 0px 1px 2px rgba(60, 64, 67, 0.3), 0px 1px 3px 1px rgba(60, 64, 67, 0.15);\n",
              "    fill: #174EA6;\n",
              "  }\n",
              "\n",
              "  [theme=dark] .colab-df-quickchart {\n",
              "    background-color: #3B4455;\n",
              "    fill: #D2E3FC;\n",
              "  }\n",
              "\n",
              "  [theme=dark] .colab-df-quickchart:hover {\n",
              "    background-color: #434B5C;\n",
              "    box-shadow: 0px 1px 3px 1px rgba(0, 0, 0, 0.15);\n",
              "    filter: drop-shadow(0px 1px 2px rgba(0, 0, 0, 0.3));\n",
              "    fill: #FFFFFF;\n",
              "  }\n",
              "</style>\n",
              "\n",
              "    <script>\n",
              "      async function quickchart(key) {\n",
              "        const containerElement = document.querySelector('#' + key);\n",
              "        const charts = await google.colab.kernel.invokeFunction(\n",
              "            'suggestCharts', [key], {});\n",
              "      }\n",
              "    </script>\n",
              "\n",
              "      <script>\n",
              "\n",
              "function displayQuickchartButton(domScope) {\n",
              "  let quickchartButtonEl =\n",
              "    domScope.querySelector('#df-d33235c1-4a10-4c2e-a622-6a75049a3bf3 button.colab-df-quickchart');\n",
              "  quickchartButtonEl.style.display =\n",
              "    google.colab.kernel.accessAllowed ? 'block' : 'none';\n",
              "}\n",
              "\n",
              "        displayQuickchartButton(document);\n",
              "      </script>\n",
              "      <style>\n",
              "    .colab-df-container {\n",
              "      display:flex;\n",
              "      flex-wrap:wrap;\n",
              "      gap: 12px;\n",
              "    }\n",
              "\n",
              "    .colab-df-convert {\n",
              "      background-color: #E8F0FE;\n",
              "      border: none;\n",
              "      border-radius: 50%;\n",
              "      cursor: pointer;\n",
              "      display: none;\n",
              "      fill: #1967D2;\n",
              "      height: 32px;\n",
              "      padding: 0 0 0 0;\n",
              "      width: 32px;\n",
              "    }\n",
              "\n",
              "    .colab-df-convert:hover {\n",
              "      background-color: #E2EBFA;\n",
              "      box-shadow: 0px 1px 2px rgba(60, 64, 67, 0.3), 0px 1px 3px 1px rgba(60, 64, 67, 0.15);\n",
              "      fill: #174EA6;\n",
              "    }\n",
              "\n",
              "    [theme=dark] .colab-df-convert {\n",
              "      background-color: #3B4455;\n",
              "      fill: #D2E3FC;\n",
              "    }\n",
              "\n",
              "    [theme=dark] .colab-df-convert:hover {\n",
              "      background-color: #434B5C;\n",
              "      box-shadow: 0px 1px 3px 1px rgba(0, 0, 0, 0.15);\n",
              "      filter: drop-shadow(0px 1px 2px rgba(0, 0, 0, 0.3));\n",
              "      fill: #FFFFFF;\n",
              "    }\n",
              "  </style>\n",
              "\n",
              "      <script>\n",
              "        const buttonEl =\n",
              "          document.querySelector('#df-e93c0b97-e496-4452-a2f3-01fd9c40ec8b button.colab-df-convert');\n",
              "        buttonEl.style.display =\n",
              "          google.colab.kernel.accessAllowed ? 'block' : 'none';\n",
              "\n",
              "        async function convertToInteractive(key) {\n",
              "          const element = document.querySelector('#df-e93c0b97-e496-4452-a2f3-01fd9c40ec8b');\n",
              "          const dataTable =\n",
              "            await google.colab.kernel.invokeFunction('convertToInteractive',\n",
              "                                                     [key], {});\n",
              "          if (!dataTable) return;\n",
              "\n",
              "          const docLinkHtml = 'Like what you see? Visit the ' +\n",
              "            '<a target=\"_blank\" href=https://colab.research.google.com/notebooks/data_table.ipynb>data table notebook</a>'\n",
              "            + ' to learn more about interactive tables.';\n",
              "          element.innerHTML = '';\n",
              "          dataTable['output_type'] = 'display_data';\n",
              "          await google.colab.output.renderOutput(dataTable, element);\n",
              "          const docLink = document.createElement('div');\n",
              "          docLink.innerHTML = docLinkHtml;\n",
              "          element.appendChild(docLink);\n",
              "        }\n",
              "      </script>\n",
              "    </div>\n",
              "  </div>\n"
            ]
          },
          "metadata": {},
          "execution_count": 44
        }
      ],
      "source": [
        "df_pp"
      ]
    },
    {
      "cell_type": "code",
      "execution_count": 45,
      "metadata": {
        "colab": {
          "base_uri": "https://localhost:8080/",
          "height": 206
        },
        "id": "QYoIdNy2R2nm",
        "outputId": "d4fde96b-3f1f-41c1-d7ef-97422aee74d7"
      },
      "outputs": [
        {
          "output_type": "execute_result",
          "data": {
            "text/plain": [
              "                                                   tweet  word_count\n",
              "46820                                                unk           1\n",
              "16341  got fucked fucking horrific reverse vision two...          31\n",
              "56166  well damn use make look bad like 3 hours publi...          13\n",
              "37244  vzwsupport sent originally direct message issu...          11\n",
              "41349  mmmmm okay red dead redemption 2 part 6 paramo...          12"
            ],
            "text/html": [
              "\n",
              "\n",
              "  <div id=\"df-76ef4256-e387-493f-ac65-a287234381d4\">\n",
              "    <div class=\"colab-df-container\">\n",
              "      <div>\n",
              "<style scoped>\n",
              "    .dataframe tbody tr th:only-of-type {\n",
              "        vertical-align: middle;\n",
              "    }\n",
              "\n",
              "    .dataframe tbody tr th {\n",
              "        vertical-align: top;\n",
              "    }\n",
              "\n",
              "    .dataframe thead th {\n",
              "        text-align: right;\n",
              "    }\n",
              "</style>\n",
              "<table border=\"1\" class=\"dataframe\">\n",
              "  <thead>\n",
              "    <tr style=\"text-align: right;\">\n",
              "      <th></th>\n",
              "      <th>tweet</th>\n",
              "      <th>word_count</th>\n",
              "    </tr>\n",
              "  </thead>\n",
              "  <tbody>\n",
              "    <tr>\n",
              "      <th>46820</th>\n",
              "      <td>unk</td>\n",
              "      <td>1</td>\n",
              "    </tr>\n",
              "    <tr>\n",
              "      <th>16341</th>\n",
              "      <td>got fucked fucking horrific reverse vision two...</td>\n",
              "      <td>31</td>\n",
              "    </tr>\n",
              "    <tr>\n",
              "      <th>56166</th>\n",
              "      <td>well damn use make look bad like 3 hours publi...</td>\n",
              "      <td>13</td>\n",
              "    </tr>\n",
              "    <tr>\n",
              "      <th>37244</th>\n",
              "      <td>vzwsupport sent originally direct message issu...</td>\n",
              "      <td>11</td>\n",
              "    </tr>\n",
              "    <tr>\n",
              "      <th>41349</th>\n",
              "      <td>mmmmm okay red dead redemption 2 part 6 paramo...</td>\n",
              "      <td>12</td>\n",
              "    </tr>\n",
              "  </tbody>\n",
              "</table>\n",
              "</div>\n",
              "      <button class=\"colab-df-convert\" onclick=\"convertToInteractive('df-76ef4256-e387-493f-ac65-a287234381d4')\"\n",
              "              title=\"Convert this dataframe to an interactive table.\"\n",
              "              style=\"display:none;\">\n",
              "\n",
              "  <svg xmlns=\"http://www.w3.org/2000/svg\" height=\"24px\"viewBox=\"0 0 24 24\"\n",
              "       width=\"24px\">\n",
              "    <path d=\"M0 0h24v24H0V0z\" fill=\"none\"/>\n",
              "    <path d=\"M18.56 5.44l.94 2.06.94-2.06 2.06-.94-2.06-.94-.94-2.06-.94 2.06-2.06.94zm-11 1L8.5 8.5l.94-2.06 2.06-.94-2.06-.94L8.5 2.5l-.94 2.06-2.06.94zm10 10l.94 2.06.94-2.06 2.06-.94-2.06-.94-.94-2.06-.94 2.06-2.06.94z\"/><path d=\"M17.41 7.96l-1.37-1.37c-.4-.4-.92-.59-1.43-.59-.52 0-1.04.2-1.43.59L10.3 9.45l-7.72 7.72c-.78.78-.78 2.05 0 2.83L4 21.41c.39.39.9.59 1.41.59.51 0 1.02-.2 1.41-.59l7.78-7.78 2.81-2.81c.8-.78.8-2.07 0-2.86zM5.41 20L4 18.59l7.72-7.72 1.47 1.35L5.41 20z\"/>\n",
              "  </svg>\n",
              "      </button>\n",
              "\n",
              "\n",
              "\n",
              "    <div id=\"df-d8d8075b-6d3c-475f-b619-b30818e653c4\">\n",
              "      <button class=\"colab-df-quickchart\" onclick=\"quickchart('df-d8d8075b-6d3c-475f-b619-b30818e653c4')\"\n",
              "              title=\"Suggest charts.\"\n",
              "              style=\"display:none;\">\n",
              "\n",
              "<svg xmlns=\"http://www.w3.org/2000/svg\" height=\"24px\"viewBox=\"0 0 24 24\"\n",
              "     width=\"24px\">\n",
              "    <g>\n",
              "        <path d=\"M19 3H5c-1.1 0-2 .9-2 2v14c0 1.1.9 2 2 2h14c1.1 0 2-.9 2-2V5c0-1.1-.9-2-2-2zM9 17H7v-7h2v7zm4 0h-2V7h2v10zm4 0h-2v-4h2v4z\"/>\n",
              "    </g>\n",
              "</svg>\n",
              "      </button>\n",
              "    </div>\n",
              "\n",
              "<style>\n",
              "  .colab-df-quickchart {\n",
              "    background-color: #E8F0FE;\n",
              "    border: none;\n",
              "    border-radius: 50%;\n",
              "    cursor: pointer;\n",
              "    display: none;\n",
              "    fill: #1967D2;\n",
              "    height: 32px;\n",
              "    padding: 0 0 0 0;\n",
              "    width: 32px;\n",
              "  }\n",
              "\n",
              "  .colab-df-quickchart:hover {\n",
              "    background-color: #E2EBFA;\n",
              "    box-shadow: 0px 1px 2px rgba(60, 64, 67, 0.3), 0px 1px 3px 1px rgba(60, 64, 67, 0.15);\n",
              "    fill: #174EA6;\n",
              "  }\n",
              "\n",
              "  [theme=dark] .colab-df-quickchart {\n",
              "    background-color: #3B4455;\n",
              "    fill: #D2E3FC;\n",
              "  }\n",
              "\n",
              "  [theme=dark] .colab-df-quickchart:hover {\n",
              "    background-color: #434B5C;\n",
              "    box-shadow: 0px 1px 3px 1px rgba(0, 0, 0, 0.15);\n",
              "    filter: drop-shadow(0px 1px 2px rgba(0, 0, 0, 0.3));\n",
              "    fill: #FFFFFF;\n",
              "  }\n",
              "</style>\n",
              "\n",
              "    <script>\n",
              "      async function quickchart(key) {\n",
              "        const containerElement = document.querySelector('#' + key);\n",
              "        const charts = await google.colab.kernel.invokeFunction(\n",
              "            'suggestCharts', [key], {});\n",
              "      }\n",
              "    </script>\n",
              "\n",
              "      <script>\n",
              "\n",
              "function displayQuickchartButton(domScope) {\n",
              "  let quickchartButtonEl =\n",
              "    domScope.querySelector('#df-d8d8075b-6d3c-475f-b619-b30818e653c4 button.colab-df-quickchart');\n",
              "  quickchartButtonEl.style.display =\n",
              "    google.colab.kernel.accessAllowed ? 'block' : 'none';\n",
              "}\n",
              "\n",
              "        displayQuickchartButton(document);\n",
              "      </script>\n",
              "      <style>\n",
              "    .colab-df-container {\n",
              "      display:flex;\n",
              "      flex-wrap:wrap;\n",
              "      gap: 12px;\n",
              "    }\n",
              "\n",
              "    .colab-df-convert {\n",
              "      background-color: #E8F0FE;\n",
              "      border: none;\n",
              "      border-radius: 50%;\n",
              "      cursor: pointer;\n",
              "      display: none;\n",
              "      fill: #1967D2;\n",
              "      height: 32px;\n",
              "      padding: 0 0 0 0;\n",
              "      width: 32px;\n",
              "    }\n",
              "\n",
              "    .colab-df-convert:hover {\n",
              "      background-color: #E2EBFA;\n",
              "      box-shadow: 0px 1px 2px rgba(60, 64, 67, 0.3), 0px 1px 3px 1px rgba(60, 64, 67, 0.15);\n",
              "      fill: #174EA6;\n",
              "    }\n",
              "\n",
              "    [theme=dark] .colab-df-convert {\n",
              "      background-color: #3B4455;\n",
              "      fill: #D2E3FC;\n",
              "    }\n",
              "\n",
              "    [theme=dark] .colab-df-convert:hover {\n",
              "      background-color: #434B5C;\n",
              "      box-shadow: 0px 1px 3px 1px rgba(0, 0, 0, 0.15);\n",
              "      filter: drop-shadow(0px 1px 2px rgba(0, 0, 0, 0.3));\n",
              "      fill: #FFFFFF;\n",
              "    }\n",
              "  </style>\n",
              "\n",
              "      <script>\n",
              "        const buttonEl =\n",
              "          document.querySelector('#df-76ef4256-e387-493f-ac65-a287234381d4 button.colab-df-convert');\n",
              "        buttonEl.style.display =\n",
              "          google.colab.kernel.accessAllowed ? 'block' : 'none';\n",
              "\n",
              "        async function convertToInteractive(key) {\n",
              "          const element = document.querySelector('#df-76ef4256-e387-493f-ac65-a287234381d4');\n",
              "          const dataTable =\n",
              "            await google.colab.kernel.invokeFunction('convertToInteractive',\n",
              "                                                     [key], {});\n",
              "          if (!dataTable) return;\n",
              "\n",
              "          const docLinkHtml = 'Like what you see? Visit the ' +\n",
              "            '<a target=\"_blank\" href=https://colab.research.google.com/notebooks/data_table.ipynb>data table notebook</a>'\n",
              "            + ' to learn more about interactive tables.';\n",
              "          element.innerHTML = '';\n",
              "          dataTable['output_type'] = 'display_data';\n",
              "          await google.colab.output.renderOutput(dataTable, element);\n",
              "          const docLink = document.createElement('div');\n",
              "          docLink.innerHTML = docLinkHtml;\n",
              "          element.appendChild(docLink);\n",
              "        }\n",
              "      </script>\n",
              "    </div>\n",
              "  </div>\n"
            ]
          },
          "metadata": {},
          "execution_count": 45
        }
      ],
      "source": [
        "# jumlah kata\n",
        "df_pp['word_count'] = df_pp['tweet'].apply(lambda x: len(str(x).split(\" \")))\n",
        "df_pp[['tweet','word_count']].sample(5)"
      ]
    },
    {
      "cell_type": "code",
      "execution_count": 46,
      "metadata": {
        "colab": {
          "base_uri": "https://localhost:8080/",
          "height": 206
        },
        "id": "WNQvCZtFR2nm",
        "outputId": "b497c3e8-3cf8-4c02-b535-f1387cf73c07"
      },
      "outputs": [
        {
          "output_type": "execute_result",
          "data": {
            "text/plain": [
              "                             tweet  char_count\n",
              "0    im getting borderlands murder          29\n",
              "1              coming borders kill          19\n",
              "2      im getting borderlands kill          27\n",
              "3     im coming borderlands murder          28\n",
              "4  im getting borderlands 2 murder          31"
            ],
            "text/html": [
              "\n",
              "\n",
              "  <div id=\"df-a4e72e8f-35fe-4eea-bda0-26052b2b2076\">\n",
              "    <div class=\"colab-df-container\">\n",
              "      <div>\n",
              "<style scoped>\n",
              "    .dataframe tbody tr th:only-of-type {\n",
              "        vertical-align: middle;\n",
              "    }\n",
              "\n",
              "    .dataframe tbody tr th {\n",
              "        vertical-align: top;\n",
              "    }\n",
              "\n",
              "    .dataframe thead th {\n",
              "        text-align: right;\n",
              "    }\n",
              "</style>\n",
              "<table border=\"1\" class=\"dataframe\">\n",
              "  <thead>\n",
              "    <tr style=\"text-align: right;\">\n",
              "      <th></th>\n",
              "      <th>tweet</th>\n",
              "      <th>char_count</th>\n",
              "    </tr>\n",
              "  </thead>\n",
              "  <tbody>\n",
              "    <tr>\n",
              "      <th>0</th>\n",
              "      <td>im getting borderlands murder</td>\n",
              "      <td>29</td>\n",
              "    </tr>\n",
              "    <tr>\n",
              "      <th>1</th>\n",
              "      <td>coming borders kill</td>\n",
              "      <td>19</td>\n",
              "    </tr>\n",
              "    <tr>\n",
              "      <th>2</th>\n",
              "      <td>im getting borderlands kill</td>\n",
              "      <td>27</td>\n",
              "    </tr>\n",
              "    <tr>\n",
              "      <th>3</th>\n",
              "      <td>im coming borderlands murder</td>\n",
              "      <td>28</td>\n",
              "    </tr>\n",
              "    <tr>\n",
              "      <th>4</th>\n",
              "      <td>im getting borderlands 2 murder</td>\n",
              "      <td>31</td>\n",
              "    </tr>\n",
              "  </tbody>\n",
              "</table>\n",
              "</div>\n",
              "      <button class=\"colab-df-convert\" onclick=\"convertToInteractive('df-a4e72e8f-35fe-4eea-bda0-26052b2b2076')\"\n",
              "              title=\"Convert this dataframe to an interactive table.\"\n",
              "              style=\"display:none;\">\n",
              "\n",
              "  <svg xmlns=\"http://www.w3.org/2000/svg\" height=\"24px\"viewBox=\"0 0 24 24\"\n",
              "       width=\"24px\">\n",
              "    <path d=\"M0 0h24v24H0V0z\" fill=\"none\"/>\n",
              "    <path d=\"M18.56 5.44l.94 2.06.94-2.06 2.06-.94-2.06-.94-.94-2.06-.94 2.06-2.06.94zm-11 1L8.5 8.5l.94-2.06 2.06-.94-2.06-.94L8.5 2.5l-.94 2.06-2.06.94zm10 10l.94 2.06.94-2.06 2.06-.94-2.06-.94-.94-2.06-.94 2.06-2.06.94z\"/><path d=\"M17.41 7.96l-1.37-1.37c-.4-.4-.92-.59-1.43-.59-.52 0-1.04.2-1.43.59L10.3 9.45l-7.72 7.72c-.78.78-.78 2.05 0 2.83L4 21.41c.39.39.9.59 1.41.59.51 0 1.02-.2 1.41-.59l7.78-7.78 2.81-2.81c.8-.78.8-2.07 0-2.86zM5.41 20L4 18.59l7.72-7.72 1.47 1.35L5.41 20z\"/>\n",
              "  </svg>\n",
              "      </button>\n",
              "\n",
              "\n",
              "\n",
              "    <div id=\"df-f98ad2f9-d794-426e-9e28-85ab6aff7ede\">\n",
              "      <button class=\"colab-df-quickchart\" onclick=\"quickchart('df-f98ad2f9-d794-426e-9e28-85ab6aff7ede')\"\n",
              "              title=\"Suggest charts.\"\n",
              "              style=\"display:none;\">\n",
              "\n",
              "<svg xmlns=\"http://www.w3.org/2000/svg\" height=\"24px\"viewBox=\"0 0 24 24\"\n",
              "     width=\"24px\">\n",
              "    <g>\n",
              "        <path d=\"M19 3H5c-1.1 0-2 .9-2 2v14c0 1.1.9 2 2 2h14c1.1 0 2-.9 2-2V5c0-1.1-.9-2-2-2zM9 17H7v-7h2v7zm4 0h-2V7h2v10zm4 0h-2v-4h2v4z\"/>\n",
              "    </g>\n",
              "</svg>\n",
              "      </button>\n",
              "    </div>\n",
              "\n",
              "<style>\n",
              "  .colab-df-quickchart {\n",
              "    background-color: #E8F0FE;\n",
              "    border: none;\n",
              "    border-radius: 50%;\n",
              "    cursor: pointer;\n",
              "    display: none;\n",
              "    fill: #1967D2;\n",
              "    height: 32px;\n",
              "    padding: 0 0 0 0;\n",
              "    width: 32px;\n",
              "  }\n",
              "\n",
              "  .colab-df-quickchart:hover {\n",
              "    background-color: #E2EBFA;\n",
              "    box-shadow: 0px 1px 2px rgba(60, 64, 67, 0.3), 0px 1px 3px 1px rgba(60, 64, 67, 0.15);\n",
              "    fill: #174EA6;\n",
              "  }\n",
              "\n",
              "  [theme=dark] .colab-df-quickchart {\n",
              "    background-color: #3B4455;\n",
              "    fill: #D2E3FC;\n",
              "  }\n",
              "\n",
              "  [theme=dark] .colab-df-quickchart:hover {\n",
              "    background-color: #434B5C;\n",
              "    box-shadow: 0px 1px 3px 1px rgba(0, 0, 0, 0.15);\n",
              "    filter: drop-shadow(0px 1px 2px rgba(0, 0, 0, 0.3));\n",
              "    fill: #FFFFFF;\n",
              "  }\n",
              "</style>\n",
              "\n",
              "    <script>\n",
              "      async function quickchart(key) {\n",
              "        const containerElement = document.querySelector('#' + key);\n",
              "        const charts = await google.colab.kernel.invokeFunction(\n",
              "            'suggestCharts', [key], {});\n",
              "      }\n",
              "    </script>\n",
              "\n",
              "      <script>\n",
              "\n",
              "function displayQuickchartButton(domScope) {\n",
              "  let quickchartButtonEl =\n",
              "    domScope.querySelector('#df-f98ad2f9-d794-426e-9e28-85ab6aff7ede button.colab-df-quickchart');\n",
              "  quickchartButtonEl.style.display =\n",
              "    google.colab.kernel.accessAllowed ? 'block' : 'none';\n",
              "}\n",
              "\n",
              "        displayQuickchartButton(document);\n",
              "      </script>\n",
              "      <style>\n",
              "    .colab-df-container {\n",
              "      display:flex;\n",
              "      flex-wrap:wrap;\n",
              "      gap: 12px;\n",
              "    }\n",
              "\n",
              "    .colab-df-convert {\n",
              "      background-color: #E8F0FE;\n",
              "      border: none;\n",
              "      border-radius: 50%;\n",
              "      cursor: pointer;\n",
              "      display: none;\n",
              "      fill: #1967D2;\n",
              "      height: 32px;\n",
              "      padding: 0 0 0 0;\n",
              "      width: 32px;\n",
              "    }\n",
              "\n",
              "    .colab-df-convert:hover {\n",
              "      background-color: #E2EBFA;\n",
              "      box-shadow: 0px 1px 2px rgba(60, 64, 67, 0.3), 0px 1px 3px 1px rgba(60, 64, 67, 0.15);\n",
              "      fill: #174EA6;\n",
              "    }\n",
              "\n",
              "    [theme=dark] .colab-df-convert {\n",
              "      background-color: #3B4455;\n",
              "      fill: #D2E3FC;\n",
              "    }\n",
              "\n",
              "    [theme=dark] .colab-df-convert:hover {\n",
              "      background-color: #434B5C;\n",
              "      box-shadow: 0px 1px 3px 1px rgba(0, 0, 0, 0.15);\n",
              "      filter: drop-shadow(0px 1px 2px rgba(0, 0, 0, 0.3));\n",
              "      fill: #FFFFFF;\n",
              "    }\n",
              "  </style>\n",
              "\n",
              "      <script>\n",
              "        const buttonEl =\n",
              "          document.querySelector('#df-a4e72e8f-35fe-4eea-bda0-26052b2b2076 button.colab-df-convert');\n",
              "        buttonEl.style.display =\n",
              "          google.colab.kernel.accessAllowed ? 'block' : 'none';\n",
              "\n",
              "        async function convertToInteractive(key) {\n",
              "          const element = document.querySelector('#df-a4e72e8f-35fe-4eea-bda0-26052b2b2076');\n",
              "          const dataTable =\n",
              "            await google.colab.kernel.invokeFunction('convertToInteractive',\n",
              "                                                     [key], {});\n",
              "          if (!dataTable) return;\n",
              "\n",
              "          const docLinkHtml = 'Like what you see? Visit the ' +\n",
              "            '<a target=\"_blank\" href=https://colab.research.google.com/notebooks/data_table.ipynb>data table notebook</a>'\n",
              "            + ' to learn more about interactive tables.';\n",
              "          element.innerHTML = '';\n",
              "          dataTable['output_type'] = 'display_data';\n",
              "          await google.colab.output.renderOutput(dataTable, element);\n",
              "          const docLink = document.createElement('div');\n",
              "          docLink.innerHTML = docLinkHtml;\n",
              "          element.appendChild(docLink);\n",
              "        }\n",
              "      </script>\n",
              "    </div>\n",
              "  </div>\n"
            ]
          },
          "metadata": {},
          "execution_count": 46
        }
      ],
      "source": [
        "# jumlah karakter\n",
        "df_pp['char_count'] = df_pp['tweet'].str.len()\n",
        "df_pp[['tweet','char_count']].head()"
      ]
    },
    {
      "cell_type": "markdown",
      "metadata": {
        "id": "bK4EBJ2NR2nm"
      },
      "source": [
        "### Convert Target"
      ]
    },
    {
      "cell_type": "markdown",
      "metadata": {
        "id": "tUwx7qhnQWtI"
      },
      "source": [
        "Selanjutnya akan diganti target dengan representasi numerik supaya bisa masuk ke dalam model."
      ]
    },
    {
      "cell_type": "code",
      "execution_count": 47,
      "metadata": {
        "colab": {
          "base_uri": "https://localhost:8080/"
        },
        "id": "Og7C31E_R2nm",
        "outputId": "3524d599-8297-4052-d360-a0216460b19c"
      },
      "outputs": [
        {
          "output_type": "execute_result",
          "data": {
            "text/plain": [
              "array(['Positive', 'Neutral', 'Negative'], dtype=object)"
            ]
          },
          "metadata": {},
          "execution_count": 47
        }
      ],
      "source": [
        "# Melihat Target\n",
        "\n",
        "df_pp.sentiment.unique()"
      ]
    },
    {
      "cell_type": "code",
      "execution_count": 48,
      "metadata": {
        "colab": {
          "base_uri": "https://localhost:8080/",
          "height": 728
        },
        "id": "fsw-GSV0R2nm",
        "outputId": "3dd7f79f-1fa0-46b7-feb8-f704ef859dc3"
      },
      "outputs": [
        {
          "output_type": "execute_result",
          "data": {
            "text/plain": [
              "       index sentiment                                              tweet  \\\n",
              "0          0  Positive                      im getting borderlands murder   \n",
              "1          1  Positive                                coming borders kill   \n",
              "2          2  Positive                        im getting borderlands kill   \n",
              "3          3  Positive                       im coming borderlands murder   \n",
              "4          4  Positive                    im getting borderlands 2 murder   \n",
              "...      ...       ...                                                ...   \n",
              "61116  61116  Positive  realized windows partition mac like 6 years be...   \n",
              "61117  61117  Positive  realized mac window partition 6 years behind n...   \n",
              "61118  61118  Positive  realized windows partition mac 6 years behind ...   \n",
              "61119  61119  Positive  realized windows partition mac like 6 years be...   \n",
              "61120  61120  Positive  like windows partition mac like 6 years behind...   \n",
              "\n",
              "       stopwords  punctuation  hashtags  numerics  upper  \\\n",
              "0              6            1         0         0      0   \n",
              "1              6            1         0         0      2   \n",
              "2              5            1         0         0      0   \n",
              "3              5            1         0         0      0   \n",
              "4              6            1         0         1      0   \n",
              "...          ...          ...       ...       ...    ...   \n",
              "61116         11            0         0         1      2   \n",
              "61117          9            1         0         1      2   \n",
              "61118         11            0         0         1      1   \n",
              "61119         13            0         0         1      2   \n",
              "61120         10            0         0         1      1   \n",
              "\n",
              "                                         processed_tweet  word_count  \\\n",
              "0                          im getting borderlands murder           4   \n",
              "1                                    coming borders kill           3   \n",
              "2                            im getting borderlands kill           4   \n",
              "3                           im coming borderlands murder           4   \n",
              "4                        im getting borderlands 2 murder           5   \n",
              "...                                                  ...         ...   \n",
              "61116  realized windows partition mac like 6 years be...          12   \n",
              "61117  realized mac window partition 6 years behind n...          12   \n",
              "61118  realized windows partition mac 6 years behind ...          12   \n",
              "61119  realized windows partition mac like 6 years be...          16   \n",
              "61120  like windows partition mac like 6 years behind...          12   \n",
              "\n",
              "       char_count  label  \n",
              "0              29      2  \n",
              "1              19      2  \n",
              "2              27      2  \n",
              "3              28      2  \n",
              "4              31      2  \n",
              "...           ...    ...  \n",
              "61116          77      2  \n",
              "61117          77      2  \n",
              "61118          79      2  \n",
              "61119          97      2  \n",
              "61120          73      2  \n",
              "\n",
              "[61121 rows x 12 columns]"
            ],
            "text/html": [
              "\n",
              "\n",
              "  <div id=\"df-d36a7297-fd3e-4a32-bb93-3a78ad3ef984\">\n",
              "    <div class=\"colab-df-container\">\n",
              "      <div>\n",
              "<style scoped>\n",
              "    .dataframe tbody tr th:only-of-type {\n",
              "        vertical-align: middle;\n",
              "    }\n",
              "\n",
              "    .dataframe tbody tr th {\n",
              "        vertical-align: top;\n",
              "    }\n",
              "\n",
              "    .dataframe thead th {\n",
              "        text-align: right;\n",
              "    }\n",
              "</style>\n",
              "<table border=\"1\" class=\"dataframe\">\n",
              "  <thead>\n",
              "    <tr style=\"text-align: right;\">\n",
              "      <th></th>\n",
              "      <th>index</th>\n",
              "      <th>sentiment</th>\n",
              "      <th>tweet</th>\n",
              "      <th>stopwords</th>\n",
              "      <th>punctuation</th>\n",
              "      <th>hashtags</th>\n",
              "      <th>numerics</th>\n",
              "      <th>upper</th>\n",
              "      <th>processed_tweet</th>\n",
              "      <th>word_count</th>\n",
              "      <th>char_count</th>\n",
              "      <th>label</th>\n",
              "    </tr>\n",
              "  </thead>\n",
              "  <tbody>\n",
              "    <tr>\n",
              "      <th>0</th>\n",
              "      <td>0</td>\n",
              "      <td>Positive</td>\n",
              "      <td>im getting borderlands murder</td>\n",
              "      <td>6</td>\n",
              "      <td>1</td>\n",
              "      <td>0</td>\n",
              "      <td>0</td>\n",
              "      <td>0</td>\n",
              "      <td>im getting borderlands murder</td>\n",
              "      <td>4</td>\n",
              "      <td>29</td>\n",
              "      <td>2</td>\n",
              "    </tr>\n",
              "    <tr>\n",
              "      <th>1</th>\n",
              "      <td>1</td>\n",
              "      <td>Positive</td>\n",
              "      <td>coming borders kill</td>\n",
              "      <td>6</td>\n",
              "      <td>1</td>\n",
              "      <td>0</td>\n",
              "      <td>0</td>\n",
              "      <td>2</td>\n",
              "      <td>coming borders kill</td>\n",
              "      <td>3</td>\n",
              "      <td>19</td>\n",
              "      <td>2</td>\n",
              "    </tr>\n",
              "    <tr>\n",
              "      <th>2</th>\n",
              "      <td>2</td>\n",
              "      <td>Positive</td>\n",
              "      <td>im getting borderlands kill</td>\n",
              "      <td>5</td>\n",
              "      <td>1</td>\n",
              "      <td>0</td>\n",
              "      <td>0</td>\n",
              "      <td>0</td>\n",
              "      <td>im getting borderlands kill</td>\n",
              "      <td>4</td>\n",
              "      <td>27</td>\n",
              "      <td>2</td>\n",
              "    </tr>\n",
              "    <tr>\n",
              "      <th>3</th>\n",
              "      <td>3</td>\n",
              "      <td>Positive</td>\n",
              "      <td>im coming borderlands murder</td>\n",
              "      <td>5</td>\n",
              "      <td>1</td>\n",
              "      <td>0</td>\n",
              "      <td>0</td>\n",
              "      <td>0</td>\n",
              "      <td>im coming borderlands murder</td>\n",
              "      <td>4</td>\n",
              "      <td>28</td>\n",
              "      <td>2</td>\n",
              "    </tr>\n",
              "    <tr>\n",
              "      <th>4</th>\n",
              "      <td>4</td>\n",
              "      <td>Positive</td>\n",
              "      <td>im getting borderlands 2 murder</td>\n",
              "      <td>6</td>\n",
              "      <td>1</td>\n",
              "      <td>0</td>\n",
              "      <td>1</td>\n",
              "      <td>0</td>\n",
              "      <td>im getting borderlands 2 murder</td>\n",
              "      <td>5</td>\n",
              "      <td>31</td>\n",
              "      <td>2</td>\n",
              "    </tr>\n",
              "    <tr>\n",
              "      <th>...</th>\n",
              "      <td>...</td>\n",
              "      <td>...</td>\n",
              "      <td>...</td>\n",
              "      <td>...</td>\n",
              "      <td>...</td>\n",
              "      <td>...</td>\n",
              "      <td>...</td>\n",
              "      <td>...</td>\n",
              "      <td>...</td>\n",
              "      <td>...</td>\n",
              "      <td>...</td>\n",
              "      <td>...</td>\n",
              "    </tr>\n",
              "    <tr>\n",
              "      <th>61116</th>\n",
              "      <td>61116</td>\n",
              "      <td>Positive</td>\n",
              "      <td>realized windows partition mac like 6 years be...</td>\n",
              "      <td>11</td>\n",
              "      <td>0</td>\n",
              "      <td>0</td>\n",
              "      <td>1</td>\n",
              "      <td>2</td>\n",
              "      <td>realized windows partition mac like 6 years be...</td>\n",
              "      <td>12</td>\n",
              "      <td>77</td>\n",
              "      <td>2</td>\n",
              "    </tr>\n",
              "    <tr>\n",
              "      <th>61117</th>\n",
              "      <td>61117</td>\n",
              "      <td>Positive</td>\n",
              "      <td>realized mac window partition 6 years behind n...</td>\n",
              "      <td>9</td>\n",
              "      <td>1</td>\n",
              "      <td>0</td>\n",
              "      <td>1</td>\n",
              "      <td>2</td>\n",
              "      <td>realized mac window partition 6 years behind n...</td>\n",
              "      <td>12</td>\n",
              "      <td>77</td>\n",
              "      <td>2</td>\n",
              "    </tr>\n",
              "    <tr>\n",
              "      <th>61118</th>\n",
              "      <td>61118</td>\n",
              "      <td>Positive</td>\n",
              "      <td>realized windows partition mac 6 years behind ...</td>\n",
              "      <td>11</td>\n",
              "      <td>0</td>\n",
              "      <td>0</td>\n",
              "      <td>1</td>\n",
              "      <td>1</td>\n",
              "      <td>realized windows partition mac 6 years behind ...</td>\n",
              "      <td>12</td>\n",
              "      <td>79</td>\n",
              "      <td>2</td>\n",
              "    </tr>\n",
              "    <tr>\n",
              "      <th>61119</th>\n",
              "      <td>61119</td>\n",
              "      <td>Positive</td>\n",
              "      <td>realized windows partition mac like 6 years be...</td>\n",
              "      <td>13</td>\n",
              "      <td>0</td>\n",
              "      <td>0</td>\n",
              "      <td>1</td>\n",
              "      <td>2</td>\n",
              "      <td>realized windows partition mac like 6 years be...</td>\n",
              "      <td>16</td>\n",
              "      <td>97</td>\n",
              "      <td>2</td>\n",
              "    </tr>\n",
              "    <tr>\n",
              "      <th>61120</th>\n",
              "      <td>61120</td>\n",
              "      <td>Positive</td>\n",
              "      <td>like windows partition mac like 6 years behind...</td>\n",
              "      <td>10</td>\n",
              "      <td>0</td>\n",
              "      <td>0</td>\n",
              "      <td>1</td>\n",
              "      <td>1</td>\n",
              "      <td>like windows partition mac like 6 years behind...</td>\n",
              "      <td>12</td>\n",
              "      <td>73</td>\n",
              "      <td>2</td>\n",
              "    </tr>\n",
              "  </tbody>\n",
              "</table>\n",
              "<p>61121 rows × 12 columns</p>\n",
              "</div>\n",
              "      <button class=\"colab-df-convert\" onclick=\"convertToInteractive('df-d36a7297-fd3e-4a32-bb93-3a78ad3ef984')\"\n",
              "              title=\"Convert this dataframe to an interactive table.\"\n",
              "              style=\"display:none;\">\n",
              "\n",
              "  <svg xmlns=\"http://www.w3.org/2000/svg\" height=\"24px\"viewBox=\"0 0 24 24\"\n",
              "       width=\"24px\">\n",
              "    <path d=\"M0 0h24v24H0V0z\" fill=\"none\"/>\n",
              "    <path d=\"M18.56 5.44l.94 2.06.94-2.06 2.06-.94-2.06-.94-.94-2.06-.94 2.06-2.06.94zm-11 1L8.5 8.5l.94-2.06 2.06-.94-2.06-.94L8.5 2.5l-.94 2.06-2.06.94zm10 10l.94 2.06.94-2.06 2.06-.94-2.06-.94-.94-2.06-.94 2.06-2.06.94z\"/><path d=\"M17.41 7.96l-1.37-1.37c-.4-.4-.92-.59-1.43-.59-.52 0-1.04.2-1.43.59L10.3 9.45l-7.72 7.72c-.78.78-.78 2.05 0 2.83L4 21.41c.39.39.9.59 1.41.59.51 0 1.02-.2 1.41-.59l7.78-7.78 2.81-2.81c.8-.78.8-2.07 0-2.86zM5.41 20L4 18.59l7.72-7.72 1.47 1.35L5.41 20z\"/>\n",
              "  </svg>\n",
              "      </button>\n",
              "\n",
              "\n",
              "\n",
              "    <div id=\"df-0b89cd2c-8f3d-4c7f-a07c-0e7f55ae7a0b\">\n",
              "      <button class=\"colab-df-quickchart\" onclick=\"quickchart('df-0b89cd2c-8f3d-4c7f-a07c-0e7f55ae7a0b')\"\n",
              "              title=\"Suggest charts.\"\n",
              "              style=\"display:none;\">\n",
              "\n",
              "<svg xmlns=\"http://www.w3.org/2000/svg\" height=\"24px\"viewBox=\"0 0 24 24\"\n",
              "     width=\"24px\">\n",
              "    <g>\n",
              "        <path d=\"M19 3H5c-1.1 0-2 .9-2 2v14c0 1.1.9 2 2 2h14c1.1 0 2-.9 2-2V5c0-1.1-.9-2-2-2zM9 17H7v-7h2v7zm4 0h-2V7h2v10zm4 0h-2v-4h2v4z\"/>\n",
              "    </g>\n",
              "</svg>\n",
              "      </button>\n",
              "    </div>\n",
              "\n",
              "<style>\n",
              "  .colab-df-quickchart {\n",
              "    background-color: #E8F0FE;\n",
              "    border: none;\n",
              "    border-radius: 50%;\n",
              "    cursor: pointer;\n",
              "    display: none;\n",
              "    fill: #1967D2;\n",
              "    height: 32px;\n",
              "    padding: 0 0 0 0;\n",
              "    width: 32px;\n",
              "  }\n",
              "\n",
              "  .colab-df-quickchart:hover {\n",
              "    background-color: #E2EBFA;\n",
              "    box-shadow: 0px 1px 2px rgba(60, 64, 67, 0.3), 0px 1px 3px 1px rgba(60, 64, 67, 0.15);\n",
              "    fill: #174EA6;\n",
              "  }\n",
              "\n",
              "  [theme=dark] .colab-df-quickchart {\n",
              "    background-color: #3B4455;\n",
              "    fill: #D2E3FC;\n",
              "  }\n",
              "\n",
              "  [theme=dark] .colab-df-quickchart:hover {\n",
              "    background-color: #434B5C;\n",
              "    box-shadow: 0px 1px 3px 1px rgba(0, 0, 0, 0.15);\n",
              "    filter: drop-shadow(0px 1px 2px rgba(0, 0, 0, 0.3));\n",
              "    fill: #FFFFFF;\n",
              "  }\n",
              "</style>\n",
              "\n",
              "    <script>\n",
              "      async function quickchart(key) {\n",
              "        const containerElement = document.querySelector('#' + key);\n",
              "        const charts = await google.colab.kernel.invokeFunction(\n",
              "            'suggestCharts', [key], {});\n",
              "      }\n",
              "    </script>\n",
              "\n",
              "      <script>\n",
              "\n",
              "function displayQuickchartButton(domScope) {\n",
              "  let quickchartButtonEl =\n",
              "    domScope.querySelector('#df-0b89cd2c-8f3d-4c7f-a07c-0e7f55ae7a0b button.colab-df-quickchart');\n",
              "  quickchartButtonEl.style.display =\n",
              "    google.colab.kernel.accessAllowed ? 'block' : 'none';\n",
              "}\n",
              "\n",
              "        displayQuickchartButton(document);\n",
              "      </script>\n",
              "      <style>\n",
              "    .colab-df-container {\n",
              "      display:flex;\n",
              "      flex-wrap:wrap;\n",
              "      gap: 12px;\n",
              "    }\n",
              "\n",
              "    .colab-df-convert {\n",
              "      background-color: #E8F0FE;\n",
              "      border: none;\n",
              "      border-radius: 50%;\n",
              "      cursor: pointer;\n",
              "      display: none;\n",
              "      fill: #1967D2;\n",
              "      height: 32px;\n",
              "      padding: 0 0 0 0;\n",
              "      width: 32px;\n",
              "    }\n",
              "\n",
              "    .colab-df-convert:hover {\n",
              "      background-color: #E2EBFA;\n",
              "      box-shadow: 0px 1px 2px rgba(60, 64, 67, 0.3), 0px 1px 3px 1px rgba(60, 64, 67, 0.15);\n",
              "      fill: #174EA6;\n",
              "    }\n",
              "\n",
              "    [theme=dark] .colab-df-convert {\n",
              "      background-color: #3B4455;\n",
              "      fill: #D2E3FC;\n",
              "    }\n",
              "\n",
              "    [theme=dark] .colab-df-convert:hover {\n",
              "      background-color: #434B5C;\n",
              "      box-shadow: 0px 1px 3px 1px rgba(0, 0, 0, 0.15);\n",
              "      filter: drop-shadow(0px 1px 2px rgba(0, 0, 0, 0.3));\n",
              "      fill: #FFFFFF;\n",
              "    }\n",
              "  </style>\n",
              "\n",
              "      <script>\n",
              "        const buttonEl =\n",
              "          document.querySelector('#df-d36a7297-fd3e-4a32-bb93-3a78ad3ef984 button.colab-df-convert');\n",
              "        buttonEl.style.display =\n",
              "          google.colab.kernel.accessAllowed ? 'block' : 'none';\n",
              "\n",
              "        async function convertToInteractive(key) {\n",
              "          const element = document.querySelector('#df-d36a7297-fd3e-4a32-bb93-3a78ad3ef984');\n",
              "          const dataTable =\n",
              "            await google.colab.kernel.invokeFunction('convertToInteractive',\n",
              "                                                     [key], {});\n",
              "          if (!dataTable) return;\n",
              "\n",
              "          const docLinkHtml = 'Like what you see? Visit the ' +\n",
              "            '<a target=\"_blank\" href=https://colab.research.google.com/notebooks/data_table.ipynb>data table notebook</a>'\n",
              "            + ' to learn more about interactive tables.';\n",
              "          element.innerHTML = '';\n",
              "          dataTable['output_type'] = 'display_data';\n",
              "          await google.colab.output.renderOutput(dataTable, element);\n",
              "          const docLink = document.createElement('div');\n",
              "          docLink.innerHTML = docLinkHtml;\n",
              "          element.appendChild(docLink);\n",
              "        }\n",
              "      </script>\n",
              "    </div>\n",
              "  </div>\n"
            ]
          },
          "metadata": {},
          "execution_count": 48
        }
      ],
      "source": [
        "# Mengubah Target dari String ke dalam Numeric\n",
        "\n",
        "df_pp['label'] = df_pp['sentiment'].replace({'Negative' : 0, 'Neutral' : 1, 'Positive' : 2})\n",
        "df_pp"
      ]
    },
    {
      "cell_type": "markdown",
      "metadata": {
        "id": "SjiZTzq8R2nm"
      },
      "source": [
        "### Vectorization and Embedding"
      ]
    },
    {
      "cell_type": "markdown",
      "metadata": {
        "id": "tTXQxjZtQWtI"
      },
      "source": [
        "Proses selanjutnya adalah vektorisasi dan embedding. Proses ini merupakan bagian dari preprocessing yang pada initinya adalah merubah kata-kata menjadi vektor representasi numeriknya. Kenapa proses ini dibutuhkan, hal ini karena komputer hanya dapat mengolah angka. Oleh karena itu untuk melakukan apapun di komputer, proses belakang layarnya adalah seperti ini."
      ]
    },
    {
      "cell_type": "markdown",
      "metadata": {
        "id": "lkADAe-uQWtI"
      },
      "source": [
        "Sebelum dilakukan vektorisasi, embedding, dan modelling, diperlukan juga splitting data. Hal ini dibutuhkan supaya untuk validasi performa model tidak terpengaruh karena model sudah belajar dari data yang bersangkutan sebelumnya."
      ]
    },
    {
      "cell_type": "code",
      "execution_count": 49,
      "metadata": {
        "colab": {
          "base_uri": "https://localhost:8080/"
        },
        "id": "sPrynk31R2nn",
        "outputId": "5aa0ff6c-e1eb-40a3-d21f-72648b822283"
      },
      "outputs": [
        {
          "output_type": "stream",
          "name": "stdout",
          "text": [
            "Train Size :  (45840,)\n",
            "Test Size  :  (15281,)\n"
          ]
        }
      ],
      "source": [
        "# Splitting Corpus\n",
        "\n",
        "from sklearn.model_selection import train_test_split\n",
        "\n",
        "X_train, X_test, y_train, y_test = train_test_split(df_pp.processed_tweet,\n",
        "                                                    df_pp.label,\n",
        "                                                    test_size=0.25,\n",
        "                                                    random_state=46,\n",
        "                                                    stratify=df_pp.label)\n",
        "\n",
        "print('Train Size : ', X_train.shape)\n",
        "print('Test Size  : ', X_test.shape)"
      ]
    },
    {
      "cell_type": "markdown",
      "metadata": {
        "id": "25MWHgt-QWtJ"
      },
      "source": [
        "Selanjutnya taget akan di encoding. Proses encoding juga sebetulnya merubah data kategorik ke representasi numeriknya. Kenapa tidak digunakan saja label numerik yang awal adalah karena model hanya dapat membaca angka 0 dan 1 untuk data kategorik. Oleh karena itu akan digunakan One Hot Encoding."
      ]
    },
    {
      "cell_type": "code",
      "execution_count": 50,
      "metadata": {
        "colab": {
          "base_uri": "https://localhost:8080/"
        },
        "id": "DKqMMBfCR2nn",
        "outputId": "51e015fe-3cbf-4953-f0e4-5bc38392ef26"
      },
      "outputs": [
        {
          "output_type": "stream",
          "name": "stdout",
          "text": [
            "y_train shape: (45840, 3)\n"
          ]
        }
      ],
      "source": [
        "# mengganti data ke series\n",
        "y_train = y_train.to_numpy().reshape(-1, 1)\n",
        "y_test = y_test.to_numpy().reshape(-1, 1)\n",
        "\n",
        "# encoding target\n",
        "onehot_encoder = OneHotEncoder(sparse=False)\n",
        "y_train = onehot_encoder.fit_transform(y_train)\n",
        "y_test = onehot_encoder.fit_transform(y_test)\n",
        "\n",
        "# shape data target\n",
        "print(\"y_train shape:\", y_train.shape)"
      ]
    },
    {
      "cell_type": "markdown",
      "metadata": {
        "id": "xJcX3dNWQWtJ"
      },
      "source": [
        "Selanjutnya adalah proses embedding. Embedding dilakukan dengan model Word2Vec. Word2Vec adalah library khusus embedding yang dikembangkan oleh Google. Embedding ini menggunakan 2 metode khusus yang merupakan Neural Network juga yaitu Skip Gram dan Common Bag of Words. Untuk informasi lebih lanjut mengenai Word2Vec dapat diakses pada link [ini](https://towardsdatascience.com/introduction-to-word-embedding-and-word2vec-652d0c2060fa)."
      ]
    },
    {
      "cell_type": "code",
      "execution_count": 51,
      "metadata": {
        "id": "aOODSBDRR2nn"
      },
      "outputs": [],
      "source": [
        "Embedding_dimensions = 80\n",
        "\n",
        "# membuat dataset training Word2Vec\n",
        "Word2vec_train_data = list(map(lambda x: x.split(), X_train))"
      ]
    },
    {
      "cell_type": "code",
      "execution_count": 52,
      "metadata": {
        "colab": {
          "base_uri": "https://localhost:8080/"
        },
        "id": "naYAcolZR2nn",
        "outputId": "e3edb33d-9ccd-4320-9824-90ebd5c8ebef"
      },
      "outputs": [
        {
          "output_type": "stream",
          "name": "stdout",
          "text": [
            "Vocabulary Length: 5642\n",
            "CPU times: user 7.04 s, sys: 55.6 ms, total: 7.1 s\n",
            "Wall time: 6.48 s\n"
          ]
        }
      ],
      "source": [
        "%%time\n",
        "\n",
        "# Define model embedding dan training modelnya\n",
        "word2vec_model = Word2Vec(Word2vec_train_data,\n",
        "                 vector_size=Embedding_dimensions,\n",
        "                 workers=8,\n",
        "                 min_count=10)\n",
        "\n",
        "print(\"Vocabulary Length:\", len(word2vec_model.wv.key_to_index))"
      ]
    },
    {
      "cell_type": "markdown",
      "metadata": {
        "id": "GBIJsDOfQWtJ"
      },
      "source": [
        "Selanjutnya akan di tes hasil embedding dengan memasukan kata good dan melihat hasil nya."
      ]
    },
    {
      "cell_type": "code",
      "execution_count": 53,
      "metadata": {
        "colab": {
          "base_uri": "https://localhost:8080/"
        },
        "id": "cPqnXkd7R2nn",
        "outputId": "555a399c-548f-4f93-ebb0-d53f695d79e3"
      },
      "outputs": [
        {
          "output_type": "execute_result",
          "data": {
            "text/plain": [
              "[('pretty', 0.7993379235267639),\n",
              " ('feels', 0.7753068804740906),\n",
              " ('nice', 0.7611501216888428),\n",
              " ('cool', 0.7554018497467041),\n",
              " ('quite', 0.7473082542419434),\n",
              " ('looked', 0.7388169765472412),\n",
              " ('loved', 0.7364279627799988),\n",
              " ('though', 0.7301467657089233),\n",
              " ('little', 0.7277655601501465),\n",
              " ('feeling', 0.7250931262969971)]"
            ]
          },
          "metadata": {},
          "execution_count": 53
        }
      ],
      "source": [
        "word2vec_model.wv.most_similar(positive=\"good\")"
      ]
    },
    {
      "cell_type": "markdown",
      "metadata": {
        "id": "4FQdYT2VQWtJ"
      },
      "source": [
        "### Tokenization"
      ]
    },
    {
      "cell_type": "markdown",
      "metadata": {
        "id": "ijnoJu_YQWtJ"
      },
      "source": [
        "Selanjutnya adalah proses tokenisasi. Tokenisasi adalah cara memisahkan sebagian dari teks ke bagian yang lebih kecil yang disebut **token**. Token bisa berbentuk kata, karaklter, dan lain-lain."
      ]
    },
    {
      "cell_type": "code",
      "execution_count": 54,
      "metadata": {
        "colab": {
          "base_uri": "https://localhost:8080/"
        },
        "id": "rMk2NbAkR2nn",
        "outputId": "ab3d3564-2179-4c28-a32d-d1d86aba3107"
      },
      "outputs": [
        {
          "output_type": "stream",
          "name": "stdout",
          "text": [
            "Tokenizer vocab length: 50000\n"
          ]
        }
      ],
      "source": [
        "# define input length dan vocab length\n",
        "input_length = 60\n",
        "vocab_length = 50000\n",
        "\n",
        "tokenizer = Tokenizer(filters=\"\", lower=False, oov_token=\"<oov>\")\n",
        "tokenizer.fit_on_texts(df_pp.processed_tweet)\n",
        "tokenizer.num_words = vocab_length\n",
        "print(\"Tokenizer vocab length:\", vocab_length)"
      ]
    },
    {
      "cell_type": "markdown",
      "metadata": {
        "id": "oLb741drQWtK"
      },
      "source": [
        "### Padding"
      ]
    },
    {
      "cell_type": "markdown",
      "metadata": {
        "id": "yraS0RnjQWtK"
      },
      "source": [
        "Semua macam Neural Network perlu input yang sama dari mulai bentuk dan ukurannya. Namun, setelah di preprocess tidak semua elemen memiliki bentuk dan ukuran yang sama, oleh karena itu, padding dibutuhkan. Sebagai simplifikasinya, padding memberikan angka 0 untuk memenuhi kriteria bentuk atau ukuran tertentu supaya nantinya ukuran dan bentuknya sama saat dimasukan ke model."
      ]
    },
    {
      "cell_type": "code",
      "execution_count": 55,
      "metadata": {
        "colab": {
          "base_uri": "https://localhost:8080/"
        },
        "id": "jASfPff1R2nn",
        "outputId": "95b07fe3-ef00-4081-cb99-8ba780da4c57"
      },
      "outputs": [
        {
          "output_type": "stream",
          "name": "stdout",
          "text": [
            "X_train.shape: (45840, 60)\n",
            "X_test.shape : (15281, 60)\n"
          ]
        }
      ],
      "source": [
        "# padding\n",
        "X_train = pad_sequences(tokenizer.texts_to_sequences(X_train), maxlen=input_length)\n",
        "X_test  = pad_sequences(tokenizer.texts_to_sequences(X_test) , maxlen=input_length)\n",
        "\n",
        "print(\"X_train.shape:\", X_train.shape)\n",
        "print(\"X_test.shape :\", X_test.shape)"
      ]
    },
    {
      "cell_type": "markdown",
      "metadata": {
        "id": "fGAZ7ZBHQWtK"
      },
      "source": [
        "### Embedding Matrix"
      ]
    },
    {
      "cell_type": "markdown",
      "metadata": {
        "id": "uPx2nyIBQWtK"
      },
      "source": [
        "Embedding matrix adalah matriks dari semua kata dan embedding yang sesuai. Matriks ini berisi informasi dari semua kata dan embedding nya dalam representasi vektor. bentuk dari embedding matrix biasanya **Vocab Length X Dimensi Embbeding**"
      ]
    },
    {
      "cell_type": "code",
      "execution_count": 56,
      "metadata": {
        "colab": {
          "base_uri": "https://localhost:8080/"
        },
        "id": "h5YZDF1dR2nn",
        "outputId": "cc7814ce-ef73-445d-e6b6-b671bc097f22"
      },
      "outputs": [
        {
          "output_type": "stream",
          "name": "stdout",
          "text": [
            "Embedding Matrix Shape: (50000, 80)\n"
          ]
        }
      ],
      "source": [
        "\n",
        "embedding_matrix = np.zeros((vocab_length, Embedding_dimensions))\n",
        "\n",
        "for word, token in tokenizer.word_index.items():\n",
        "    if word2vec_model.wv.__contains__(word):\n",
        "        embedding_matrix[token] = word2vec_model.wv.__getitem__(word)\n",
        "\n",
        "print(\"Embedding Matrix Shape:\", embedding_matrix.shape)"
      ]
    },
    {
      "cell_type": "markdown",
      "metadata": {
        "id": "kMEFbp2GR2no"
      },
      "source": [
        "# Modelling"
      ]
    },
    {
      "cell_type": "markdown",
      "metadata": {
        "id": "ddAjChuZQWtK"
      },
      "source": [
        "Selanjutnya adalah Modelling. Arsitektur model yang digunakan adalah sequential. Pemilihan arsitektur ini adalah karena performanya lebih bagus dibanding functional dalam pemahaman arti dari kata. Arsitektur ini juga bagus dalam membaca elemen dari model input semacam Bag of Word dari hasil embedding."
      ]
    },
    {
      "cell_type": "markdown",
      "metadata": {
        "id": "9BhmCKI1R2no"
      },
      "source": [
        "### Baseline Model"
      ]
    },
    {
      "cell_type": "code",
      "execution_count": 57,
      "metadata": {
        "id": "jBtBsoAHR2no"
      },
      "outputs": [],
      "source": [
        "def getModel():\n",
        "    embedding_layer = Embedding(input_dim = vocab_length,\n",
        "                                output_dim = Embedding_dimensions,\n",
        "                                weights=[embedding_matrix],\n",
        "                                input_length=input_length,\n",
        "                                trainable=False)\n",
        "\n",
        "    model = Sequential([\n",
        "        embedding_layer,\n",
        "        Bidirectional(LSTM(100, dropout=0.3, return_sequences=True)),\n",
        "        Bidirectional(LSTM(100, dropout=0.3, return_sequences=True)),\n",
        "        GlobalMaxPool1D(),\n",
        "        Dense(16, activation='relu'),\n",
        "        Dense(3, activation='softmax'),\n",
        "    ],\n",
        "    name=\"Sentiment_Model\")\n",
        "    return model"
      ]
    },
    {
      "cell_type": "code",
      "execution_count": 58,
      "metadata": {
        "colab": {
          "base_uri": "https://localhost:8080/"
        },
        "id": "w-Jd5G-aR2no",
        "outputId": "fdd39887-28f8-48c8-9a96-8de69ec212b6"
      },
      "outputs": [
        {
          "output_type": "stream",
          "name": "stdout",
          "text": [
            "Model: \"Sentiment_Model\"\n",
            "_________________________________________________________________\n",
            " Layer (type)                Output Shape              Param #   \n",
            "=================================================================\n",
            " embedding (Embedding)       (None, 60, 80)            4000000   \n",
            "                                                                 \n",
            " bidirectional (Bidirectiona  (None, 60, 200)          144800    \n",
            " l)                                                              \n",
            "                                                                 \n",
            " bidirectional_1 (Bidirectio  (None, 60, 200)          240800    \n",
            " nal)                                                            \n",
            "                                                                 \n",
            " global_max_pooling1d (Globa  (None, 200)              0         \n",
            " lMaxPooling1D)                                                  \n",
            "                                                                 \n",
            " dense (Dense)               (None, 16)                3216      \n",
            "                                                                 \n",
            " dense_1 (Dense)             (None, 3)                 51        \n",
            "                                                                 \n",
            "=================================================================\n",
            "Total params: 4,388,867\n",
            "Trainable params: 388,867\n",
            "Non-trainable params: 4,000,000\n",
            "_________________________________________________________________\n"
          ]
        }
      ],
      "source": [
        "training_model = getModel()\n",
        "training_model.summary()"
      ]
    },
    {
      "cell_type": "code",
      "execution_count": 59,
      "metadata": {
        "id": "dsG8tOCBR2no"
      },
      "outputs": [],
      "source": [
        "callbacks = [ReduceLROnPlateau(monitor='val_loss', patience=5, cooldown=0),\n",
        "             EarlyStopping(monitor='val_accuracy', min_delta=1e-4, patience=5)]"
      ]
    },
    {
      "cell_type": "code",
      "execution_count": 60,
      "metadata": {
        "id": "dtknxENWR2no"
      },
      "outputs": [],
      "source": [
        "training_model.compile(loss='binary_crossentropy', optimizer='adam', metrics=['accuracy'])"
      ]
    },
    {
      "cell_type": "code",
      "execution_count": 61,
      "metadata": {
        "colab": {
          "base_uri": "https://localhost:8080/"
        },
        "id": "no-A6C85R2no",
        "outputId": "0e2cb3ed-0027-4bd6-8c30-e29ee9c73a4e"
      },
      "outputs": [
        {
          "output_type": "stream",
          "name": "stdout",
          "text": [
            "Epoch 1/50\n",
            "41/41 [==============================] - 19s 130ms/step - loss: 0.5683 - accuracy: 0.5484 - val_loss: 0.5255 - val_accuracy: 0.5958 - lr: 0.0010\n",
            "Epoch 2/50\n",
            "41/41 [==============================] - 4s 96ms/step - loss: 0.5129 - accuracy: 0.6056 - val_loss: 0.5084 - val_accuracy: 0.6099 - lr: 0.0010\n",
            "Epoch 3/50\n",
            "41/41 [==============================] - 4s 91ms/step - loss: 0.4986 - accuracy: 0.6208 - val_loss: 0.4972 - val_accuracy: 0.6246 - lr: 0.0010\n",
            "Epoch 4/50\n",
            "41/41 [==============================] - 4s 96ms/step - loss: 0.4915 - accuracy: 0.6267 - val_loss: 0.4867 - val_accuracy: 0.6407 - lr: 0.0010\n",
            "Epoch 5/50\n",
            "41/41 [==============================] - 4s 93ms/step - loss: 0.4819 - accuracy: 0.6355 - val_loss: 0.4807 - val_accuracy: 0.6468 - lr: 0.0010\n",
            "Epoch 6/50\n",
            "41/41 [==============================] - 4s 93ms/step - loss: 0.4754 - accuracy: 0.6424 - val_loss: 0.4809 - val_accuracy: 0.6459 - lr: 0.0010\n",
            "Epoch 7/50\n",
            "41/41 [==============================] - 4s 92ms/step - loss: 0.4683 - accuracy: 0.6501 - val_loss: 0.4681 - val_accuracy: 0.6614 - lr: 0.0010\n",
            "Epoch 8/50\n",
            "41/41 [==============================] - 4s 98ms/step - loss: 0.4620 - accuracy: 0.6576 - val_loss: 0.4745 - val_accuracy: 0.6562 - lr: 0.0010\n",
            "Epoch 9/50\n",
            "41/41 [==============================] - 4s 98ms/step - loss: 0.4569 - accuracy: 0.6615 - val_loss: 0.4605 - val_accuracy: 0.6634 - lr: 0.0010\n",
            "Epoch 10/50\n",
            "41/41 [==============================] - 4s 93ms/step - loss: 0.4495 - accuracy: 0.6669 - val_loss: 0.4605 - val_accuracy: 0.6686 - lr: 0.0010\n",
            "Epoch 11/50\n",
            "41/41 [==============================] - 4s 98ms/step - loss: 0.4448 - accuracy: 0.6698 - val_loss: 0.4509 - val_accuracy: 0.6730 - lr: 0.0010\n",
            "Epoch 12/50\n",
            "41/41 [==============================] - 4s 98ms/step - loss: 0.4374 - accuracy: 0.6784 - val_loss: 0.4459 - val_accuracy: 0.6802 - lr: 0.0010\n",
            "Epoch 13/50\n",
            "41/41 [==============================] - 4s 94ms/step - loss: 0.4324 - accuracy: 0.6842 - val_loss: 0.4441 - val_accuracy: 0.6832 - lr: 0.0010\n",
            "Epoch 14/50\n",
            "41/41 [==============================] - 4s 94ms/step - loss: 0.4286 - accuracy: 0.6862 - val_loss: 0.4392 - val_accuracy: 0.6876 - lr: 0.0010\n",
            "Epoch 15/50\n",
            "41/41 [==============================] - 4s 99ms/step - loss: 0.4252 - accuracy: 0.6905 - val_loss: 0.4382 - val_accuracy: 0.6904 - lr: 0.0010\n",
            "Epoch 16/50\n",
            "41/41 [==============================] - 4s 94ms/step - loss: 0.4157 - accuracy: 0.6977 - val_loss: 0.4296 - val_accuracy: 0.6891 - lr: 0.0010\n",
            "Epoch 17/50\n",
            "41/41 [==============================] - 4s 98ms/step - loss: 0.4093 - accuracy: 0.7050 - val_loss: 0.4250 - val_accuracy: 0.6963 - lr: 0.0010\n",
            "Epoch 18/50\n",
            "41/41 [==============================] - 4s 96ms/step - loss: 0.4016 - accuracy: 0.7101 - val_loss: 0.4214 - val_accuracy: 0.6966 - lr: 0.0010\n",
            "Epoch 19/50\n",
            "41/41 [==============================] - 4s 95ms/step - loss: 0.3986 - accuracy: 0.7121 - val_loss: 0.4169 - val_accuracy: 0.7079 - lr: 0.0010\n",
            "Epoch 20/50\n",
            "41/41 [==============================] - 4s 99ms/step - loss: 0.3896 - accuracy: 0.7217 - val_loss: 0.4153 - val_accuracy: 0.7046 - lr: 0.0010\n",
            "Epoch 21/50\n",
            "41/41 [==============================] - 4s 104ms/step - loss: 0.3855 - accuracy: 0.7238 - val_loss: 0.4134 - val_accuracy: 0.7103 - lr: 0.0010\n",
            "Epoch 22/50\n",
            "41/41 [==============================] - 4s 99ms/step - loss: 0.3793 - accuracy: 0.7288 - val_loss: 0.4049 - val_accuracy: 0.7110 - lr: 0.0010\n",
            "Epoch 23/50\n",
            "41/41 [==============================] - 4s 100ms/step - loss: 0.3722 - accuracy: 0.7354 - val_loss: 0.3985 - val_accuracy: 0.7164 - lr: 0.0010\n",
            "Epoch 24/50\n",
            "41/41 [==============================] - 4s 101ms/step - loss: 0.3671 - accuracy: 0.7389 - val_loss: 0.3895 - val_accuracy: 0.7192 - lr: 0.0010\n",
            "Epoch 25/50\n",
            "41/41 [==============================] - 4s 96ms/step - loss: 0.3608 - accuracy: 0.7420 - val_loss: 0.3941 - val_accuracy: 0.7221 - lr: 0.0010\n",
            "Epoch 26/50\n",
            "41/41 [==============================] - 4s 102ms/step - loss: 0.3517 - accuracy: 0.7507 - val_loss: 0.3838 - val_accuracy: 0.7297 - lr: 0.0010\n",
            "Epoch 27/50\n",
            "41/41 [==============================] - 4s 101ms/step - loss: 0.3488 - accuracy: 0.7559 - val_loss: 0.3761 - val_accuracy: 0.7404 - lr: 0.0010\n",
            "Epoch 28/50\n",
            "41/41 [==============================] - 4s 97ms/step - loss: 0.3397 - accuracy: 0.7602 - val_loss: 0.3707 - val_accuracy: 0.7452 - lr: 0.0010\n",
            "Epoch 29/50\n",
            "41/41 [==============================] - 4s 98ms/step - loss: 0.3333 - accuracy: 0.7681 - val_loss: 0.3726 - val_accuracy: 0.7459 - lr: 0.0010\n",
            "Epoch 30/50\n",
            "41/41 [==============================] - 4s 102ms/step - loss: 0.3298 - accuracy: 0.7694 - val_loss: 0.3636 - val_accuracy: 0.7461 - lr: 0.0010\n",
            "Epoch 31/50\n",
            "41/41 [==============================] - 4s 97ms/step - loss: 0.3198 - accuracy: 0.7763 - val_loss: 0.3654 - val_accuracy: 0.7469 - lr: 0.0010\n",
            "Epoch 32/50\n",
            "41/41 [==============================] - 4s 101ms/step - loss: 0.3166 - accuracy: 0.7791 - val_loss: 0.3666 - val_accuracy: 0.7376 - lr: 0.0010\n",
            "Epoch 33/50\n",
            "41/41 [==============================] - 4s 103ms/step - loss: 0.3120 - accuracy: 0.7834 - val_loss: 0.3582 - val_accuracy: 0.7583 - lr: 0.0010\n",
            "Epoch 34/50\n",
            "41/41 [==============================] - 4s 101ms/step - loss: 0.3052 - accuracy: 0.7878 - val_loss: 0.3414 - val_accuracy: 0.7677 - lr: 0.0010\n",
            "Epoch 35/50\n",
            "41/41 [==============================] - 4s 102ms/step - loss: 0.2998 - accuracy: 0.7897 - val_loss: 0.3572 - val_accuracy: 0.7576 - lr: 0.0010\n",
            "Epoch 36/50\n",
            "41/41 [==============================] - 4s 99ms/step - loss: 0.2917 - accuracy: 0.7959 - val_loss: 0.3520 - val_accuracy: 0.7624 - lr: 0.0010\n",
            "Epoch 37/50\n",
            "41/41 [==============================] - 4s 107ms/step - loss: 0.2898 - accuracy: 0.7987 - val_loss: 0.3430 - val_accuracy: 0.7712 - lr: 0.0010\n",
            "Epoch 38/50\n",
            "41/41 [==============================] - 5s 111ms/step - loss: 0.2813 - accuracy: 0.8050 - val_loss: 0.3401 - val_accuracy: 0.7692 - lr: 0.0010\n",
            "Epoch 39/50\n",
            "41/41 [==============================] - 4s 106ms/step - loss: 0.2815 - accuracy: 0.8056 - val_loss: 0.3384 - val_accuracy: 0.7664 - lr: 0.0010\n",
            "Epoch 40/50\n",
            "41/41 [==============================] - 4s 103ms/step - loss: 0.2766 - accuracy: 0.8057 - val_loss: 0.3369 - val_accuracy: 0.7731 - lr: 0.0010\n",
            "Epoch 41/50\n",
            "41/41 [==============================] - 4s 102ms/step - loss: 0.2712 - accuracy: 0.8118 - val_loss: 0.3376 - val_accuracy: 0.7771 - lr: 0.0010\n",
            "Epoch 42/50\n",
            "41/41 [==============================] - 4s 100ms/step - loss: 0.2651 - accuracy: 0.8148 - val_loss: 0.3279 - val_accuracy: 0.7773 - lr: 0.0010\n",
            "Epoch 43/50\n",
            "41/41 [==============================] - 4s 99ms/step - loss: 0.2611 - accuracy: 0.8169 - val_loss: 0.3265 - val_accuracy: 0.7801 - lr: 0.0010\n",
            "Epoch 44/50\n",
            "41/41 [==============================] - 4s 103ms/step - loss: 0.2527 - accuracy: 0.8262 - val_loss: 0.3220 - val_accuracy: 0.7827 - lr: 0.0010\n",
            "Epoch 45/50\n",
            "41/41 [==============================] - 4s 100ms/step - loss: 0.2546 - accuracy: 0.8223 - val_loss: 0.3193 - val_accuracy: 0.7842 - lr: 0.0010\n",
            "Epoch 46/50\n",
            "41/41 [==============================] - 4s 99ms/step - loss: 0.2525 - accuracy: 0.8246 - val_loss: 0.3196 - val_accuracy: 0.7908 - lr: 0.0010\n",
            "Epoch 47/50\n",
            "41/41 [==============================] - 4s 103ms/step - loss: 0.2451 - accuracy: 0.8321 - val_loss: 0.3173 - val_accuracy: 0.7941 - lr: 0.0010\n",
            "Epoch 48/50\n",
            "41/41 [==============================] - 4s 104ms/step - loss: 0.2395 - accuracy: 0.8332 - val_loss: 0.3226 - val_accuracy: 0.7871 - lr: 0.0010\n",
            "Epoch 49/50\n",
            "41/41 [==============================] - 4s 103ms/step - loss: 0.2395 - accuracy: 0.8341 - val_loss: 0.3166 - val_accuracy: 0.7949 - lr: 0.0010\n",
            "Epoch 50/50\n",
            "41/41 [==============================] - 4s 104ms/step - loss: 0.2365 - accuracy: 0.8362 - val_loss: 0.3237 - val_accuracy: 0.7849 - lr: 0.0010\n"
          ]
        }
      ],
      "source": [
        "history = training_model.fit(\n",
        "    X_train, y_train,\n",
        "    batch_size=1024,\n",
        "    epochs=50,\n",
        "    validation_split=0.1,\n",
        "    callbacks=callbacks,\n",
        "    verbose=1,\n",
        ")"
      ]
    },
    {
      "cell_type": "code",
      "execution_count": 62,
      "metadata": {
        "colab": {
          "base_uri": "https://localhost:8080/",
          "height": 420
        },
        "id": "ZFtwgtrNR2no",
        "outputId": "74782977-9e00-4514-fd40-21cda588c1f8"
      },
      "outputs": [
        {
          "output_type": "display_data",
          "data": {
            "text/plain": [
              "<Figure size 1600x500 with 2 Axes>"
            ],
            "image/png": "[encoded data removed]"
          },
          "metadata": {}
        }
      ],
      "source": [
        "epoch=50\n",
        "\n",
        "fig, ax = plt.subplots(ncols=2,figsize=(16,5))\n",
        "ax[0].plot(range(1,epoch+1),history.history['loss'],label='loss')\n",
        "ax[0].plot(range(1,epoch+1),history.history['val_loss'],label='val_loss')\n",
        "ax[0].set_title('Loss')\n",
        "ax[0].legend()\n",
        "ax[0].set_xlabel('Epoch')\n",
        "#ax[0].set_ylim(0,0.01)\n",
        "\n",
        "ax[1].plot(range(1,epoch+1),history.history['accuracy'],label='accuracy')\n",
        "ax[1].plot(range(1,epoch+1),history.history['val_accuracy'],label='val_accuracy')\n",
        "ax[1].set_title('Accuracy')\n",
        "ax[1].legend()\n",
        "ax[1].set_xlabel('Epoch')\n",
        "#ax[1].set_ylim(0.5,1.5)\n",
        "\n",
        "plt.show()"
      ]
    },
    {
      "cell_type": "markdown",
      "metadata": {
        "id": "KHbG2dguQWtL"
      },
      "source": [
        "Dari plot model, performa model terlihat cukup baik jika dilihat dari akurasinya. Walaupun gradiennya Exploding, namun trend yang ditunjukkan adalah trend naik. Di epoch akhir, terlihat bahwa model memiliki performa yang mulai menurun. Hal ini ditunjukan dari plot yang mulai melandai. Selanjutnya akan dilakukan improvement agar akurasinya bisa semakin naik."
      ]
    },
    {
      "cell_type": "markdown",
      "metadata": {
        "id": "fDB1hp0GR2no"
      },
      "source": [
        "### Improvement Model"
      ]
    },
    {
      "cell_type": "code",
      "execution_count": 63,
      "metadata": {
        "id": "O4aYOT-rR2np"
      },
      "outputs": [],
      "source": [
        "def getModel2():\n",
        "    embedding_layer = Embedding(input_dim = vocab_length,\n",
        "                                output_dim = Embedding_dimensions,\n",
        "                                weights=[embedding_matrix],\n",
        "                                input_length=input_length,\n",
        "                                trainable=False)\n",
        "\n",
        "    model2 = Sequential([\n",
        "        embedding_layer,\n",
        "        Bidirectional(LSTM(100, dropout=0.3, return_sequences=True)),\n",
        "        Bidirectional(LSTM(100, dropout=0.3, return_sequences=True)),\n",
        "        Conv1D(100, 5, activation='relu'),\n",
        "        GlobalMaxPool1D(),\n",
        "        Dense(16, activation='relu'),\n",
        "        Dense(3, activation='softmax'),\n",
        "    ],\n",
        "    name=\"Sentiment_Model2\")\n",
        "    return model2"
      ]
    },
    {
      "cell_type": "code",
      "execution_count": 64,
      "metadata": {
        "colab": {
          "base_uri": "https://localhost:8080/"
        },
        "id": "KaHdARAjR2np",
        "outputId": "1e0c50f1-7dc9-4f21-bdc2-85ee3e1af49c"
      },
      "outputs": [
        {
          "output_type": "stream",
          "name": "stdout",
          "text": [
            "Model: \"Sentiment_Model2\"\n",
            "_________________________________________________________________\n",
            " Layer (type)                Output Shape              Param #   \n",
            "=================================================================\n",
            " embedding_1 (Embedding)     (None, 60, 80)            4000000   \n",
            "                                                                 \n",
            " bidirectional_2 (Bidirectio  (None, 60, 200)          144800    \n",
            " nal)                                                            \n",
            "                                                                 \n",
            " bidirectional_3 (Bidirectio  (None, 60, 200)          240800    \n",
            " nal)                                                            \n",
            "                                                                 \n",
            " conv1d (Conv1D)             (None, 56, 100)           100100    \n",
            "                                                                 \n",
            " global_max_pooling1d_1 (Glo  (None, 100)              0         \n",
            " balMaxPooling1D)                                                \n",
            "                                                                 \n",
            " dense_2 (Dense)             (None, 16)                1616      \n",
            "                                                                 \n",
            " dense_3 (Dense)             (None, 3)                 51        \n",
            "                                                                 \n",
            "=================================================================\n",
            "Total params: 4,487,367\n",
            "Trainable params: 487,367\n",
            "Non-trainable params: 4,000,000\n",
            "_________________________________________________________________\n"
          ]
        }
      ],
      "source": [
        "training_model2 = getModel2()\n",
        "training_model2.summary()"
      ]
    },
    {
      "cell_type": "code",
      "execution_count": 65,
      "metadata": {
        "id": "IPc__mwUR2np"
      },
      "outputs": [],
      "source": [
        "training_model2.compile(loss='binary_crossentropy', optimizer='adam', metrics=['accuracy'])"
      ]
    },
    {
      "cell_type": "code",
      "execution_count": 66,
      "metadata": {
        "colab": {
          "base_uri": "https://localhost:8080/"
        },
        "id": "tuhjOQ77R2np",
        "outputId": "d875d52a-074c-4312-fd5f-f558255cf9b5"
      },
      "outputs": [
        {
          "output_type": "stream",
          "name": "stdout",
          "text": [
            "Epoch 1/50\n",
            "41/41 [==============================] - 23s 165ms/step - loss: 0.5559 - accuracy: 0.5597 - val_loss: 0.5239 - val_accuracy: 0.5955 - lr: 0.0010\n",
            "Epoch 2/50\n",
            "41/41 [==============================] - 4s 108ms/step - loss: 0.5095 - accuracy: 0.6088 - val_loss: 0.5113 - val_accuracy: 0.5995 - lr: 0.0010\n",
            "Epoch 3/50\n",
            "41/41 [==============================] - 5s 113ms/step - loss: 0.4981 - accuracy: 0.6194 - val_loss: 0.4932 - val_accuracy: 0.6291 - lr: 0.0010\n",
            "Epoch 4/50\n",
            "41/41 [==============================] - 5s 112ms/step - loss: 0.4885 - accuracy: 0.6306 - val_loss: 0.4859 - val_accuracy: 0.6353 - lr: 0.0010\n",
            "Epoch 5/50\n",
            "41/41 [==============================] - 4s 109ms/step - loss: 0.4803 - accuracy: 0.6363 - val_loss: 0.4776 - val_accuracy: 0.6422 - lr: 0.0010\n",
            "Epoch 6/50\n",
            "41/41 [==============================] - 5s 114ms/step - loss: 0.4713 - accuracy: 0.6478 - val_loss: 0.4683 - val_accuracy: 0.6579 - lr: 0.0010\n",
            "Epoch 7/50\n",
            "41/41 [==============================] - 4s 110ms/step - loss: 0.4663 - accuracy: 0.6532 - val_loss: 0.4651 - val_accuracy: 0.6560 - lr: 0.0010\n",
            "Epoch 8/50\n",
            "41/41 [==============================] - 5s 110ms/step - loss: 0.4564 - accuracy: 0.6622 - val_loss: 0.4642 - val_accuracy: 0.6547 - lr: 0.0010\n",
            "Epoch 9/50\n",
            "41/41 [==============================] - 5s 110ms/step - loss: 0.4510 - accuracy: 0.6651 - val_loss: 0.4590 - val_accuracy: 0.6678 - lr: 0.0010\n",
            "Epoch 10/50\n",
            "41/41 [==============================] - 5s 114ms/step - loss: 0.4421 - accuracy: 0.6735 - val_loss: 0.4478 - val_accuracy: 0.6699 - lr: 0.0010\n",
            "Epoch 11/50\n",
            "41/41 [==============================] - 5s 115ms/step - loss: 0.4352 - accuracy: 0.6793 - val_loss: 0.4439 - val_accuracy: 0.6745 - lr: 0.0010\n",
            "Epoch 12/50\n",
            "41/41 [==============================] - 5s 114ms/step - loss: 0.4263 - accuracy: 0.6888 - val_loss: 0.4372 - val_accuracy: 0.6760 - lr: 0.0010\n",
            "Epoch 13/50\n",
            "41/41 [==============================] - 5s 111ms/step - loss: 0.4162 - accuracy: 0.6966 - val_loss: 0.4339 - val_accuracy: 0.6852 - lr: 0.0010\n",
            "Epoch 14/50\n",
            "41/41 [==============================] - 5s 112ms/step - loss: 0.4079 - accuracy: 0.7052 - val_loss: 0.4249 - val_accuracy: 0.6998 - lr: 0.0010\n",
            "Epoch 15/50\n",
            "41/41 [==============================] - 5s 114ms/step - loss: 0.3995 - accuracy: 0.7118 - val_loss: 0.4256 - val_accuracy: 0.6942 - lr: 0.0010\n",
            "Epoch 16/50\n",
            "41/41 [==============================] - 5s 115ms/step - loss: 0.3892 - accuracy: 0.7222 - val_loss: 0.4111 - val_accuracy: 0.7110 - lr: 0.0010\n",
            "Epoch 17/50\n",
            "41/41 [==============================] - 5s 116ms/step - loss: 0.3817 - accuracy: 0.7260 - val_loss: 0.4158 - val_accuracy: 0.7035 - lr: 0.0010\n",
            "Epoch 18/50\n",
            "41/41 [==============================] - 5s 115ms/step - loss: 0.3719 - accuracy: 0.7346 - val_loss: 0.3951 - val_accuracy: 0.7258 - lr: 0.0010\n",
            "Epoch 19/50\n",
            "41/41 [==============================] - 5s 113ms/step - loss: 0.3586 - accuracy: 0.7461 - val_loss: 0.3834 - val_accuracy: 0.7360 - lr: 0.0010\n",
            "Epoch 20/50\n",
            "41/41 [==============================] - 5s 112ms/step - loss: 0.3448 - accuracy: 0.7576 - val_loss: 0.3966 - val_accuracy: 0.7232 - lr: 0.0010\n",
            "Epoch 21/50\n",
            "41/41 [==============================] - 5s 112ms/step - loss: 0.3449 - accuracy: 0.7547 - val_loss: 0.3820 - val_accuracy: 0.7334 - lr: 0.0010\n",
            "Epoch 22/50\n",
            "41/41 [==============================] - 5s 113ms/step - loss: 0.3339 - accuracy: 0.7652 - val_loss: 0.3746 - val_accuracy: 0.7404 - lr: 0.0010\n",
            "Epoch 23/50\n",
            "41/41 [==============================] - 5s 115ms/step - loss: 0.3193 - accuracy: 0.7746 - val_loss: 0.3642 - val_accuracy: 0.7515 - lr: 0.0010\n",
            "Epoch 24/50\n",
            "41/41 [==============================] - 5s 116ms/step - loss: 0.3121 - accuracy: 0.7801 - val_loss: 0.3575 - val_accuracy: 0.7579 - lr: 0.0010\n",
            "Epoch 25/50\n",
            "41/41 [==============================] - 5s 113ms/step - loss: 0.3111 - accuracy: 0.7819 - val_loss: 0.3509 - val_accuracy: 0.7603 - lr: 0.0010\n",
            "Epoch 26/50\n",
            "41/41 [==============================] - 5s 116ms/step - loss: 0.2981 - accuracy: 0.7914 - val_loss: 0.3386 - val_accuracy: 0.7692 - lr: 0.0010\n",
            "Epoch 27/50\n",
            "41/41 [==============================] - 5s 117ms/step - loss: 0.2866 - accuracy: 0.8020 - val_loss: 0.3461 - val_accuracy: 0.7653 - lr: 0.0010\n",
            "Epoch 28/50\n",
            "41/41 [==============================] - 5s 116ms/step - loss: 0.2817 - accuracy: 0.8031 - val_loss: 0.3333 - val_accuracy: 0.7771 - lr: 0.0010\n",
            "Epoch 29/50\n",
            "41/41 [==============================] - 5s 117ms/step - loss: 0.2722 - accuracy: 0.8100 - val_loss: 0.3305 - val_accuracy: 0.7808 - lr: 0.0010\n",
            "Epoch 30/50\n",
            "41/41 [==============================] - 5s 117ms/step - loss: 0.2640 - accuracy: 0.8190 - val_loss: 0.3400 - val_accuracy: 0.7720 - lr: 0.0010\n",
            "Epoch 31/50\n",
            "41/41 [==============================] - 5s 116ms/step - loss: 0.2614 - accuracy: 0.8189 - val_loss: 0.3365 - val_accuracy: 0.7823 - lr: 0.0010\n",
            "Epoch 32/50\n",
            "41/41 [==============================] - 5s 118ms/step - loss: 0.2546 - accuracy: 0.8247 - val_loss: 0.3202 - val_accuracy: 0.7912 - lr: 0.0010\n",
            "Epoch 33/50\n",
            "41/41 [==============================] - 5s 113ms/step - loss: 0.2473 - accuracy: 0.8279 - val_loss: 0.3212 - val_accuracy: 0.7882 - lr: 0.0010\n",
            "Epoch 34/50\n",
            "41/41 [==============================] - 5s 113ms/step - loss: 0.2422 - accuracy: 0.8316 - val_loss: 0.3276 - val_accuracy: 0.7864 - lr: 0.0010\n",
            "Epoch 35/50\n",
            "41/41 [==============================] - 5s 117ms/step - loss: 0.2361 - accuracy: 0.8365 - val_loss: 0.3107 - val_accuracy: 0.8015 - lr: 0.0010\n",
            "Epoch 36/50\n",
            "41/41 [==============================] - 5s 116ms/step - loss: 0.2300 - accuracy: 0.8402 - val_loss: 0.3242 - val_accuracy: 0.7910 - lr: 0.0010\n",
            "Epoch 37/50\n",
            "41/41 [==============================] - 5s 116ms/step - loss: 0.2263 - accuracy: 0.8433 - val_loss: 0.3184 - val_accuracy: 0.7984 - lr: 0.0010\n",
            "Epoch 38/50\n",
            "41/41 [==============================] - 5s 116ms/step - loss: 0.2240 - accuracy: 0.8449 - val_loss: 0.3204 - val_accuracy: 0.8010 - lr: 0.0010\n",
            "Epoch 39/50\n",
            "41/41 [==============================] - 5s 116ms/step - loss: 0.2142 - accuracy: 0.8518 - val_loss: 0.3178 - val_accuracy: 0.8039 - lr: 0.0010\n",
            "Epoch 40/50\n",
            "41/41 [==============================] - 5s 117ms/step - loss: 0.2116 - accuracy: 0.8543 - val_loss: 0.3207 - val_accuracy: 0.8002 - lr: 0.0010\n",
            "Epoch 41/50\n",
            "41/41 [==============================] - 5s 113ms/step - loss: 0.1957 - accuracy: 0.8659 - val_loss: 0.3035 - val_accuracy: 0.8124 - lr: 1.0000e-04\n",
            "Epoch 42/50\n",
            "41/41 [==============================] - 5s 116ms/step - loss: 0.1873 - accuracy: 0.8719 - val_loss: 0.3021 - val_accuracy: 0.8139 - lr: 1.0000e-04\n",
            "Epoch 43/50\n",
            "41/41 [==============================] - 5s 113ms/step - loss: 0.1848 - accuracy: 0.8729 - val_loss: 0.3037 - val_accuracy: 0.8154 - lr: 1.0000e-04\n",
            "Epoch 44/50\n",
            "41/41 [==============================] - 5s 113ms/step - loss: 0.1839 - accuracy: 0.8743 - val_loss: 0.3053 - val_accuracy: 0.8152 - lr: 1.0000e-04\n",
            "Epoch 45/50\n",
            "41/41 [==============================] - 5s 117ms/step - loss: 0.1837 - accuracy: 0.8730 - val_loss: 0.3024 - val_accuracy: 0.8168 - lr: 1.0000e-04\n",
            "Epoch 46/50\n",
            "41/41 [==============================] - 5s 116ms/step - loss: 0.1819 - accuracy: 0.8745 - val_loss: 0.3035 - val_accuracy: 0.8178 - lr: 1.0000e-04\n",
            "Epoch 47/50\n",
            "41/41 [==============================] - 5s 112ms/step - loss: 0.1801 - accuracy: 0.8752 - val_loss: 0.3029 - val_accuracy: 0.8152 - lr: 1.0000e-04\n",
            "Epoch 48/50\n",
            "41/41 [==============================] - 5s 114ms/step - loss: 0.1788 - accuracy: 0.8777 - val_loss: 0.3026 - val_accuracy: 0.8159 - lr: 1.0000e-05\n",
            "Epoch 49/50\n",
            "41/41 [==============================] - 5s 116ms/step - loss: 0.1772 - accuracy: 0.8789 - val_loss: 0.3023 - val_accuracy: 0.8176 - lr: 1.0000e-05\n",
            "Epoch 50/50\n",
            "41/41 [==============================] - 5s 114ms/step - loss: 0.1782 - accuracy: 0.8771 - val_loss: 0.3019 - val_accuracy: 0.8178 - lr: 1.0000e-05\n"
          ]
        }
      ],
      "source": [
        "history2 = training_model2.fit(\n",
        "    X_train, y_train,\n",
        "    batch_size=1024,\n",
        "    epochs=50,\n",
        "    validation_split=0.1,\n",
        "    callbacks=callbacks,\n",
        "    verbose=1,\n",
        ")"
      ]
    },
    {
      "cell_type": "code",
      "execution_count": 67,
      "metadata": {
        "colab": {
          "base_uri": "https://localhost:8080/",
          "height": 420
        },
        "id": "vgE2Ev6lR2np",
        "outputId": "426f66b3-adcf-43ad-a7f4-a1b754050d89"
      },
      "outputs": [
        {
          "output_type": "display_data",
          "data": {
            "text/plain": [
              "<Figure size 1600x500 with 2 Axes>"
            ],
            "image/png": "[encoded data removed]"
          },
          "metadata": {}
        }
      ],
      "source": [
        "epoch2=50\n",
        "\n",
        "fig, ax = plt.subplots(ncols=2,figsize=(16,5))\n",
        "ax[0].plot(range(1,epoch2+1),history2.history['loss'],label='loss')\n",
        "ax[0].plot(range(1,epoch2+1),history2.history['val_loss'],label='val_loss')\n",
        "ax[0].set_title('Loss')\n",
        "ax[0].legend()\n",
        "ax[0].set_xlabel('Epoch')\n",
        "#ax[0].set_ylim(0,0.01)\n",
        "\n",
        "ax[1].plot(range(1,epoch2+1),history2.history['accuracy'],label='accuracy')\n",
        "ax[1].plot(range(1,epoch2+1),history2.history['val_accuracy'],label='val_accuracy')\n",
        "ax[1].set_title('Accuracy')\n",
        "ax[1].legend()\n",
        "ax[1].set_xlabel('Epoch')\n",
        "#ax[1].set_ylim(0.5,1.5)\n",
        "\n",
        "plt.show()"
      ]
    },
    {
      "cell_type": "markdown",
      "metadata": {
        "id": "vu6kBdEDQWtM"
      },
      "source": [
        "Dari improvement, terlihat skornya juga mulai naik. Dari model yang pertama angka akurasi validasinya 79%, dan model yang kedua angka akurasi validasinya di angka 82%. Artinya improvement berhasil."
      ]
    },
    {
      "cell_type": "markdown",
      "metadata": {
        "id": "f7UF10RGQWtM"
      },
      "source": [
        "# Model Evaluation"
      ]
    },
    {
      "cell_type": "markdown",
      "metadata": {
        "id": "OZJuRUZcQWtM"
      },
      "source": [
        "Pada bagian ini akan dilakukan evaluasi model dengan bantuan visualisasi confusion matrix dan classification report."
      ]
    },
    {
      "cell_type": "code",
      "execution_count": 68,
      "metadata": {
        "colab": {
          "base_uri": "https://localhost:8080/"
        },
        "id": "5QZ_Xr8DbTNn",
        "outputId": "14187eea-e85e-41ea-cb4b-ec5fc576fe03"
      },
      "outputs": [
        {
          "output_type": "stream",
          "name": "stdout",
          "text": [
            "1433/1433 [==============================] - 11s 8ms/step - loss: 0.1497 - accuracy: 0.9008\n"
          ]
        },
        {
          "output_type": "execute_result",
          "data": {
            "text/plain": [
              "[0.14973975718021393, 0.9008289575576782]"
            ]
          },
          "metadata": {},
          "execution_count": 68
        }
      ],
      "source": [
        "# evaluasi training\n",
        "training_model2.evaluate(X_train, y_train)"
      ]
    },
    {
      "cell_type": "code",
      "execution_count": 69,
      "metadata": {
        "colab": {
          "base_uri": "https://localhost:8080/"
        },
        "id": "8ltuiueObmO3",
        "outputId": "25bb5bab-9b72-4999-f060-07ef2bc9511c"
      },
      "outputs": [
        {
          "output_type": "stream",
          "name": "stdout",
          "text": [
            "478/478 [==============================] - 3s 7ms/step - loss: 0.2885 - accuracy: 0.8208\n"
          ]
        },
        {
          "output_type": "execute_result",
          "data": {
            "text/plain": [
              "[0.2884710729122162, 0.8207578063011169]"
            ]
          },
          "metadata": {},
          "execution_count": 69
        }
      ],
      "source": [
        "# evaluasi test\n",
        "training_model2.evaluate(X_test, y_test)"
      ]
    },
    {
      "cell_type": "code",
      "execution_count": 70,
      "metadata": {
        "colab": {
          "base_uri": "https://localhost:8080/"
        },
        "id": "j85StyCvc-g5",
        "outputId": "b226ff2c-d16c-4142-d2c9-36c631fd8b79"
      },
      "outputs": [
        {
          "output_type": "stream",
          "name": "stdout",
          "text": [
            "2/2 [==============================] - 3s 659ms/step\n"
          ]
        },
        {
          "output_type": "execute_result",
          "data": {
            "text/plain": [
              "array([[9.9293774e-01, 6.7073680e-03, 3.5485020e-04],\n",
              "       [9.9999976e-01, 9.0346566e-09, 2.0942826e-07]], dtype=float32)"
            ]
          },
          "metadata": {},
          "execution_count": 70
        }
      ],
      "source": [
        "scores = training_model2.predict(X_test, verbose = 1, batch_size = 10000)\n",
        "scores[:2]"
      ]
    },
    {
      "cell_type": "code",
      "execution_count": 71,
      "metadata": {
        "colab": {
          "base_uri": "https://localhost:8080/"
        },
        "id": "RD0oWUsydRZa",
        "outputId": "8b30c56a-0d66-4454-b8fd-3d9e20681f5c"
      },
      "outputs": [
        {
          "output_type": "execute_result",
          "data": {
            "text/plain": [
              "array([[1, 0, 0],\n",
              "       [1, 0, 0],\n",
              "       [1, 0, 0],\n",
              "       ...,\n",
              "       [0, 0, 1],\n",
              "       [0, 0, 1],\n",
              "       [0, 0, 1]])"
            ]
          },
          "metadata": {},
          "execution_count": 71
        }
      ],
      "source": [
        "binary_predictions = np.where(scores == np.max(scores, axis=1, keepdims=True), 1, 0)\n",
        "binary_predictions"
      ]
    },
    {
      "cell_type": "code",
      "execution_count": 72,
      "metadata": {
        "id": "PR41rXrHdgT6"
      },
      "outputs": [],
      "source": [
        "def conmat_dec(y_test, binary_predictions):\n",
        "    # konversi ohe\n",
        "    y_true = np.argmax(y_test, axis=1)\n",
        "    y_pred = np.argmax(binary_predictions, axis=1)\n",
        "\n",
        "    # define confusion matrix\n",
        "    cm = confusion_matrix(y_true, y_pred)\n",
        "\n",
        "    # buat visualisasi confusion matrix\n",
        "    fig, ax = plt.subplots()\n",
        "\n",
        "    # tambahkan heatmap\n",
        "    im = ax.imshow(cm, interpolation='nearest', cmap=plt.cm.Blues)\n",
        "\n",
        "    # edit elemen plot\n",
        "    ax.figure.colorbar(im, ax=ax)\n",
        "    classes = ['Positive', 'Negative', 'Neutral']  # tentukan label\n",
        "    ax.set(xticks=np.arange(cm.shape[1]),\n",
        "           yticks=np.arange(cm.shape[0]),\n",
        "           xticklabels=classes, yticklabels=classes,\n",
        "           xlabel='Predicted label', ylabel='True label',\n",
        "           title='Confusion Matrix')\n",
        "    plt.xticks(rotation=45)\n",
        "\n",
        "    # tambahkan anotasi\n",
        "    thresh = cm.max() / 2.\n",
        "    for i in range(cm.shape[0]):\n",
        "        for j in range(cm.shape[1]):\n",
        "            ax.text(j, i, format(cm[i, j], 'd'),\n",
        "                    ha=\"center\", va=\"center\",\n",
        "                    color=\"white\" if cm[i, j] > thresh else \"black\")\n",
        "\n",
        "    # display visualisasi\n",
        "    plt.tight_layout()\n",
        "    plt.show()\n",
        "\n",
        "    report = classification_report(y_true, y_pred)\n",
        "\n",
        "    # print classification report\n",
        "    print(\"Classification Report:\")\n",
        "    print(report)"
      ]
    },
    {
      "cell_type": "code",
      "execution_count": 73,
      "metadata": {
        "colab": {
          "base_uri": "https://localhost:8080/",
          "height": 678
        },
        "id": "fD0IIwBrdqTE",
        "outputId": "ba883322-4b48-4370-fd68-9c589a0dac3b"
      },
      "outputs": [
        {
          "output_type": "display_data",
          "data": {
            "text/plain": [
              "<Figure size 640x480 with 2 Axes>"
            ],
            "image/png": "[encoded data removed]"
          },
          "metadata": {}
        },
        {
          "output_type": "stream",
          "name": "stdout",
          "text": [
            "Classification Report:\n",
            "              precision    recall  f1-score   support\n",
            "\n",
            "           0       0.85      0.84      0.84      5590\n",
            "           1       0.82      0.78      0.80      4527\n",
            "           2       0.80      0.84      0.82      5164\n",
            "\n",
            "    accuracy                           0.82     15281\n",
            "   macro avg       0.82      0.82      0.82     15281\n",
            "weighted avg       0.82      0.82      0.82     15281\n",
            "\n"
          ]
        }
      ],
      "source": [
        "# panggil function evaluasi model\n",
        "conmat_dec(y_test, binary_predictions)"
      ]
    },
    {
      "cell_type": "markdown",
      "metadata": {
        "id": "5PZ3u-KTQWtN"
      },
      "source": [
        "Dari Evaluasi, terlihat bahwa model memiliki performa cukup baik dalam klasifikasi sentimen. Dapat dilihat dari jumlah prediksi yang benar mendominasi plot confusion matrix. Namun masih banyak juga yang masih salah klasifikasi. Setidaknya, model sudah bisa digunakan namun perlu bantuan manusia untuk validasi kembali hasil prediksi model. Namun dari visualisasi saat training, terlihat juga model overfitting. Hal ini nanti akan dibahas pada bagian kesimpulan."
      ]
    },
    {
      "cell_type": "markdown",
      "metadata": {
        "id": "1mgmv88igsRN"
      },
      "source": [
        "### Save Model"
      ]
    },
    {
      "cell_type": "code",
      "execution_count": 74,
      "metadata": {
        "id": "q4blVCtnbt9G"
      },
      "outputs": [],
      "source": [
        "training_model2.save('twitter_sentiment.h5')"
      ]
    },
    {
      "cell_type": "markdown",
      "metadata": {
        "id": "oaDHB2bRQWtN"
      },
      "source": [
        "# Kesimpulan"
      ]
    },
    {
      "cell_type": "markdown",
      "metadata": {
        "id": "vhffZaWwQWtN"
      },
      "source": [
        "Kesimpulan yang dapat diambil dari pembuatan notebook ini adalah **model bisa digunakan**. Performa model cukup baik dalam melakukan prediksi nya. Perlu dicatat bahwa ini adalah prediksi dan memang model awal. Perlu dilakukan beberapa improvement kembali. Berdasarkan EDA, preprocessing, dan hasil akhir model, ada beberapa hal yang mungkin dapat dilakukan improvement.\n",
        "\n",
        "---\n",
        "1. Pada bagian EDA terlihat bahwa data sedikit imbalance. Hal ini ada kemungkinan menurunkan performa model. Sebagai analogi, hal ini sama seperti ketika kita sekolah dan ada pekan ujian sekolah. Waktu proses belajar, apa yang kita pelajari adalah bab 1 sub-bab 1, bab 2 sub-bab 2, dan bab 3 sub-bab 3. Namun apa yang diuji ternyata bab 1 sub-bab 1 dan 2, bab 2 sub-bab 2, dan bab 3 sub-bab 2 dan 3. Kita belum belajar semuanya. Sehingga akhirnya waktu ujian kita hanya bisa menjawab apa yang sudah kita pelajari. Nilai ujian kita pun tidak akan maskimal.\n",
        "\n",
        "2. Dari bagian preprocessing, ada kemungkinan masih belum semua elemen di preprocess. Sehingga data yang masuk ke model termasuk \"kotor\". Mungkin sebagai improvement nanti bisa di cek kembali apakah preprocessing datanya sudah maksimal atau belum.\n",
        "\n",
        "3. Selanjutnya dari modelling. Model yang digunakan memiliki performa yang kurang maksimal. Hal ini ada kemungkinan disebabkan oleh terlalu banyak parameter yang digunakan. Pada saat pembuatan model, saya berpikir bahwa untuk analisa sentimen dibutuhkan model yang rumit. Tetapi, jika ditinjau kembali, ternyata data tidak terlalu rumit dan mungkin ada pattern yang seharusnya bisa dilakukan oleh model yang lebih sederhana. Sebagai analogi, hal ini sama seperti ketika seorang sarjana memecahkan kasus matematika sederhana seperti penjumlahan. Sarjana melakukan proses perhitungan dengan mengganti bentuk dari angka-angkanya lalu proses lain-lain  baru di lakukan penjumlahan yang ternyata hasilnya melenceng sedikit. Sama seperti kasus sarjana ini, model yang dibuat terlalu \"pintar\" sehingga untuk menyelesaikan proses yang sederhana saja menjadi rumit. Oleh karena itu, sebagai improvement, model bisa dibuat lebih sederhana lagi.\n",
        "\n",
        "---\n",
        "\n",
        "Dari pengerjaan model ini, sebagai business insight, model ini bisa di implementasikan walaupun butuh improvement. Model ini perlu diawasi saat \"bekerja\". Prediksi model ini memang cukup baik, namun perlu divalidasi ulang oleh manusia. Setidaknya, dengan model ini, data yang banyak bisa di filter dengan cepat. Perlu diingat juga bahwa model hanya melakukan proses yang membosankan dan berulang. Untuk selanjutnya, sumber daya manusia yang dibutuhkan jauh lebih sedikit dibanding saat ketiadaan modelnya. Secara bisnis, ini hal yang sangat menguntungkan secara ekonomi karena tidak perlu tenaga lebih untuk handle kasus ini.\n"
      ]
    },
    {
      "cell_type": "markdown",
      "metadata": {
        "id": "8ZwvBS0SR2np"
      },
      "source": [
        "# Inference"
      ]
    },
    {
      "cell_type": "code",
      "execution_count": 75,
      "metadata": {
        "colab": {
          "base_uri": "https://localhost:8080/",
          "height": 423
        },
        "id": "5UaMYxxkR2np",
        "outputId": "209c107d-114c-4d51-ab10-a8bb186e0a49"
      },
      "outputs": [
        {
          "output_type": "execute_result",
          "data": {
            "text/plain": [
              "                                             full_text\n",
              "0    Will someone please get David Grusch in a SCIF...\n",
              "1    David Grusch told Liberation Times:  “Congress...\n",
              "2    David Grusch responds to Rep. Mike Turner’s co...\n",
              "3    David Grusch told Liberation Times:  “Congress...\n",
              "4    The late Nat Kobitz... a key figure in the Dav...\n",
              "..                                                 ...\n",
              "725  6pm on @NewsNation: David Grusch - a veteran o...\n",
              "726  UFO Whistleblower David Grusch says the US Gov...\n",
              "727  Ross Coulthart on UFO whistleblower David Grus...\n",
              "728  Ross Coulthart will be interviewing recently r...\n",
              "729  David Charles Grusch… remember that name. #ufo...\n",
              "\n",
              "[730 rows x 1 columns]"
            ],
            "text/html": [
              "\n",
              "\n",
              "  <div id=\"df-ae2b1fc0-682a-419a-9e86-56f8629fab17\">\n",
              "    <div class=\"colab-df-container\">\n",
              "      <div>\n",
              "<style scoped>\n",
              "    .dataframe tbody tr th:only-of-type {\n",
              "        vertical-align: middle;\n",
              "    }\n",
              "\n",
              "    .dataframe tbody tr th {\n",
              "        vertical-align: top;\n",
              "    }\n",
              "\n",
              "    .dataframe thead th {\n",
              "        text-align: right;\n",
              "    }\n",
              "</style>\n",
              "<table border=\"1\" class=\"dataframe\">\n",
              "  <thead>\n",
              "    <tr style=\"text-align: right;\">\n",
              "      <th></th>\n",
              "      <th>full_text</th>\n",
              "    </tr>\n",
              "  </thead>\n",
              "  <tbody>\n",
              "    <tr>\n",
              "      <th>0</th>\n",
              "      <td>Will someone please get David Grusch in a SCIF...</td>\n",
              "    </tr>\n",
              "    <tr>\n",
              "      <th>1</th>\n",
              "      <td>David Grusch told Liberation Times:  “Congress...</td>\n",
              "    </tr>\n",
              "    <tr>\n",
              "      <th>2</th>\n",
              "      <td>David Grusch responds to Rep. Mike Turner’s co...</td>\n",
              "    </tr>\n",
              "    <tr>\n",
              "      <th>3</th>\n",
              "      <td>David Grusch told Liberation Times:  “Congress...</td>\n",
              "    </tr>\n",
              "    <tr>\n",
              "      <th>4</th>\n",
              "      <td>The late Nat Kobitz... a key figure in the Dav...</td>\n",
              "    </tr>\n",
              "    <tr>\n",
              "      <th>...</th>\n",
              "      <td>...</td>\n",
              "    </tr>\n",
              "    <tr>\n",
              "      <th>725</th>\n",
              "      <td>6pm on @NewsNation: David Grusch - a veteran o...</td>\n",
              "    </tr>\n",
              "    <tr>\n",
              "      <th>726</th>\n",
              "      <td>UFO Whistleblower David Grusch says the US Gov...</td>\n",
              "    </tr>\n",
              "    <tr>\n",
              "      <th>727</th>\n",
              "      <td>Ross Coulthart on UFO whistleblower David Grus...</td>\n",
              "    </tr>\n",
              "    <tr>\n",
              "      <th>728</th>\n",
              "      <td>Ross Coulthart will be interviewing recently r...</td>\n",
              "    </tr>\n",
              "    <tr>\n",
              "      <th>729</th>\n",
              "      <td>David Charles Grusch… remember that name. #ufo...</td>\n",
              "    </tr>\n",
              "  </tbody>\n",
              "</table>\n",
              "<p>730 rows × 1 columns</p>\n",
              "</div>\n",
              "      <button class=\"colab-df-convert\" onclick=\"convertToInteractive('df-ae2b1fc0-682a-419a-9e86-56f8629fab17')\"\n",
              "              title=\"Convert this dataframe to an interactive table.\"\n",
              "              style=\"display:none;\">\n",
              "\n",
              "  <svg xmlns=\"http://www.w3.org/2000/svg\" height=\"24px\"viewBox=\"0 0 24 24\"\n",
              "       width=\"24px\">\n",
              "    <path d=\"M0 0h24v24H0V0z\" fill=\"none\"/>\n",
              "    <path d=\"M18.56 5.44l.94 2.06.94-2.06 2.06-.94-2.06-.94-.94-2.06-.94 2.06-2.06.94zm-11 1L8.5 8.5l.94-2.06 2.06-.94-2.06-.94L8.5 2.5l-.94 2.06-2.06.94zm10 10l.94 2.06.94-2.06 2.06-.94-2.06-.94-.94-2.06-.94 2.06-2.06.94z\"/><path d=\"M17.41 7.96l-1.37-1.37c-.4-.4-.92-.59-1.43-.59-.52 0-1.04.2-1.43.59L10.3 9.45l-7.72 7.72c-.78.78-.78 2.05 0 2.83L4 21.41c.39.39.9.59 1.41.59.51 0 1.02-.2 1.41-.59l7.78-7.78 2.81-2.81c.8-.78.8-2.07 0-2.86zM5.41 20L4 18.59l7.72-7.72 1.47 1.35L5.41 20z\"/>\n",
              "  </svg>\n",
              "      </button>\n",
              "\n",
              "\n",
              "\n",
              "    <div id=\"df-6bd7e12d-b463-468b-b74e-2741065eb19a\">\n",
              "      <button class=\"colab-df-quickchart\" onclick=\"quickchart('df-6bd7e12d-b463-468b-b74e-2741065eb19a')\"\n",
              "              title=\"Suggest charts.\"\n",
              "              style=\"display:none;\">\n",
              "\n",
              "<svg xmlns=\"http://www.w3.org/2000/svg\" height=\"24px\"viewBox=\"0 0 24 24\"\n",
              "     width=\"24px\">\n",
              "    <g>\n",
              "        <path d=\"M19 3H5c-1.1 0-2 .9-2 2v14c0 1.1.9 2 2 2h14c1.1 0 2-.9 2-2V5c0-1.1-.9-2-2-2zM9 17H7v-7h2v7zm4 0h-2V7h2v10zm4 0h-2v-4h2v4z\"/>\n",
              "    </g>\n",
              "</svg>\n",
              "      </button>\n",
              "    </div>\n",
              "\n",
              "<style>\n",
              "  .colab-df-quickchart {\n",
              "    background-color: #E8F0FE;\n",
              "    border: none;\n",
              "    border-radius: 50%;\n",
              "    cursor: pointer;\n",
              "    display: none;\n",
              "    fill: #1967D2;\n",
              "    height: 32px;\n",
              "    padding: 0 0 0 0;\n",
              "    width: 32px;\n",
              "  }\n",
              "\n",
              "  .colab-df-quickchart:hover {\n",
              "    background-color: #E2EBFA;\n",
              "    box-shadow: 0px 1px 2px rgba(60, 64, 67, 0.3), 0px 1px 3px 1px rgba(60, 64, 67, 0.15);\n",
              "    fill: #174EA6;\n",
              "  }\n",
              "\n",
              "  [theme=dark] .colab-df-quickchart {\n",
              "    background-color: #3B4455;\n",
              "    fill: #D2E3FC;\n",
              "  }\n",
              "\n",
              "  [theme=dark] .colab-df-quickchart:hover {\n",
              "    background-color: #434B5C;\n",
              "    box-shadow: 0px 1px 3px 1px rgba(0, 0, 0, 0.15);\n",
              "    filter: drop-shadow(0px 1px 2px rgba(0, 0, 0, 0.3));\n",
              "    fill: #FFFFFF;\n",
              "  }\n",
              "</style>\n",
              "\n",
              "    <script>\n",
              "      async function quickchart(key) {\n",
              "        const containerElement = document.querySelector('#' + key);\n",
              "        const charts = await google.colab.kernel.invokeFunction(\n",
              "            'suggestCharts', [key], {});\n",
              "      }\n",
              "    </script>\n",
              "\n",
              "      <script>\n",
              "\n",
              "function displayQuickchartButton(domScope) {\n",
              "  let quickchartButtonEl =\n",
              "    domScope.querySelector('#df-6bd7e12d-b463-468b-b74e-2741065eb19a button.colab-df-quickchart');\n",
              "  quickchartButtonEl.style.display =\n",
              "    google.colab.kernel.accessAllowed ? 'block' : 'none';\n",
              "}\n",
              "\n",
              "        displayQuickchartButton(document);\n",
              "      </script>\n",
              "      <style>\n",
              "    .colab-df-container {\n",
              "      display:flex;\n",
              "      flex-wrap:wrap;\n",
              "      gap: 12px;\n",
              "    }\n",
              "\n",
              "    .colab-df-convert {\n",
              "      background-color: #E8F0FE;\n",
              "      border: none;\n",
              "      border-radius: 50%;\n",
              "      cursor: pointer;\n",
              "      display: none;\n",
              "      fill: #1967D2;\n",
              "      height: 32px;\n",
              "      padding: 0 0 0 0;\n",
              "      width: 32px;\n",
              "    }\n",
              "\n",
              "    .colab-df-convert:hover {\n",
              "      background-color: #E2EBFA;\n",
              "      box-shadow: 0px 1px 2px rgba(60, 64, 67, 0.3), 0px 1px 3px 1px rgba(60, 64, 67, 0.15);\n",
              "      fill: #174EA6;\n",
              "    }\n",
              "\n",
              "    [theme=dark] .colab-df-convert {\n",
              "      background-color: #3B4455;\n",
              "      fill: #D2E3FC;\n",
              "    }\n",
              "\n",
              "    [theme=dark] .colab-df-convert:hover {\n",
              "      background-color: #434B5C;\n",
              "      box-shadow: 0px 1px 3px 1px rgba(0, 0, 0, 0.15);\n",
              "      filter: drop-shadow(0px 1px 2px rgba(0, 0, 0, 0.3));\n",
              "      fill: #FFFFFF;\n",
              "    }\n",
              "  </style>\n",
              "\n",
              "      <script>\n",
              "        const buttonEl =\n",
              "          document.querySelector('#df-ae2b1fc0-682a-419a-9e86-56f8629fab17 button.colab-df-convert');\n",
              "        buttonEl.style.display =\n",
              "          google.colab.kernel.accessAllowed ? 'block' : 'none';\n",
              "\n",
              "        async function convertToInteractive(key) {\n",
              "          const element = document.querySelector('#df-ae2b1fc0-682a-419a-9e86-56f8629fab17');\n",
              "          const dataTable =\n",
              "            await google.colab.kernel.invokeFunction('convertToInteractive',\n",
              "                                                     [key], {});\n",
              "          if (!dataTable) return;\n",
              "\n",
              "          const docLinkHtml = 'Like what you see? Visit the ' +\n",
              "            '<a target=\"_blank\" href=https://colab.research.google.com/notebooks/data_table.ipynb>data table notebook</a>'\n",
              "            + ' to learn more about interactive tables.';\n",
              "          element.innerHTML = '';\n",
              "          dataTable['output_type'] = 'display_data';\n",
              "          await google.colab.output.renderOutput(dataTable, element);\n",
              "          const docLink = document.createElement('div');\n",
              "          docLink.innerHTML = docLinkHtml;\n",
              "          element.appendChild(docLink);\n",
              "        }\n",
              "      </script>\n",
              "    </div>\n",
              "  </div>\n"
            ]
          },
          "metadata": {},
          "execution_count": 75
        }
      ],
      "source": [
        "inf"
      ]
    },
    {
      "cell_type": "code",
      "execution_count": 76,
      "metadata": {
        "colab": {
          "base_uri": "https://localhost:8080/",
          "height": 423
        },
        "id": "xLroX1LFednv",
        "outputId": "ecdb465e-d9c1-4e57-bfb2-3e6a3a838718"
      },
      "outputs": [
        {
          "output_type": "execute_result",
          "data": {
            "text/plain": [
              "                                             full_text\n",
              "0    will someone please get david grusch in a scif...\n",
              "1    david grusch told liberation times    congress...\n",
              "2    david grusch responds to rep  mike turner s co...\n",
              "3    david grusch told liberation times    congress...\n",
              "4    the late nat kobitz   a key figure in the davi...\n",
              "..                                                 ...\n",
              "725  6pm on <user> david grusch   a veteran of the ...\n",
              "726  ufo whistleblower david grusch says the us gov...\n",
              "727  ross coulthart on ufo whistleblower david grus...\n",
              "728  ross coulthart will be interviewing recently r...\n",
              "729  david charles grusch  remember that name   ufo...\n",
              "\n",
              "[730 rows x 1 columns]"
            ],
            "text/html": [
              "\n",
              "\n",
              "  <div id=\"df-df5f202b-1e4e-4341-a016-38ff2f458a3a\">\n",
              "    <div class=\"colab-df-container\">\n",
              "      <div>\n",
              "<style scoped>\n",
              "    .dataframe tbody tr th:only-of-type {\n",
              "        vertical-align: middle;\n",
              "    }\n",
              "\n",
              "    .dataframe tbody tr th {\n",
              "        vertical-align: top;\n",
              "    }\n",
              "\n",
              "    .dataframe thead th {\n",
              "        text-align: right;\n",
              "    }\n",
              "</style>\n",
              "<table border=\"1\" class=\"dataframe\">\n",
              "  <thead>\n",
              "    <tr style=\"text-align: right;\">\n",
              "      <th></th>\n",
              "      <th>full_text</th>\n",
              "    </tr>\n",
              "  </thead>\n",
              "  <tbody>\n",
              "    <tr>\n",
              "      <th>0</th>\n",
              "      <td>will someone please get david grusch in a scif...</td>\n",
              "    </tr>\n",
              "    <tr>\n",
              "      <th>1</th>\n",
              "      <td>david grusch told liberation times    congress...</td>\n",
              "    </tr>\n",
              "    <tr>\n",
              "      <th>2</th>\n",
              "      <td>david grusch responds to rep  mike turner s co...</td>\n",
              "    </tr>\n",
              "    <tr>\n",
              "      <th>3</th>\n",
              "      <td>david grusch told liberation times    congress...</td>\n",
              "    </tr>\n",
              "    <tr>\n",
              "      <th>4</th>\n",
              "      <td>the late nat kobitz   a key figure in the davi...</td>\n",
              "    </tr>\n",
              "    <tr>\n",
              "      <th>...</th>\n",
              "      <td>...</td>\n",
              "    </tr>\n",
              "    <tr>\n",
              "      <th>725</th>\n",
              "      <td>6pm on &lt;user&gt; david grusch   a veteran of the ...</td>\n",
              "    </tr>\n",
              "    <tr>\n",
              "      <th>726</th>\n",
              "      <td>ufo whistleblower david grusch says the us gov...</td>\n",
              "    </tr>\n",
              "    <tr>\n",
              "      <th>727</th>\n",
              "      <td>ross coulthart on ufo whistleblower david grus...</td>\n",
              "    </tr>\n",
              "    <tr>\n",
              "      <th>728</th>\n",
              "      <td>ross coulthart will be interviewing recently r...</td>\n",
              "    </tr>\n",
              "    <tr>\n",
              "      <th>729</th>\n",
              "      <td>david charles grusch  remember that name   ufo...</td>\n",
              "    </tr>\n",
              "  </tbody>\n",
              "</table>\n",
              "<p>730 rows × 1 columns</p>\n",
              "</div>\n",
              "      <button class=\"colab-df-convert\" onclick=\"convertToInteractive('df-df5f202b-1e4e-4341-a016-38ff2f458a3a')\"\n",
              "              title=\"Convert this dataframe to an interactive table.\"\n",
              "              style=\"display:none;\">\n",
              "\n",
              "  <svg xmlns=\"http://www.w3.org/2000/svg\" height=\"24px\"viewBox=\"0 0 24 24\"\n",
              "       width=\"24px\">\n",
              "    <path d=\"M0 0h24v24H0V0z\" fill=\"none\"/>\n",
              "    <path d=\"M18.56 5.44l.94 2.06.94-2.06 2.06-.94-2.06-.94-.94-2.06-.94 2.06-2.06.94zm-11 1L8.5 8.5l.94-2.06 2.06-.94-2.06-.94L8.5 2.5l-.94 2.06-2.06.94zm10 10l.94 2.06.94-2.06 2.06-.94-2.06-.94-.94-2.06-.94 2.06-2.06.94z\"/><path d=\"M17.41 7.96l-1.37-1.37c-.4-.4-.92-.59-1.43-.59-.52 0-1.04.2-1.43.59L10.3 9.45l-7.72 7.72c-.78.78-.78 2.05 0 2.83L4 21.41c.39.39.9.59 1.41.59.51 0 1.02-.2 1.41-.59l7.78-7.78 2.81-2.81c.8-.78.8-2.07 0-2.86zM5.41 20L4 18.59l7.72-7.72 1.47 1.35L5.41 20z\"/>\n",
              "  </svg>\n",
              "      </button>\n",
              "\n",
              "\n",
              "\n",
              "    <div id=\"df-3c507ee3-efb5-4105-9c9f-a18a9ea92f25\">\n",
              "      <button class=\"colab-df-quickchart\" onclick=\"quickchart('df-3c507ee3-efb5-4105-9c9f-a18a9ea92f25')\"\n",
              "              title=\"Suggest charts.\"\n",
              "              style=\"display:none;\">\n",
              "\n",
              "<svg xmlns=\"http://www.w3.org/2000/svg\" height=\"24px\"viewBox=\"0 0 24 24\"\n",
              "     width=\"24px\">\n",
              "    <g>\n",
              "        <path d=\"M19 3H5c-1.1 0-2 .9-2 2v14c0 1.1.9 2 2 2h14c1.1 0 2-.9 2-2V5c0-1.1-.9-2-2-2zM9 17H7v-7h2v7zm4 0h-2V7h2v10zm4 0h-2v-4h2v4z\"/>\n",
              "    </g>\n",
              "</svg>\n",
              "      </button>\n",
              "    </div>\n",
              "\n",
              "<style>\n",
              "  .colab-df-quickchart {\n",
              "    background-color: #E8F0FE;\n",
              "    border: none;\n",
              "    border-radius: 50%;\n",
              "    cursor: pointer;\n",
              "    display: none;\n",
              "    fill: #1967D2;\n",
              "    height: 32px;\n",
              "    padding: 0 0 0 0;\n",
              "    width: 32px;\n",
              "  }\n",
              "\n",
              "  .colab-df-quickchart:hover {\n",
              "    background-color: #E2EBFA;\n",
              "    box-shadow: 0px 1px 2px rgba(60, 64, 67, 0.3), 0px 1px 3px 1px rgba(60, 64, 67, 0.15);\n",
              "    fill: #174EA6;\n",
              "  }\n",
              "\n",
              "  [theme=dark] .colab-df-quickchart {\n",
              "    background-color: #3B4455;\n",
              "    fill: #D2E3FC;\n",
              "  }\n",
              "\n",
              "  [theme=dark] .colab-df-quickchart:hover {\n",
              "    background-color: #434B5C;\n",
              "    box-shadow: 0px 1px 3px 1px rgba(0, 0, 0, 0.15);\n",
              "    filter: drop-shadow(0px 1px 2px rgba(0, 0, 0, 0.3));\n",
              "    fill: #FFFFFF;\n",
              "  }\n",
              "</style>\n",
              "\n",
              "    <script>\n",
              "      async function quickchart(key) {\n",
              "        const containerElement = document.querySelector('#' + key);\n",
              "        const charts = await google.colab.kernel.invokeFunction(\n",
              "            'suggestCharts', [key], {});\n",
              "      }\n",
              "    </script>\n",
              "\n",
              "      <script>\n",
              "\n",
              "function displayQuickchartButton(domScope) {\n",
              "  let quickchartButtonEl =\n",
              "    domScope.querySelector('#df-3c507ee3-efb5-4105-9c9f-a18a9ea92f25 button.colab-df-quickchart');\n",
              "  quickchartButtonEl.style.display =\n",
              "    google.colab.kernel.accessAllowed ? 'block' : 'none';\n",
              "}\n",
              "\n",
              "        displayQuickchartButton(document);\n",
              "      </script>\n",
              "      <style>\n",
              "    .colab-df-container {\n",
              "      display:flex;\n",
              "      flex-wrap:wrap;\n",
              "      gap: 12px;\n",
              "    }\n",
              "\n",
              "    .colab-df-convert {\n",
              "      background-color: #E8F0FE;\n",
              "      border: none;\n",
              "      border-radius: 50%;\n",
              "      cursor: pointer;\n",
              "      display: none;\n",
              "      fill: #1967D2;\n",
              "      height: 32px;\n",
              "      padding: 0 0 0 0;\n",
              "      width: 32px;\n",
              "    }\n",
              "\n",
              "    .colab-df-convert:hover {\n",
              "      background-color: #E2EBFA;\n",
              "      box-shadow: 0px 1px 2px rgba(60, 64, 67, 0.3), 0px 1px 3px 1px rgba(60, 64, 67, 0.15);\n",
              "      fill: #174EA6;\n",
              "    }\n",
              "\n",
              "    [theme=dark] .colab-df-convert {\n",
              "      background-color: #3B4455;\n",
              "      fill: #D2E3FC;\n",
              "    }\n",
              "\n",
              "    [theme=dark] .colab-df-convert:hover {\n",
              "      background-color: #434B5C;\n",
              "      box-shadow: 0px 1px 3px 1px rgba(0, 0, 0, 0.15);\n",
              "      filter: drop-shadow(0px 1px 2px rgba(0, 0, 0, 0.3));\n",
              "      fill: #FFFFFF;\n",
              "    }\n",
              "  </style>\n",
              "\n",
              "      <script>\n",
              "        const buttonEl =\n",
              "          document.querySelector('#df-df5f202b-1e4e-4341-a016-38ff2f458a3a button.colab-df-convert');\n",
              "        buttonEl.style.display =\n",
              "          google.colab.kernel.accessAllowed ? 'block' : 'none';\n",
              "\n",
              "        async function convertToInteractive(key) {\n",
              "          const element = document.querySelector('#df-df5f202b-1e4e-4341-a016-38ff2f458a3a');\n",
              "          const dataTable =\n",
              "            await google.colab.kernel.invokeFunction('convertToInteractive',\n",
              "                                                     [key], {});\n",
              "          if (!dataTable) return;\n",
              "\n",
              "          const docLinkHtml = 'Like what you see? Visit the ' +\n",
              "            '<a target=\"_blank\" href=https://colab.research.google.com/notebooks/data_table.ipynb>data table notebook</a>'\n",
              "            + ' to learn more about interactive tables.';\n",
              "          element.innerHTML = '';\n",
              "          dataTable['output_type'] = 'display_data';\n",
              "          await google.colab.output.renderOutput(dataTable, element);\n",
              "          const docLink = document.createElement('div');\n",
              "          docLink.innerHTML = docLinkHtml;\n",
              "          element.appendChild(docLink);\n",
              "        }\n",
              "      </script>\n",
              "    </div>\n",
              "  </div>\n"
            ]
          },
          "metadata": {},
          "execution_count": 76
        }
      ],
      "source": [
        "inf['full_text'] = inf['full_text'].apply(lambda x: preprocess_apply(x))\n",
        "inf"
      ]
    },
    {
      "cell_type": "code",
      "execution_count": 77,
      "metadata": {
        "colab": {
          "base_uri": "https://localhost:8080/"
        },
        "id": "jx7pbnXtfTfU",
        "outputId": "554dd2d1-35b0-44c5-af28-489767f57565"
      },
      "outputs": [
        {
          "output_type": "stream",
          "name": "stdout",
          "text": [
            "X Validation Shape: (730, 60)\n"
          ]
        }
      ],
      "source": [
        "x_data_val = pad_sequences(tokenizer.texts_to_sequences(inf.full_text), maxlen = input_length)\n",
        "\n",
        "print(\"X Validation Shape:\",x_data_val.shape)"
      ]
    },
    {
      "cell_type": "code",
      "execution_count": 78,
      "metadata": {
        "colab": {
          "base_uri": "https://localhost:8080/"
        },
        "id": "NCGUSZSVf7KC",
        "outputId": "6e3e4cb3-e13f-4fc3-e3a1-a7f004de3dc0"
      },
      "outputs": [
        {
          "output_type": "stream",
          "name": "stdout",
          "text": [
            "365/365 [==============================] - 2s 6ms/step\n"
          ]
        },
        {
          "output_type": "execute_result",
          "data": {
            "text/plain": [
              "array([[4.5501435e-01, 5.4192406e-01, 3.0615514e-03],\n",
              "       [2.0008748e-04, 9.6695119e-01, 3.2848757e-02]], dtype=float32)"
            ]
          },
          "metadata": {},
          "execution_count": 78
        }
      ],
      "source": [
        "x_scores = training_model2.predict(x_data_val, verbose = 1, batch_size = 2)\n",
        "x_scores[:2]"
      ]
    },
    {
      "cell_type": "code",
      "execution_count": 80,
      "metadata": {
        "colab": {
          "base_uri": "https://localhost:8080/",
          "height": 206
        },
        "id": "ThmGAMEQgHby",
        "outputId": "5b175d7a-ea8e-4e66-af91-3f39d02f655b"
      },
      "outputs": [
        {
          "output_type": "execute_result",
          "data": {
            "text/plain": [
              "                                           full_text      Positive  Negative  \\\n",
              "0  will someone please get david grusch in a scif...  4.550143e-01  0.541924   \n",
              "1  david grusch told liberation times    congress...  2.000875e-04  0.966951   \n",
              "2  david grusch responds to rep  mike turner s co...  3.228045e-08  0.917618   \n",
              "3  david grusch told liberation times    congress...  2.000875e-04  0.966951   \n",
              "4  the late nat kobitz   a key figure in the davi...  3.664852e-07  1.000000   \n",
              "\n",
              "        Neutral  Positive_class  Negative_class  Neutral_class  \n",
              "0  3.061551e-03           False            True          False  \n",
              "1  3.284876e-02           False            True          False  \n",
              "2  8.238161e-02           False            True          False  \n",
              "3  3.284876e-02           False            True          False  \n",
              "4  5.111700e-08           False            True          False  "
            ],
            "text/html": [
              "\n",
              "\n",
              "  <div id=\"df-b7141e9a-a823-4322-ae1a-e91232d02889\">\n",
              "    <div class=\"colab-df-container\">\n",
              "      <div>\n",
              "<style scoped>\n",
              "    .dataframe tbody tr th:only-of-type {\n",
              "        vertical-align: middle;\n",
              "    }\n",
              "\n",
              "    .dataframe tbody tr th {\n",
              "        vertical-align: top;\n",
              "    }\n",
              "\n",
              "    .dataframe thead th {\n",
              "        text-align: right;\n",
              "    }\n",
              "</style>\n",
              "<table border=\"1\" class=\"dataframe\">\n",
              "  <thead>\n",
              "    <tr style=\"text-align: right;\">\n",
              "      <th></th>\n",
              "      <th>full_text</th>\n",
              "      <th>Positive</th>\n",
              "      <th>Negative</th>\n",
              "      <th>Neutral</th>\n",
              "      <th>Positive_class</th>\n",
              "      <th>Negative_class</th>\n",
              "      <th>Neutral_class</th>\n",
              "    </tr>\n",
              "  </thead>\n",
              "  <tbody>\n",
              "    <tr>\n",
              "      <th>0</th>\n",
              "      <td>will someone please get david grusch in a scif...</td>\n",
              "      <td>4.550143e-01</td>\n",
              "      <td>0.541924</td>\n",
              "      <td>3.061551e-03</td>\n",
              "      <td>False</td>\n",
              "      <td>True</td>\n",
              "      <td>False</td>\n",
              "    </tr>\n",
              "    <tr>\n",
              "      <th>1</th>\n",
              "      <td>david grusch told liberation times    congress...</td>\n",
              "      <td>2.000875e-04</td>\n",
              "      <td>0.966951</td>\n",
              "      <td>3.284876e-02</td>\n",
              "      <td>False</td>\n",
              "      <td>True</td>\n",
              "      <td>False</td>\n",
              "    </tr>\n",
              "    <tr>\n",
              "      <th>2</th>\n",
              "      <td>david grusch responds to rep  mike turner s co...</td>\n",
              "      <td>3.228045e-08</td>\n",
              "      <td>0.917618</td>\n",
              "      <td>8.238161e-02</td>\n",
              "      <td>False</td>\n",
              "      <td>True</td>\n",
              "      <td>False</td>\n",
              "    </tr>\n",
              "    <tr>\n",
              "      <th>3</th>\n",
              "      <td>david grusch told liberation times    congress...</td>\n",
              "      <td>2.000875e-04</td>\n",
              "      <td>0.966951</td>\n",
              "      <td>3.284876e-02</td>\n",
              "      <td>False</td>\n",
              "      <td>True</td>\n",
              "      <td>False</td>\n",
              "    </tr>\n",
              "    <tr>\n",
              "      <th>4</th>\n",
              "      <td>the late nat kobitz   a key figure in the davi...</td>\n",
              "      <td>3.664852e-07</td>\n",
              "      <td>1.000000</td>\n",
              "      <td>5.111700e-08</td>\n",
              "      <td>False</td>\n",
              "      <td>True</td>\n",
              "      <td>False</td>\n",
              "    </tr>\n",
              "  </tbody>\n",
              "</table>\n",
              "</div>\n",
              "      <button class=\"colab-df-convert\" onclick=\"convertToInteractive('df-b7141e9a-a823-4322-ae1a-e91232d02889')\"\n",
              "              title=\"Convert this dataframe to an interactive table.\"\n",
              "              style=\"display:none;\">\n",
              "\n",
              "  <svg xmlns=\"http://www.w3.org/2000/svg\" height=\"24px\"viewBox=\"0 0 24 24\"\n",
              "       width=\"24px\">\n",
              "    <path d=\"M0 0h24v24H0V0z\" fill=\"none\"/>\n",
              "    <path d=\"M18.56 5.44l.94 2.06.94-2.06 2.06-.94-2.06-.94-.94-2.06-.94 2.06-2.06.94zm-11 1L8.5 8.5l.94-2.06 2.06-.94-2.06-.94L8.5 2.5l-.94 2.06-2.06.94zm10 10l.94 2.06.94-2.06 2.06-.94-2.06-.94-.94-2.06-.94 2.06-2.06.94z\"/><path d=\"M17.41 7.96l-1.37-1.37c-.4-.4-.92-.59-1.43-.59-.52 0-1.04.2-1.43.59L10.3 9.45l-7.72 7.72c-.78.78-.78 2.05 0 2.83L4 21.41c.39.39.9.59 1.41.59.51 0 1.02-.2 1.41-.59l7.78-7.78 2.81-2.81c.8-.78.8-2.07 0-2.86zM5.41 20L4 18.59l7.72-7.72 1.47 1.35L5.41 20z\"/>\n",
              "  </svg>\n",
              "      </button>\n",
              "\n",
              "\n",
              "\n",
              "    <div id=\"df-66059382-083f-4805-9b75-747055826fb3\">\n",
              "      <button class=\"colab-df-quickchart\" onclick=\"quickchart('df-66059382-083f-4805-9b75-747055826fb3')\"\n",
              "              title=\"Suggest charts.\"\n",
              "              style=\"display:none;\">\n",
              "\n",
              "<svg xmlns=\"http://www.w3.org/2000/svg\" height=\"24px\"viewBox=\"0 0 24 24\"\n",
              "     width=\"24px\">\n",
              "    <g>\n",
              "        <path d=\"M19 3H5c-1.1 0-2 .9-2 2v14c0 1.1.9 2 2 2h14c1.1 0 2-.9 2-2V5c0-1.1-.9-2-2-2zM9 17H7v-7h2v7zm4 0h-2V7h2v10zm4 0h-2v-4h2v4z\"/>\n",
              "    </g>\n",
              "</svg>\n",
              "      </button>\n",
              "    </div>\n",
              "\n",
              "<style>\n",
              "  .colab-df-quickchart {\n",
              "    background-color: #E8F0FE;\n",
              "    border: none;\n",
              "    border-radius: 50%;\n",
              "    cursor: pointer;\n",
              "    display: none;\n",
              "    fill: #1967D2;\n",
              "    height: 32px;\n",
              "    padding: 0 0 0 0;\n",
              "    width: 32px;\n",
              "  }\n",
              "\n",
              "  .colab-df-quickchart:hover {\n",
              "    background-color: #E2EBFA;\n",
              "    box-shadow: 0px 1px 2px rgba(60, 64, 67, 0.3), 0px 1px 3px 1px rgba(60, 64, 67, 0.15);\n",
              "    fill: #174EA6;\n",
              "  }\n",
              "\n",
              "  [theme=dark] .colab-df-quickchart {\n",
              "    background-color: #3B4455;\n",
              "    fill: #D2E3FC;\n",
              "  }\n",
              "\n",
              "  [theme=dark] .colab-df-quickchart:hover {\n",
              "    background-color: #434B5C;\n",
              "    box-shadow: 0px 1px 3px 1px rgba(0, 0, 0, 0.15);\n",
              "    filter: drop-shadow(0px 1px 2px rgba(0, 0, 0, 0.3));\n",
              "    fill: #FFFFFF;\n",
              "  }\n",
              "</style>\n",
              "\n",
              "    <script>\n",
              "      async function quickchart(key) {\n",
              "        const containerElement = document.querySelector('#' + key);\n",
              "        const charts = await google.colab.kernel.invokeFunction(\n",
              "            'suggestCharts', [key], {});\n",
              "      }\n",
              "    </script>\n",
              "\n",
              "      <script>\n",
              "\n",
              "function displayQuickchartButton(domScope) {\n",
              "  let quickchartButtonEl =\n",
              "    domScope.querySelector('#df-66059382-083f-4805-9b75-747055826fb3 button.colab-df-quickchart');\n",
              "  quickchartButtonEl.style.display =\n",
              "    google.colab.kernel.accessAllowed ? 'block' : 'none';\n",
              "}\n",
              "\n",
              "        displayQuickchartButton(document);\n",
              "      </script>\n",
              "      <style>\n",
              "    .colab-df-container {\n",
              "      display:flex;\n",
              "      flex-wrap:wrap;\n",
              "      gap: 12px;\n",
              "    }\n",
              "\n",
              "    .colab-df-convert {\n",
              "      background-color: #E8F0FE;\n",
              "      border: none;\n",
              "      border-radius: 50%;\n",
              "      cursor: pointer;\n",
              "      display: none;\n",
              "      fill: #1967D2;\n",
              "      height: 32px;\n",
              "      padding: 0 0 0 0;\n",
              "      width: 32px;\n",
              "    }\n",
              "\n",
              "    .colab-df-convert:hover {\n",
              "      background-color: #E2EBFA;\n",
              "      box-shadow: 0px 1px 2px rgba(60, 64, 67, 0.3), 0px 1px 3px 1px rgba(60, 64, 67, 0.15);\n",
              "      fill: #174EA6;\n",
              "    }\n",
              "\n",
              "    [theme=dark] .colab-df-convert {\n",
              "      background-color: #3B4455;\n",
              "      fill: #D2E3FC;\n",
              "    }\n",
              "\n",
              "    [theme=dark] .colab-df-convert:hover {\n",
              "      background-color: #434B5C;\n",
              "      box-shadow: 0px 1px 3px 1px rgba(0, 0, 0, 0.15);\n",
              "      filter: drop-shadow(0px 1px 2px rgba(0, 0, 0, 0.3));\n",
              "      fill: #FFFFFF;\n",
              "    }\n",
              "  </style>\n",
              "\n",
              "      <script>\n",
              "        const buttonEl =\n",
              "          document.querySelector('#df-b7141e9a-a823-4322-ae1a-e91232d02889 button.colab-df-convert');\n",
              "        buttonEl.style.display =\n",
              "          google.colab.kernel.accessAllowed ? 'block' : 'none';\n",
              "\n",
              "        async function convertToInteractive(key) {\n",
              "          const element = document.querySelector('#df-b7141e9a-a823-4322-ae1a-e91232d02889');\n",
              "          const dataTable =\n",
              "            await google.colab.kernel.invokeFunction('convertToInteractive',\n",
              "                                                     [key], {});\n",
              "          if (!dataTable) return;\n",
              "\n",
              "          const docLinkHtml = 'Like what you see? Visit the ' +\n",
              "            '<a target=\"_blank\" href=https://colab.research.google.com/notebooks/data_table.ipynb>data table notebook</a>'\n",
              "            + ' to learn more about interactive tables.';\n",
              "          element.innerHTML = '';\n",
              "          dataTable['output_type'] = 'display_data';\n",
              "          await google.colab.output.renderOutput(dataTable, element);\n",
              "          const docLink = document.createElement('div');\n",
              "          docLink.innerHTML = docLinkHtml;\n",
              "          element.appendChild(docLink);\n",
              "        }\n",
              "      </script>\n",
              "    </div>\n",
              "  </div>\n"
            ]
          },
          "metadata": {},
          "execution_count": 80
        }
      ],
      "source": [
        "df = pd.DataFrame(x_scores, columns=['Positive', 'Negative', 'Neutral'])\n",
        "new_df = pd.DataFrame(np.where(x_scores == np.max(x_scores, axis=1, keepdims=True), True, False), columns=['Positive_class', 'Negative_class', 'Neutral_class'])\n",
        "# Append new DataFrame to the existing DataFrame (df)\n",
        "df = pd.concat([df, new_df], axis=1)\n",
        "condf = pd.concat([inf, df], axis=1)\n",
        "condf.head()"
      ]
    },
    {
      "cell_type": "code",
      "execution_count": 81,
      "metadata": {
        "id": "uHxdnZy0gYYk"
      },
      "outputs": [],
      "source": [
        "# Buat kolom baru 'Sentiment' berdasarkan nilai maksimum dari setiap baris\n",
        "condf['Sentiment'] = condf[['Positive_class', 'Negative_class', 'Neutral_class']].idxmax(axis=1)\n",
        "condf['Sentiment'] = condf['Sentiment'].str.replace('_class', '')  # Hapus '_class' dari nama kategori"
      ]
    },
    {
      "cell_type": "code",
      "execution_count": 82,
      "metadata": {
        "colab": {
          "base_uri": "https://localhost:8080/",
          "height": 407
        },
        "id": "32AVZ9J3gcCk",
        "outputId": "11853454-db81-4167-e8b2-246ea7af4f8a"
      },
      "outputs": [
        {
          "output_type": "execute_result",
          "data": {
            "text/plain": [
              "                                             full_text      Positive  \\\n",
              "696  in a newsnation exclusive  air force veteran d...  1.024777e-08   \n",
              "96     huge statement   we tried to get in a scif w...  1.411266e-03   \n",
              "180  <user> david grusch shapeshifting back into hi...  5.606662e-02   \n",
              "349  chris mellon just pulled a david grusch  he ju...  5.764147e-03   \n",
              "244  get david grusch on 60 minutes as soon as poss...  9.842770e-04   \n",
              "725  6pm on <user> david grusch   a veteran of the ...  1.586001e-01   \n",
              "547  jeremy corbell  amp  george knapp release davi...  4.356253e-07   \n",
              "384  <user> <user> <user> great  but i hope the hea...  1.338049e-04   \n",
              "551  rep burchette of the house oversight committee...  1.096470e-06   \n",
              "266  grusch has stated that he will provide a speci...  3.133622e-02   \n",
              "\n",
              "     Negative       Neutral  Positive_class  Negative_class  Neutral_class  \\\n",
              "696  1.000000  1.099515e-09           False            True          False   \n",
              "96   0.998543  4.564283e-05           False            True          False   \n",
              "180  0.482851  4.610827e-01           False            True          False   \n",
              "349  0.994229  7.079617e-06           False            True          False   \n",
              "244  0.045262  9.537539e-01           False           False           True   \n",
              "725  0.840603  7.967571e-04           False            True          False   \n",
              "547  0.000374  9.996254e-01           False           False           True   \n",
              "384  0.999354  5.120927e-04           False            True          False   \n",
              "551  0.999998  4.469962e-07           False            True          False   \n",
              "266  0.968188  4.761811e-04           False            True          False   \n",
              "\n",
              "    Sentiment  \n",
              "696  Negative  \n",
              "96   Negative  \n",
              "180  Negative  \n",
              "349  Negative  \n",
              "244   Neutral  \n",
              "725  Negative  \n",
              "547   Neutral  \n",
              "384  Negative  \n",
              "551  Negative  \n",
              "266  Negative  "
            ],
            "text/html": [
              "\n",
              "\n",
              "  <div id=\"df-008f6a33-1cc7-4f54-997f-e3fffd77be9a\">\n",
              "    <div class=\"colab-df-container\">\n",
              "      <div>\n",
              "<style scoped>\n",
              "    .dataframe tbody tr th:only-of-type {\n",
              "        vertical-align: middle;\n",
              "    }\n",
              "\n",
              "    .dataframe tbody tr th {\n",
              "        vertical-align: top;\n",
              "    }\n",
              "\n",
              "    .dataframe thead th {\n",
              "        text-align: right;\n",
              "    }\n",
              "</style>\n",
              "<table border=\"1\" class=\"dataframe\">\n",
              "  <thead>\n",
              "    <tr style=\"text-align: right;\">\n",
              "      <th></th>\n",
              "      <th>full_text</th>\n",
              "      <th>Positive</th>\n",
              "      <th>Negative</th>\n",
              "      <th>Neutral</th>\n",
              "      <th>Positive_class</th>\n",
              "      <th>Negative_class</th>\n",
              "      <th>Neutral_class</th>\n",
              "      <th>Sentiment</th>\n",
              "    </tr>\n",
              "  </thead>\n",
              "  <tbody>\n",
              "    <tr>\n",
              "      <th>696</th>\n",
              "      <td>in a newsnation exclusive  air force veteran d...</td>\n",
              "      <td>1.024777e-08</td>\n",
              "      <td>1.000000</td>\n",
              "      <td>1.099515e-09</td>\n",
              "      <td>False</td>\n",
              "      <td>True</td>\n",
              "      <td>False</td>\n",
              "      <td>Negative</td>\n",
              "    </tr>\n",
              "    <tr>\n",
              "      <th>96</th>\n",
              "      <td>huge statement   we tried to get in a scif w...</td>\n",
              "      <td>1.411266e-03</td>\n",
              "      <td>0.998543</td>\n",
              "      <td>4.564283e-05</td>\n",
              "      <td>False</td>\n",
              "      <td>True</td>\n",
              "      <td>False</td>\n",
              "      <td>Negative</td>\n",
              "    </tr>\n",
              "    <tr>\n",
              "      <th>180</th>\n",
              "      <td>&lt;user&gt; david grusch shapeshifting back into hi...</td>\n",
              "      <td>5.606662e-02</td>\n",
              "      <td>0.482851</td>\n",
              "      <td>4.610827e-01</td>\n",
              "      <td>False</td>\n",
              "      <td>True</td>\n",
              "      <td>False</td>\n",
              "      <td>Negative</td>\n",
              "    </tr>\n",
              "    <tr>\n",
              "      <th>349</th>\n",
              "      <td>chris mellon just pulled a david grusch  he ju...</td>\n",
              "      <td>5.764147e-03</td>\n",
              "      <td>0.994229</td>\n",
              "      <td>7.079617e-06</td>\n",
              "      <td>False</td>\n",
              "      <td>True</td>\n",
              "      <td>False</td>\n",
              "      <td>Negative</td>\n",
              "    </tr>\n",
              "    <tr>\n",
              "      <th>244</th>\n",
              "      <td>get david grusch on 60 minutes as soon as poss...</td>\n",
              "      <td>9.842770e-04</td>\n",
              "      <td>0.045262</td>\n",
              "      <td>9.537539e-01</td>\n",
              "      <td>False</td>\n",
              "      <td>False</td>\n",
              "      <td>True</td>\n",
              "      <td>Neutral</td>\n",
              "    </tr>\n",
              "    <tr>\n",
              "      <th>725</th>\n",
              "      <td>6pm on &lt;user&gt; david grusch   a veteran of the ...</td>\n",
              "      <td>1.586001e-01</td>\n",
              "      <td>0.840603</td>\n",
              "      <td>7.967571e-04</td>\n",
              "      <td>False</td>\n",
              "      <td>True</td>\n",
              "      <td>False</td>\n",
              "      <td>Negative</td>\n",
              "    </tr>\n",
              "    <tr>\n",
              "      <th>547</th>\n",
              "      <td>jeremy corbell  amp  george knapp release davi...</td>\n",
              "      <td>4.356253e-07</td>\n",
              "      <td>0.000374</td>\n",
              "      <td>9.996254e-01</td>\n",
              "      <td>False</td>\n",
              "      <td>False</td>\n",
              "      <td>True</td>\n",
              "      <td>Neutral</td>\n",
              "    </tr>\n",
              "    <tr>\n",
              "      <th>384</th>\n",
              "      <td>&lt;user&gt; &lt;user&gt; &lt;user&gt; great  but i hope the hea...</td>\n",
              "      <td>1.338049e-04</td>\n",
              "      <td>0.999354</td>\n",
              "      <td>5.120927e-04</td>\n",
              "      <td>False</td>\n",
              "      <td>True</td>\n",
              "      <td>False</td>\n",
              "      <td>Negative</td>\n",
              "    </tr>\n",
              "    <tr>\n",
              "      <th>551</th>\n",
              "      <td>rep burchette of the house oversight committee...</td>\n",
              "      <td>1.096470e-06</td>\n",
              "      <td>0.999998</td>\n",
              "      <td>4.469962e-07</td>\n",
              "      <td>False</td>\n",
              "      <td>True</td>\n",
              "      <td>False</td>\n",
              "      <td>Negative</td>\n",
              "    </tr>\n",
              "    <tr>\n",
              "      <th>266</th>\n",
              "      <td>grusch has stated that he will provide a speci...</td>\n",
              "      <td>3.133622e-02</td>\n",
              "      <td>0.968188</td>\n",
              "      <td>4.761811e-04</td>\n",
              "      <td>False</td>\n",
              "      <td>True</td>\n",
              "      <td>False</td>\n",
              "      <td>Negative</td>\n",
              "    </tr>\n",
              "  </tbody>\n",
              "</table>\n",
              "</div>\n",
              "      <button class=\"colab-df-convert\" onclick=\"convertToInteractive('df-008f6a33-1cc7-4f54-997f-e3fffd77be9a')\"\n",
              "              title=\"Convert this dataframe to an interactive table.\"\n",
              "              style=\"display:none;\">\n",
              "\n",
              "  <svg xmlns=\"http://www.w3.org/2000/svg\" height=\"24px\"viewBox=\"0 0 24 24\"\n",
              "       width=\"24px\">\n",
              "    <path d=\"M0 0h24v24H0V0z\" fill=\"none\"/>\n",
              "    <path d=\"M18.56 5.44l.94 2.06.94-2.06 2.06-.94-2.06-.94-.94-2.06-.94 2.06-2.06.94zm-11 1L8.5 8.5l.94-2.06 2.06-.94-2.06-.94L8.5 2.5l-.94 2.06-2.06.94zm10 10l.94 2.06.94-2.06 2.06-.94-2.06-.94-.94-2.06-.94 2.06-2.06.94z\"/><path d=\"M17.41 7.96l-1.37-1.37c-.4-.4-.92-.59-1.43-.59-.52 0-1.04.2-1.43.59L10.3 9.45l-7.72 7.72c-.78.78-.78 2.05 0 2.83L4 21.41c.39.39.9.59 1.41.59.51 0 1.02-.2 1.41-.59l7.78-7.78 2.81-2.81c.8-.78.8-2.07 0-2.86zM5.41 20L4 18.59l7.72-7.72 1.47 1.35L5.41 20z\"/>\n",
              "  </svg>\n",
              "      </button>\n",
              "\n",
              "\n",
              "\n",
              "    <div id=\"df-cc791aad-18ed-4946-a49e-006bbe0730f6\">\n",
              "      <button class=\"colab-df-quickchart\" onclick=\"quickchart('df-cc791aad-18ed-4946-a49e-006bbe0730f6')\"\n",
              "              title=\"Suggest charts.\"\n",
              "              style=\"display:none;\">\n",
              "\n",
              "<svg xmlns=\"http://www.w3.org/2000/svg\" height=\"24px\"viewBox=\"0 0 24 24\"\n",
              "     width=\"24px\">\n",
              "    <g>\n",
              "        <path d=\"M19 3H5c-1.1 0-2 .9-2 2v14c0 1.1.9 2 2 2h14c1.1 0 2-.9 2-2V5c0-1.1-.9-2-2-2zM9 17H7v-7h2v7zm4 0h-2V7h2v10zm4 0h-2v-4h2v4z\"/>\n",
              "    </g>\n",
              "</svg>\n",
              "      </button>\n",
              "    </div>\n",
              "\n",
              "<style>\n",
              "  .colab-df-quickchart {\n",
              "    background-color: #E8F0FE;\n",
              "    border: none;\n",
              "    border-radius: 50%;\n",
              "    cursor: pointer;\n",
              "    display: none;\n",
              "    fill: #1967D2;\n",
              "    height: 32px;\n",
              "    padding: 0 0 0 0;\n",
              "    width: 32px;\n",
              "  }\n",
              "\n",
              "  .colab-df-quickchart:hover {\n",
              "    background-color: #E2EBFA;\n",
              "    box-shadow: 0px 1px 2px rgba(60, 64, 67, 0.3), 0px 1px 3px 1px rgba(60, 64, 67, 0.15);\n",
              "    fill: #174EA6;\n",
              "  }\n",
              "\n",
              "  [theme=dark] .colab-df-quickchart {\n",
              "    background-color: #3B4455;\n",
              "    fill: #D2E3FC;\n",
              "  }\n",
              "\n",
              "  [theme=dark] .colab-df-quickchart:hover {\n",
              "    background-color: #434B5C;\n",
              "    box-shadow: 0px 1px 3px 1px rgba(0, 0, 0, 0.15);\n",
              "    filter: drop-shadow(0px 1px 2px rgba(0, 0, 0, 0.3));\n",
              "    fill: #FFFFFF;\n",
              "  }\n",
              "</style>\n",
              "\n",
              "    <script>\n",
              "      async function quickchart(key) {\n",
              "        const containerElement = document.querySelector('#' + key);\n",
              "        const charts = await google.colab.kernel.invokeFunction(\n",
              "            'suggestCharts', [key], {});\n",
              "      }\n",
              "    </script>\n",
              "\n",
              "      <script>\n",
              "\n",
              "function displayQuickchartButton(domScope) {\n",
              "  let quickchartButtonEl =\n",
              "    domScope.querySelector('#df-cc791aad-18ed-4946-a49e-006bbe0730f6 button.colab-df-quickchart');\n",
              "  quickchartButtonEl.style.display =\n",
              "    google.colab.kernel.accessAllowed ? 'block' : 'none';\n",
              "}\n",
              "\n",
              "        displayQuickchartButton(document);\n",
              "      </script>\n",
              "      <style>\n",
              "    .colab-df-container {\n",
              "      display:flex;\n",
              "      flex-wrap:wrap;\n",
              "      gap: 12px;\n",
              "    }\n",
              "\n",
              "    .colab-df-convert {\n",
              "      background-color: #E8F0FE;\n",
              "      border: none;\n",
              "      border-radius: 50%;\n",
              "      cursor: pointer;\n",
              "      display: none;\n",
              "      fill: #1967D2;\n",
              "      height: 32px;\n",
              "      padding: 0 0 0 0;\n",
              "      width: 32px;\n",
              "    }\n",
              "\n",
              "    .colab-df-convert:hover {\n",
              "      background-color: #E2EBFA;\n",
              "      box-shadow: 0px 1px 2px rgba(60, 64, 67, 0.3), 0px 1px 3px 1px rgba(60, 64, 67, 0.15);\n",
              "      fill: #174EA6;\n",
              "    }\n",
              "\n",
              "    [theme=dark] .colab-df-convert {\n",
              "      background-color: #3B4455;\n",
              "      fill: #D2E3FC;\n",
              "    }\n",
              "\n",
              "    [theme=dark] .colab-df-convert:hover {\n",
              "      background-color: #434B5C;\n",
              "      box-shadow: 0px 1px 3px 1px rgba(0, 0, 0, 0.15);\n",
              "      filter: drop-shadow(0px 1px 2px rgba(0, 0, 0, 0.3));\n",
              "      fill: #FFFFFF;\n",
              "    }\n",
              "  </style>\n",
              "\n",
              "      <script>\n",
              "        const buttonEl =\n",
              "          document.querySelector('#df-008f6a33-1cc7-4f54-997f-e3fffd77be9a button.colab-df-convert');\n",
              "        buttonEl.style.display =\n",
              "          google.colab.kernel.accessAllowed ? 'block' : 'none';\n",
              "\n",
              "        async function convertToInteractive(key) {\n",
              "          const element = document.querySelector('#df-008f6a33-1cc7-4f54-997f-e3fffd77be9a');\n",
              "          const dataTable =\n",
              "            await google.colab.kernel.invokeFunction('convertToInteractive',\n",
              "                                                     [key], {});\n",
              "          if (!dataTable) return;\n",
              "\n",
              "          const docLinkHtml = 'Like what you see? Visit the ' +\n",
              "            '<a target=\"_blank\" href=https://colab.research.google.com/notebooks/data_table.ipynb>data table notebook</a>'\n",
              "            + ' to learn more about interactive tables.';\n",
              "          element.innerHTML = '';\n",
              "          dataTable['output_type'] = 'display_data';\n",
              "          await google.colab.output.renderOutput(dataTable, element);\n",
              "          const docLink = document.createElement('div');\n",
              "          docLink.innerHTML = docLinkHtml;\n",
              "          element.appendChild(docLink);\n",
              "        }\n",
              "      </script>\n",
              "    </div>\n",
              "  </div>\n"
            ]
          },
          "metadata": {},
          "execution_count": 82
        }
      ],
      "source": [
        "condf.sample(10)"
      ]
    }
  ],
  "metadata": {
    "accelerator": "GPU",
    "colab": {
      "gpuType": "T4",
      "provenance": []
    },
    "kernelspec": {
      "display_name": "Python 3",
      "name": "python3"
    },
    "language_info": {
      "codemirror_mode": {
        "name": "ipython",
        "version": 3
      },
      "file_extension": ".py",
      "mimetype": "text/x-python",
      "name": "python",
      "nbconvert_exporter": "python",
      "pygments_lexer": "ipython3",
      "version": "3.9.16"
    },
    "orig_nbformat": 4
  },
  "nbformat": 4,
  "nbformat_minor": 0
}